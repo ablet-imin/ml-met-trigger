{
 "cells": [
  {
   "cell_type": "code",
   "execution_count": 9,
   "id": "7c987ec6-f7b3-4658-a324-82bdc5a566b3",
   "metadata": {},
   "outputs": [
    {
     "name": "stdout",
     "output_type": "stream",
     "text": [
      "The autoreload extension is already loaded. To reload it, use:\n",
      "  %reload_ext autoreload\n"
     ]
    }
   ],
   "source": [
    "import os, sys\n",
    "import numpy as np\n",
    "import pandas as pd\n",
    "import seaborn as sns\n",
    "\n",
    "#for plot with ATLAS styple\n",
    "import matplotlib.pyplot as plt\n",
    "from matplotlib import colors\n",
    "import seaborn as sns\n",
    "\n",
    "#import mplhep as hep\n",
    "#hep.style.use(hep.style.ROOT) # For now ROOT defaults to CMS\n",
    "# Or choose one of the experiment styles\n",
    "#hep.style.use(hep.style.ATLAS)\n",
    "#plt.style.use(hep.style.ATLAS)\n",
    "#be able to read root files.\n",
    "#and convert to numpy or pandas\n",
    "import uproot\n",
    "import gc\n",
    "\n",
    "from IPython.lib.deepreload import reload\n",
    "%load_ext autoreload\n",
    "%autoreload 2\n",
    "\n",
    "from cells import Cells \n",
    "\n",
    "MCdata=\"cell_analysis_JZ0_mu60\"\n",
    "MC_root = f\"/Users/abletimin/cernbox/Trigger/re21.9/{MCdata}/cells.root\"\n",
    "tree_name = \"ntuple\"\n",
    "#Branch = \"cell_e\"\n",
    "#Branches = [\"cell_e\", \"cell_phi\", \"cell_eta\", \"metTruth_et\", \"metTruth_phi\"]\n",
    "#with uproot.open(MC_root+\":\"+tree_name) as events:\n",
    "#            cells_label = events.arrays(Branches[3:], library=\"pd\")\n",
    "        \n",
    "MCdata=\"cell_analysis_mu60\"\n",
    "MC_root = f\"../re21.9/{MCdata}/cells.root\"\n",
    "tree_name = \"ntuple\"\n",
    "\n",
    "x_bin = np.linspace(-3.15, 3.15, num=10)\n",
    "y_bin = np.linspace(-5, 5, num=15)\n",
    "\n",
    "cell_data = Cells(MC_root, unit=\"GeV\")\n",
    "#cell_imgs, cell_label = cell_data.cimg(x_bin, y_bin, batch_size=1000)\n",
    "#cell_vecs, cell_vlabel = cell_data.cvector(x_bin, batch_size=1000)\n",
    "\n",
    "cell_imgs, cell_label = cell_data.cimg_et(x_bin, y_bin, batch_size=1000)\n",
    "#cell_vecs, cell_vlabel = cell_data.cvector_et(np.linspace(-3.15, 3.15, num=33), batch_size=1000)\n"
   ]
  },
  {
   "cell_type": "code",
   "execution_count": 2,
   "id": "013f7c1d-efdd-4594-bd4e-f1b6ae79bdaf",
   "metadata": {},
   "outputs": [
    {
     "data": {
      "text/plain": [
       "<seaborn.axisgrid.FacetGrid at 0x111088d30>"
      ]
     },
     "execution_count": 2,
     "metadata": {},
     "output_type": "execute_result"
    },
    {
     "data": {
      "image/png": "[encoded data removed]",
      "text/plain": [
       "<Figure size 360x360 with 1 Axes>"
      ]
     },
     "metadata": {
      "needs_background": "light"
     },
     "output_type": "display_data"
    }
   ],
   "source": [
    "\n",
    "import seaborn as sns\n",
    "sns.displot(cell_vecs[2,:,0],bins=50)\n",
    "#sns.heatmap(cell_imgs[0,:,:,0])"
   ]
  },
  {
   "cell_type": "code",
   "execution_count": 5,
   "id": "55d548e0-35e2-41e0-9f05-93aba2a2350e",
   "metadata": {},
   "outputs": [
    {
     "name": "stdout",
     "output_type": "stream",
     "text": [
      "(5000, 32)\n",
      "(5000, 32)\n"
     ]
    },
    {
     "data": {
      "text/plain": [
       "<seaborn.axisgrid.FacetGrid at 0x16d1f6f10>"
      ]
     },
     "execution_count": 5,
     "metadata": {},
     "output_type": "execute_result"
    },
    {
     "data": {
      "image/png": "[encoded data removed]",
      "text/plain": [
       "<Figure size 360x360 with 1 Axes>"
      ]
     },
     "metadata": {
      "needs_background": "light"
     },
     "output_type": "display_data"
    }
   ],
   "source": [
    "filters = abs(cell_vecs[:,:,0])>2.0\n",
    "print(filters.shape)\n",
    "Y = cell_vecs[:,:,0]*filters\n",
    "print(Y.shape)\n",
    "Y = Y.sum(axis=-1)*-1.0\n",
    "sns.displot(x=cell_vlabel[:,0],y=Y ,bins=50)"
   ]
  },
  {
   "cell_type": "code",
   "execution_count": 11,
   "id": "e3214d8f-724b-41c5-b4d8-a1fce1948aa3",
   "metadata": {},
   "outputs": [
    {
     "data": {
      "text/plain": [
       "(5000, 14, 9)"
      ]
     },
     "execution_count": 11,
     "metadata": {},
     "output_type": "execute_result"
    }
   ],
   "source": [
    "cell_imgs.shape"
   ]
  },
  {
   "cell_type": "code",
   "execution_count": null,
   "id": "bc30dedd-7bf6-436a-9db2-6a7e8a80026d",
   "metadata": {},
   "outputs": [],
   "source": []
  }
 ],
 "metadata": {
  "kernelspec": {
   "display_name": "Python 3 (ipykernel)",
   "language": "python",
   "name": "python3"
  },
  "language_info": {
   "codemirror_mode": {
    "name": "ipython",
    "version": 3
   },
   "file_extension": ".py",
   "mimetype": "text/x-python",
   "name": "python",
   "nbconvert_exporter": "python",
   "pygments_lexer": "ipython3",
   "version": "3.9.12"
  }
 },
 "nbformat": 4,
 "nbformat_minor": 5
}
