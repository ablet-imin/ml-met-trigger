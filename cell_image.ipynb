{
 "cells": [
  {
   "cell_type": "code",
   "execution_count": null,
   "id": "7c987ec6-f7b3-4658-a324-82bdc5a566b3",
   "metadata": {},
   "outputs": [
    {
     "name": "stdout",
     "output_type": "stream",
     "text": [
      "The autoreload extension is already loaded. To reload it, use:\n",
      "  %reload_ext autoreload\n"
     ]
    }
   ],
   "source": [
    "import os, sys\n",
    "import numpy as np\n",
    "import pandas as pd\n",
    "import seaborn as sns\n",
    "\n",
    "#for plot with ATLAS styple\n",
    "import matplotlib.pyplot as plt\n",
    "from matplotlib import colors\n",
    "import seaborn as sns\n",
    "\n",
    "#import mplhep as hep\n",
    "#hep.style.use(hep.style.ROOT) # For now ROOT defaults to CMS\n",
    "# Or choose one of the experiment styles\n",
    "#hep.style.use(hep.style.ATLAS)\n",
    "#plt.style.use(hep.style.ATLAS)\n",
    "#be able to read root files.\n",
    "#and convert to numpy or pandas\n",
    "import uproot\n",
    "import gc\n",
    "\n",
    "from IPython.lib.deepreload import reload\n",
    "%load_ext autoreload\n",
    "%autoreload 2\n",
    "\n",
    "from cells import Cells \n",
    "\n",
    "MCdata=\"cell_analysis_mu60\"\n",
    "MC_root = f\"/Users/abletimin/cernbox/Trigger/re21.9/{MCdata}/cells.root\"\n",
    "#MC_root = f\"../re21.9/{MCdata}/cells.root\"\n",
    "tree_name = \"ntuple\"\n",
    "#Branch = \"cell_e\"\n",
    "#Branches = [\"cell_e\", \"cell_phi\", \"cell_eta\", \"metTruth_et\", \"metTruth_phi\"]\n",
    "#with uproot.open(MC_root+\":\"+tree_name) as events:\n",
    "#            cells_label = events.arrays(Branches[3:], library=\"pd\")\n",
    "        \n",
    "\n",
    "x_bin = np.linspace(-3.15, 3.15, num=64)\n",
    "y_bin = np.linspace(-5, 5, num=80)\n",
    "\n",
    "cell_data = Cells(MC_root, unit=\"GeV\")\n",
    "cell_imgs, cell_label = cell_data.cimg_et(x_bin, y_bin, batch_size=1000)\n",
    "#cell_vecs, cell_vlabel = cell_data.cvector(x_bin, batch_size=1000)\n",
    "\n",
    "#cell_imgs_et, cell_label_et = cell_data.cimg_et(x_bin, y_bin, batch_size=1000)\n",
    "#cell_vecs_et, cell_vlabel_et = cell_data.cvector_et(np.linspace(-3.15, 3.15, num=33), batch_size=1000)\n"
   ]
  },
  {
   "cell_type": "code",
   "execution_count": 2,
   "id": "013f7c1d-efdd-4594-bd4e-f1b6ae79bdaf",
   "metadata": {},
   "outputs": [
    {
     "data": {
      "text/plain": [
       "<AxesSubplot:>"
      ]
     },
     "execution_count": 2,
     "metadata": {},
     "output_type": "execute_result"
    },
    {
     "data": {
      "image/png": "[encoded data removed]",
      "text/plain": [
       "<Figure size 432x288 with 2 Axes>"
      ]
     },
     "metadata": {
      "needs_background": "light"
     },
     "output_type": "display_data"
    }
   ],
   "source": [
    "\n",
    "import seaborn as sns\n",
    "cmap = sns.diverging_palette(250, 20,s=500, as_cmap=True)\n",
    "#sns.diverging_palette(250, 20, as_cmap=True)\n",
    "#sns.diverging_palette(h_neg=130, h_pos=10, s=99, l=55, sep=3)\n",
    "hit = cell_imgs[6,:,:]\n",
    "#hit[hit<0.001]=0\n",
    "sns.heatmap(hit, cmap=cmap, center=0.00)"
   ]
  },
  {
   "cell_type": "code",
   "execution_count": 124,
   "id": "55d548e0-35e2-41e0-9f05-93aba2a2350e",
   "metadata": {},
   "outputs": [
    {
     "name": "stdout",
     "output_type": "stream",
     "text": [
      "(5000, 32)\n"
     ]
    },
    {
     "data": {
      "text/plain": [
       "<seaborn.axisgrid.FacetGrid at 0x13c6e5820>"
      ]
     },
     "execution_count": 124,
     "metadata": {},
     "output_type": "execute_result"
    },
    {
     "data": {
      "image/png": "[encoded data removed]",
      "text/plain": [
       "<Figure size 360x360 with 1 Axes>"
      ]
     },
     "metadata": {
      "needs_background": "light"
     },
     "output_type": "display_data"
    }
   ],
   "source": [
    "Y = cell_vecs_et[:,:] \n",
    "print(Y.shape)\n",
    "Y = Y.sum(axis=-1)\n",
    "sns.displot(x=cell_vlabel_et[cell_vlabel_et != 0],y=Y ,bins=50)"
   ]
  },
  {
   "cell_type": "code",
   "execution_count": 122,
   "id": "4d37e629-ae2e-4491-baf6-7dd5b3469433",
   "metadata": {},
   "outputs": [
    {
     "name": "stdout",
     "output_type": "stream",
     "text": [
      "(5000, 32)\n"
     ]
    },
    {
     "data": {
      "text/plain": [
       "<seaborn.axisgrid.FacetGrid at 0x13c6eb9a0>"
      ]
     },
     "execution_count": 122,
     "metadata": {},
     "output_type": "execute_result"
    },
    {
     "data": {
      "image/png": "[encoded data removed]",
      "text/plain": [
       "<Figure size 360x360 with 1 Axes>"
      ]
     },
     "metadata": {
      "needs_background": "light"
     },
     "output_type": "display_data"
    }
   ],
   "source": [
    "Y = cell_vecs[:,:,0]\n",
    "Y[abs(Y)<0.5]=0\n",
    " \n",
    "print(Y.shape)\n",
    "Y = Y.sum(axis=-1)\n",
    "sns.displot(x=cell_vlabel[:,0],y=Y ,bins=50)"
   ]
  },
  {
   "cell_type": "code",
   "execution_count": null,
   "id": "032951b2-4271-4b29-9121-507a63e51104",
   "metadata": {},
   "outputs": [],
   "source": []
  }
 ],
 "metadata": {
  "kernelspec": {
   "display_name": "Python 3 (ipykernel)",
   "language": "python",
   "name": "python3"
  },
  "language_info": {
   "codemirror_mode": {
    "name": "ipython",
    "version": 3
   },
   "file_extension": ".py",
   "mimetype": "text/x-python",
   "name": "python",
   "nbconvert_exporter": "python",
   "pygments_lexer": "ipython3",
   "version": "3.9.12"
  }
 },
 "nbformat": 4,
 "nbformat_minor": 5
}
