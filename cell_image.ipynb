{
 "cells": [
  {
   "cell_type": "code",
   "execution_count": 21,
   "id": "7c987ec6-f7b3-4658-a324-82bdc5a566b3",
   "metadata": {},
   "outputs": [
    {
     "name": "stdout",
     "output_type": "stream",
     "text": [
      "The autoreload extension is already loaded. To reload it, use:\n",
      "  %reload_ext autoreload\n"
     ]
    }
   ],
   "source": [
    "import os, sys\n",
    "import numpy as np\n",
    "import pandas as pd\n",
    "import seaborn as sns\n",
    "\n",
    "#for plot with ATLAS styple\n",
    "import matplotlib.pyplot as plt\n",
    "from matplotlib import colors\n",
    "import seaborn as sns\n",
    "\n",
    "import mplhep as hep\n",
    "#hep.style.use(hep.style.ROOT) # For now ROOT defaults to CMS\n",
    "# Or choose one of the experiment styles\n",
    "hep.style.use(hep.style.ATLAS)\n",
    "plt.style.use(hep.style.ATLAS)\n",
    "#be able to read root files.\n",
    "#and convert to numpy or pandas\n",
    "import uproot\n",
    "import gc\n",
    "\n",
    "from IPython.lib.deepreload import reload\n",
    "%load_ext autoreload\n",
    "%autoreload 2\n",
    "\n",
    "from cells import cell_data \n",
    "\n",
    "MCdata=\"cell_analysis_mu60\"\n",
    "MC_root = f\"/Users/abletimin/cernbox/Trigger/re21.9/{MCdata}/cells.root\"\n",
    "#MC_root = f\"../re21.9/{MCdata}/cells.root\"\n",
    "tree_name = \"ntuple\"\n",
    "#Branch = \"cell_e\"\n",
    "#Branches = [\"cell_e\", \"cell_phi\", \"cell_eta\", \"metTruth_et\", \"metTruth_phi\"]\n",
    "with uproot.open(MC_root+\":\"+tree_name) as events:\n",
    "    x_bin = np.linspace(-3.15, 3.15, num=33)\n",
    "    y_bin = np.linspace(-5, 5, num=51)\n",
    "    cell_imgs_ex, cell_label = cell_data(events, x_bin, y_bin, weight='cell_ex', statistic='sum', batch_size=1000)\n",
    "    gc.collect()\n",
    "    \n",
    "    cell_imgs_ey, _ = cell_data(events, x_bin, y_bin, weight='cell_ey', statistic='sum', batch_size=1000)\n",
    "    gc.collect()\n",
    "    \n",
    "    cell_imgs_phi, _ = cell_data(events, x_bin, y_bin, weight='cell_phi', statistic='mean', batch_size=1000)\n",
    "    gc.collect()\n",
    "    \n",
    "    cell_imgs_eta, _ = cell_data(events, x_bin, y_bin, weight='cell_phi', statistic='mean', batch_size=1000)\n",
    "    gc.collect()"
   ]
  },
  {
   "cell_type": "code",
   "execution_count": 6,
   "id": "de80d7bd-40ae-4516-9d14-5cb7b9e25f6e",
   "metadata": {},
   "outputs": [
    {
     "data": {
      "text/plain": [
       "(47000, 50, 32)"
      ]
     },
     "execution_count": 6,
     "metadata": {},
     "output_type": "execute_result"
    }
   ],
   "source": [
    "cell_imgs.shape"
   ]
  },
  {
   "cell_type": "code",
   "execution_count": 13,
   "id": "5296f7a7-6a1e-4b17-b3c4-a4b452a97fec",
   "metadata": {},
   "outputs": [
    {
     "data": {
      "text/plain": [
       "ColormeshArtists(pcolormesh=<matplotlib.collections.QuadMesh object at 0x13f278730>, cbar=<matplotlib.colorbar.Colorbar object at 0x13f278b50>, text=[])"
      ]
     },
     "execution_count": 13,
     "metadata": {},
     "output_type": "execute_result"
    },
    {
     "data": {
      "image/png": "[encoded data removed]",
      "text/plain": [
       "<Figure size 800x600 with 2 Axes>"
      ]
     },
     "metadata": {},
     "output_type": "display_data"
    }
   ],
   "source": [
    "hep.hist2dplot(hit, y_bin, x_bin)"
   ]
  },
  {
   "cell_type": "code",
   "execution_count": 14,
   "id": "24ca87cd-eb5a-4829-96cc-0ce4203686a4",
   "metadata": {},
   "outputs": [
    {
     "data": {
      "text/plain": [
       "(50, 32)"
      ]
     },
     "execution_count": 14,
     "metadata": {},
     "output_type": "execute_result"
    }
   ],
   "source": [
    "hit.shape"
   ]
  },
  {
   "cell_type": "code",
   "execution_count": 16,
   "id": "94ff208c-8ec5-44b9-8e29-a431205e5ea4",
   "metadata": {},
   "outputs": [
    {
     "data": {
      "text/plain": [
       "(7, 5)"
      ]
     },
     "execution_count": 16,
     "metadata": {},
     "output_type": "execute_result"
    }
   ],
   "source": [
    "H.shape"
   ]
  },
  {
   "cell_type": "code",
   "execution_count": 17,
   "id": "b8566b09-78b3-4dde-a051-907637f0689a",
   "metadata": {},
   "outputs": [
    {
     "data": {
      "text/plain": [
       "(8,)"
      ]
     },
     "execution_count": 17,
     "metadata": {},
     "output_type": "execute_result"
    }
   ],
   "source": []
  },
  {
   "cell_type": "code",
   "execution_count": null,
   "id": "158f409b-121b-4a6c-82a7-c05274ea1cad",
   "metadata": {},
   "outputs": [],
   "source": []
  }
 ],
 "metadata": {
  "kernelspec": {
   "display_name": "Python 3 (ipykernel)",
   "language": "python",
   "name": "python3"
  },
  "language_info": {
   "codemirror_mode": {
    "name": "ipython",
    "version": 3
   },
   "file_extension": ".py",
   "mimetype": "text/x-python",
   "name": "python",
   "nbconvert_exporter": "python",
   "pygments_lexer": "ipython3",
   "version": "3.9.12"
  }
 },
 "nbformat": 4,
 "nbformat_minor": 5
}
