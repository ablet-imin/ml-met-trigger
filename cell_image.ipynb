{
 "cells": [
  {
   "cell_type": "code",
   "execution_count": 1,
   "id": "7c987ec6-f7b3-4658-a324-82bdc5a566b3",
   "metadata": {},
   "outputs": [],
   "source": [
    "import os, sys\n",
    "import numpy as np\n",
    "import pandas as pd\n",
    "import seaborn as sns\n",
    "\n",
    "#for plot with ATLAS styple\n",
    "import matplotlib.pyplot as plt\n",
    "from matplotlib import colors\n",
    "import seaborn as sns\n",
    "\n",
    "#import mplhep as hep\n",
    "#hep.style.use(hep.style.ROOT) # For now ROOT defaults to CMS\n",
    "# Or choose one of the experiment styles\n",
    "#hep.style.use(hep.style.ATLAS)\n",
    "#plt.style.use(hep.style.ATLAS)\n",
    "#be able to read root files.\n",
    "#and convert to numpy or pandas\n",
    "import uproot\n",
    "import gc\n",
    "\n",
    "from IPython.lib.deepreload import reload\n",
    "%load_ext autoreload\n",
    "%autoreload 2\n",
    "\n",
    "from cells import Cells \n",
    "\n",
    "MCdata=\"cell_analysis_mu60\"\n",
    "MC_root = f\"/Users/abletimin/cernbox/Trigger/re21.9/{MCdata}/cells.root\"\n",
    "#MC_root = f\"../re21.9/{MCdata}/cells.root\"\n",
    "tree_name = \"ntuple\"\n",
    "#Branch = \"cell_e\"\n",
    "#Branches = [\"cell_e\", \"cell_phi\", \"cell_eta\", \"metTruth_et\", \"metTruth_phi\"]\n",
    "#with uproot.open(MC_root+\":\"+tree_name) as events:\n",
    "#            cells_label = events.arrays(Branches[3:], library=\"pd\")\n",
    "        \n",
    "\n",
    "x_bin = np.linspace(-3.15, 3.15, num=33)\n",
    "y_bin = np.linspace(-5, 5, num=51)\n",
    "\n",
    "cell_data = Cells(MC_root, unit=\"GeV\")\n",
    "cell_imgs, cell_label = cell_data.cimg(x_bin, y_bin, batch_size=1000)\n",
    "#cell_vecs, cell_vlabel = cell_data.cvector(x_bin, batch_size=1000)\n",
    "\n",
    "#cell_imgs_et, cell_label_et = cell_data.cimg_et(x_bin, y_bin, batch_size=1000)\n",
    "#cell_vecs_et, cell_vlabel_et = cell_data.cvector_et(np.linspace(-3.15, 3.15, num=33), batch_size=1000)\n"
   ]
  },
  {
   "cell_type": "code",
   "execution_count": 3,
   "id": "013f7c1d-efdd-4594-bd4e-f1b6ae79bdaf",
   "metadata": {},
   "outputs": [
    {
     "data": {
      "text/plain": [
       "<seaborn.axisgrid.FacetGrid at 0x137f45370>"
      ]
     },
     "execution_count": 3,
     "metadata": {},
     "output_type": "execute_result"
    },
    {
     "data": {
      "image/png": "[encoded data removed]",
      "text/plain": [
       "<Figure size 408.75x360 with 1 Axes>"
      ]
     },
     "metadata": {
      "needs_background": "light"
     },
     "output_type": "display_data"
    }
   ],
   "source": [
    "\n",
    "import seaborn as sns\n",
    "sns.displot(cell_imgs[2,:,:,0],bins=50)\n",
    "#sns.heatmap(cell_imgs[0,:,:,0])"
   ]
  },
  {
   "cell_type": "code",
   "execution_count": 124,
   "id": "55d548e0-35e2-41e0-9f05-93aba2a2350e",
   "metadata": {},
   "outputs": [
    {
     "name": "stdout",
     "output_type": "stream",
     "text": [
      "(5000, 32)\n"
     ]
    },
    {
     "data": {
      "text/plain": [
       "<seaborn.axisgrid.FacetGrid at 0x13c6e5820>"
      ]
     },
     "execution_count": 124,
     "metadata": {},
     "output_type": "execute_result"
    },
    {
     "data": {
      "image/png": "[encoded data removed]",
      "text/plain": [
       "<Figure size 360x360 with 1 Axes>"
      ]
     },
     "metadata": {
      "needs_background": "light"
     },
     "output_type": "display_data"
    }
   ],
   "source": [
    "Y = cell_vecs_et[:,:] \n",
    "print(Y.shape)\n",
    "Y = Y.sum(axis=-1)\n",
    "sns.displot(x=cell_vlabel_et[cell_vlabel_et != 0],y=Y ,bins=50)"
   ]
  },
  {
   "cell_type": "code",
   "execution_count": 122,
   "id": "4d37e629-ae2e-4491-baf6-7dd5b3469433",
   "metadata": {},
   "outputs": [
    {
     "name": "stdout",
     "output_type": "stream",
     "text": [
      "(5000, 32)\n"
     ]
    },
    {
     "data": {
      "text/plain": [
       "<seaborn.axisgrid.FacetGrid at 0x13c6eb9a0>"
      ]
     },
     "execution_count": 122,
     "metadata": {},
     "output_type": "execute_result"
    },
    {
     "data": {
      "image/png": "[encoded data removed]",
      "text/plain": [
       "<Figure size 360x360 with 1 Axes>"
      ]
     },
     "metadata": {
      "needs_background": "light"
     },
     "output_type": "display_data"
    }
   ],
   "source": [
    "Y = cell_vecs[:,:,0]\n",
    "Y[abs(Y)<0.5]=0\n",
    " \n",
    "print(Y.shape)\n",
    "Y = Y.sum(axis=-1)\n",
    "sns.displot(x=cell_vlabel[:,0],y=Y ,bins=50)"
   ]
  },
  {
   "cell_type": "code",
   "execution_count": 1,
   "id": "6806a346-46a5-46c6-ad58-de07267f4f96",
   "metadata": {},
   "outputs": [
    {
     "ename": "NameError",
     "evalue": "name 'sns' is not defined",
     "output_type": "error",
     "traceback": [
      "\u001b[0;31m---------------------------------------------------------------------------\u001b[0m",
      "\u001b[0;31mNameError\u001b[0m                                 Traceback (most recent call last)",
      "\u001b[0;32m/tmp/ipykernel_13604/2992211911.py\u001b[0m in \u001b[0;36m<module>\u001b[0;34m\u001b[0m\n\u001b[0;32m----> 1\u001b[0;31m \u001b[0msns\u001b[0m\u001b[0;34m.\u001b[0m\u001b[0mheatmap\u001b[0m\u001b[0;34m(\u001b[0m\u001b[0mcell_imgs\u001b[0m\u001b[0;34m[\u001b[0m\u001b[0;36m250\u001b[0m\u001b[0;34m,\u001b[0m\u001b[0;34m:\u001b[0m\u001b[0;34m,\u001b[0m\u001b[0;34m:\u001b[0m\u001b[0;34m,\u001b[0m\u001b[0;36m0\u001b[0m\u001b[0;34m]\u001b[0m\u001b[0;34m,\u001b[0m \u001b[0mcmap\u001b[0m\u001b[0;34m=\u001b[0m\u001b[0;34m'coolwarm'\u001b[0m\u001b[0;34m)\u001b[0m\u001b[0;34m\u001b[0m\u001b[0;34m\u001b[0m\u001b[0m\n\u001b[0m",
      "\u001b[0;31mNameError\u001b[0m: name 'sns' is not defined"
     ]
    }
   ],
   "source": [
    "sns.heatmap(cell_imgs[250,:,:,0], cmap='coolwarm')"
   ]
  },
  {
   "cell_type": "code",
   "execution_count": 93,
   "id": "5c6f2c2b-9697-41c0-90fa-47531f21530c",
   "metadata": {},
   "outputs": [
    {
     "data": {
      "text/plain": [
       "39.090734375000004"
      ]
     },
     "execution_count": 93,
     "metadata": {},
     "output_type": "execute_result"
    }
   ],
   "source": [
    "cell_vlabel_et[cell_vlabel_et != 0][1]"
   ]
  },
  {
   "cell_type": "code",
   "execution_count": 114,
   "id": "6f486ebe-9dd1-4cc4-b8d1-20030631669e",
   "metadata": {},
   "outputs": [],
   "source": [
    "Y[abs(Y)>1.0]=0"
   ]
  },
  {
   "cell_type": "code",
   "execution_count": 115,
   "id": "8acffd16-1a4d-49b9-84e2-3821662b8894",
   "metadata": {},
   "outputs": [
    {
     "data": {
      "text/plain": [
       "array([[ 0.        ,  0.81596189,  0.        , ...,  0.        ,\n",
       "         0.        ,  0.        ],\n",
       "       [ 0.        ,  0.        ,  0.        , ...,  0.        ,\n",
       "         0.        ,  0.        ],\n",
       "       [-0.3449034 ,  0.        ,  0.        , ...,  0.        ,\n",
       "         0.        ,  0.        ],\n",
       "       ...,\n",
       "       [ 0.        ,  0.        ,  0.        , ...,  0.        ,\n",
       "        -0.77207555,  0.28705022],\n",
       "       [ 0.        ,  0.        , -0.12190402, ...,  0.        ,\n",
       "         0.30049239,  0.        ],\n",
       "       [ 0.        ,  0.35958312,  0.22654021, ...,  0.        ,\n",
       "         0.        ,  0.        ]])"
      ]
     },
     "execution_count": 115,
     "metadata": {},
     "output_type": "execute_result"
    }
   ],
   "source": [
    "Y"
   ]
  },
  {
   "cell_type": "code",
   "execution_count": null,
   "id": "032951b2-4271-4b29-9121-507a63e51104",
   "metadata": {},
   "outputs": [],
   "source": []
  }
 ],
 "metadata": {
  "kernelspec": {
   "display_name": "Python 3 (ipykernel)",
   "language": "python",
   "name": "python3"
  },
  "language_info": {
   "codemirror_mode": {
    "name": "ipython",
    "version": 3
   },
   "file_extension": ".py",
   "mimetype": "text/x-python",
   "name": "python",
   "nbconvert_exporter": "python",
   "pygments_lexer": "ipython3",
   "version": "3.9.12"
  }
 },
 "nbformat": 4,
 "nbformat_minor": 5
}
