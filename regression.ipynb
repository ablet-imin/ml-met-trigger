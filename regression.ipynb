{
  "nbformat": 4,
  "nbformat_minor": 0,
  "metadata": {
    "colab": {
      "provenance": [],
      "mount_file_id": "12mERcdynXOGELt0kl_GWPwTSB_94XEPo",
      "authorship_tag": "ABX9TyOy3AWEqJkbWWFud1bEOXD8",
      "include_colab_link": true
    },
    "kernelspec": {
      "name": "python3",
      "display_name": "Python 3"
    },
    "language_info": {
      "name": "python"
    },
    "gpuClass": "standard"
  },
  "cells": [
    {
      "cell_type": "markdown",
      "metadata": {
        "id": "view-in-github",
        "colab_type": "text"
      },
      "source": [
        "<a href=\"https://colab.research.google.com/github/ablet-imin/ml-met-trigger/blob/main/regression.ipynb\" target=\"_parent\"><img src=\"https://colab.research.google.com/assets/colab-badge.svg\" alt=\"Open In Colab\"/></a>"
      ]
    },
    {
      "cell_type": "code",
      "execution_count": null,
      "metadata": {
        "id": "ifJXbPvQyyF6"
      },
      "outputs": [],
      "source": [
        "import os, sys\n",
        "import numpy as np\n",
        "import pandas as pd\n",
        "import matplotlib.pyplot as plt\n",
        "import seaborn as sn\n",
        "import tensorflow as tf\n",
        "from sklearn.model_selection import train_test_split\n",
        "from sklearn.metrics import mean_squared_error, mean_absolute_error, r2_score\n",
        "\n",
        "import warnings \n",
        "#warnings.filterwarnings('ignore')\n",
        "#warnings.filterwarnings('ignore', category=DeprecationWarning)\n",
        "from xgboost.sklearn import XGBRegressor\n",
        "from lightgbm import LGBMRegressor\n",
        "\n",
        "from sklearn.linear_model import LinearRegression\n",
        "from sklearn.ensemble import RandomForestRegressor\n",
        "from sklearn.neighbors import KNeighborsRegressor\n",
        "from sklearn.svm import SVR\n",
        "from sklearn.tree import DecisionTreeRegressor\n",
        "from IPython.display import display\n"
      ]
    },
    {
      "cell_type": "code",
      "source": [
        "import h5py\n",
        "with h5py.File('/content/cells_img50_label.h5', 'r') as h5f:\n",
        "        images  = np.array(h5f['images'])\n",
        "        labels = np.array(h5f['labels'])\n",
        "images = images.reshape(-1, images.shape[1]*images.shape[2])\n",
        "x_train, x_test, y_train, y_test = train_test_split(images, labels,\n",
        "                                                test_size=0.2, random_state=42,\n",
        "                                                shuffle=True\n",
        "                                                )"
      ],
      "metadata": {
        "id": "3Xefr4BBVtNl"
      },
      "execution_count": null,
      "outputs": []
    },
    {
      "cell_type": "code",
      "source": [
        "#Linear regression\n",
        "lr_models = {\n",
        "    'xgr' : XGBRegressor(),\n",
        "    'lgb' : LGBMRegressor(),\n",
        "    'lr': LinearRegression(),\n",
        "    #'rfr': RandomForestRegressor(),\n",
        "    'kr' : KNeighborsRegressor(),\n",
        "    #'svr': SVR(kernel='linear'),\n",
        "    'dtr': DecisionTreeRegressor()\n",
        "}\n",
        "nModels = len(lr_models.keys())\n",
        "scores = pd.DataFrame(index=lr_models.keys(),\n",
        "                      columns=['train', 'test', 'test_r2'],\n",
        "                      data=np.zeros((nModels,3)) )\n",
        "met_pred = {}\n",
        "def fit_to_data():\n",
        "  for name, lr in lr_models.items():\n",
        "    lr.fit(x_train, y_train)\n",
        "    scores['train'][name] = lr.score(x_train,y_train)\n",
        "    scores['test'][name] = lr.score(x_test,y_test)\n",
        "    predicted = lr.predict(x_test)\n",
        "    scores['test_r2'][name] = r2_score(y_test, predicted,)\n",
        "    #scores['test_RMS'][name] = mean_squared_error(y_test, predicted, squared=False)\n",
        "    met_pred[name] = predicted\n",
        "    print(f'{name:10}OK')"
      ],
      "metadata": {
        "id": "R8qevzxz8rQC"
      },
      "execution_count": null,
      "outputs": []
    },
    {
      "cell_type": "code",
      "source": [
        "fit_to_data()"
      ],
      "metadata": {
        "colab": {
          "base_uri": "https://localhost:8080/"
        },
        "id": "0O6N00L6UBkw",
        "outputId": "a5c2da4d-a184-488d-af59-0b2f65dcbe32"
      },
      "execution_count": null,
      "outputs": [
        {
          "output_type": "stream",
          "name": "stdout",
          "text": [
            "[16:49:48] WARNING: /workspace/src/objective/regression_obj.cu:152: reg:linear is now deprecated in favor of reg:squarederror.\n",
            "xgr       OK\n",
            "lgb       OK\n",
            "lr        OK\n",
            "kr        OK\n"
          ]
        }
      ]
    },
    {
      "cell_type": "code",
      "source": [
        "#upload results to wandb\n",
        "!pip install wandb"
      ],
      "metadata": {
        "colab": {
          "base_uri": "https://localhost:8080/"
        },
        "id": "5xbTxm13pfW-",
        "outputId": "df292276-49de-48db-c1ec-1195f841f7db"
      },
      "execution_count": null,
      "outputs": [
        {
          "output_type": "stream",
          "name": "stdout",
          "text": [
            "ls: cannot access '/cells_img50_label.h5': No such file or directory\n"
          ]
        }
      ]
    },
    {
      "cell_type": "code",
      "source": [
        "import wandb\n",
        "wandb.login()"
      ],
      "metadata": {
        "id": "4X3dJEt5u59q"
      },
      "execution_count": null,
      "outputs": []
    },
    {
      "cell_type": "code",
      "source": [
        "run = wandb.init(project=\"linearRegression-results\")\n"
      ],
      "metadata": {
        "id": "33q5l5yDu9XD"
      },
      "execution_count": null,
      "outputs": []
    },
    {
      "cell_type": "code",
      "source": [
        "wandb.log({\n",
        "    'scores': scores\n",
        "})\n",
        "\n",
        "met_pred['truth']=y_test\n",
        "wandb.log({\n",
        "    'prediction': met_pred\n",
        "})\n",
        "\n",
        "for name, lr in lr_models.items():\n",
        "  wandb.log({\"name\": wandb.plot.pr_curve(y_test, met_pred[name])})"
      ],
      "metadata": {
        "id": "mOkVzCMivMKc"
      },
      "execution_count": null,
      "outputs": []
    },
    {
      "cell_type": "code",
      "source": [
        "xs=scores.index()\n",
        "ys=[scores[sk].to_numpy() for sk in scores.columns()]"
      ],
      "metadata": {
        "id": "RwxS0LYq0zuD"
      },
      "execution_count": null,
      "outputs": []
    },
    {
      "cell_type": "code",
      "source": [
        "wandb.log({\"Score\" : wandb.plot.line_series(\n",
        "          xs=xs,\n",
        "          ys=ys,\n",
        "          keys=[sk for sk in scores.columns()],\n",
        "          title=\"Two Random Metrics\",\n",
        "          xname=\"x units\")})"
      ],
      "metadata": {
        "id": "7_hqF97Hz-jO"
      },
      "execution_count": null,
      "outputs": []
    }
  ]
}