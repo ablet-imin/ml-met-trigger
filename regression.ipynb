{
 "cells": [
  {
   "cell_type": "markdown",
   "metadata": {
    "colab_type": "text",
    "id": "view-in-github"
   },
   "source": [
    "<a href=\"https://colab.research.google.com/github/ablet-imin/ml-met-trigger/blob/main/regression.ipynb\" target=\"_parent\"><img src=\"https://colab.research.google.com/assets/colab-badge.svg\" alt=\"Open In Colab\"/></a>"
   ]
  },
  {
   "cell_type": "code",
   "execution_count": 64,
   "metadata": {
    "id": "ifJXbPvQyyF6"
   },
   "outputs": [
    {
     "name": "stdout",
     "output_type": "stream",
     "text": [
      "The autoreload extension is already loaded. To reload it, use:\n",
      "  %reload_ext autoreload\n"
     ]
    }
   ],
   "source": [
    "from IPython.lib.deepreload import reload\n",
    "%load_ext autoreload\n",
    "%autoreload 2\n",
    "\n",
    "import os, sys\n",
    "import numpy as np\n",
    "import pandas as pd\n",
    "import matplotlib.pyplot as plt\n",
    "import seaborn as sn\n",
    "import tensorflow as tf\n",
    "from sklearn.model_selection import train_test_split\n",
    "from sklearn.metrics import mean_squared_error, mean_absolute_error, r2_score\n",
    "\n",
    "import warnings \n",
    "#warnings.filterwarnings('ignore')\n",
    "#warnings.filterwarnings('ignore', category=DeprecationWarning)\n",
    "#from xgboost import XGBRegressor\n",
    "#from lightgbm import LGBMRegressor\n",
    "\n",
    "from sklearn.linear_model import LinearRegression\n",
    "from sklearn.ensemble import RandomForestRegressor\n",
    "from sklearn.neighbors import KNeighborsRegressor\n",
    "from sklearn.svm import SVR\n",
    "from sklearn.tree import DecisionTreeRegressor\n",
    "from IPython.display import display\n"
   ]
  },
  {
   "cell_type": "code",
   "execution_count": 65,
   "metadata": {
    "id": "3Xefr4BBVtNl"
   },
   "outputs": [
    {
     "name": "stdout",
     "output_type": "stream",
     "text": [
      "True\n"
     ]
    }
   ],
   "source": [
    "import h5py\n",
    "import cell_data\n",
    "import glob\n",
    "\n",
    "files = list(glob.glob(\"data/ttbar/train-*.h5\"))\n",
    "print(isinstance(files, list))\n",
    "cells_et, cells_ex, cells_ey, label = cell_data.get_data(files,\n",
    "                                                         labelkey=\"MET_Calo_pt\")\n",
    "cells_ey = cells_ey.reshape(-1, cells_ey.shape[1]*cells_ey.shape[2])\n",
    "x_train, x_test, y_train, y_test = train_test_split(cells_ey, label,\n",
    "                                                test_size=0.2, random_state=42,\n",
    "                                                shuffle=True\n",
    "                                                )\n"
   ]
  },
  {
   "cell_type": "code",
   "execution_count": 66,
   "metadata": {
    "id": "R8qevzxz8rQC"
   },
   "outputs": [],
   "source": [
    "#Linear regression\n",
    "lr_models = {\n",
    "    #'xgr' : XGBRegressor(),\n",
    "    #'lgb' : LGBMRegressor(),\n",
    "    'lr': LinearRegression(),\n",
    "    #'rfr': RandomForestRegressor(),\n",
    "    'kr' : KNeighborsRegressor(),\n",
    "    #'svr': SVR(kernel='linear'),\n",
    "    'dtr': DecisionTreeRegressor()\n",
    "}\n",
    "nModels = len(lr_models.keys())\n",
    "scores = pd.DataFrame(index=lr_models.keys(),\n",
    "                      columns=['train', 'test', 'test_r2'],\n",
    "                      data=np.zeros((nModels,3)) )\n",
    "met_pred = {}\n",
    "def fit_to_data():\n",
    "    for name, lr in lr_models.items():\n",
    "        lr.fit(x_train, y_train)\n",
    "        scores['train'][name] = lr.score(x_train,y_train)\n",
    "        scores['test'][name] = lr.score(x_test,y_test)\n",
    "        predicted = lr.predict(x_test)\n",
    "        scores['test_r2'][name] = r2_score(y_test, predicted,)\n",
    "        #scores['test_RMS'][name] = mean_squared_error(y_test, predicted, squared=False)\n",
    "        met_pred[name] = predicted\n",
    "        print(f'{name:10}OK')"
   ]
  },
  {
   "cell_type": "code",
   "execution_count": 67,
   "metadata": {
    "colab": {
     "base_uri": "https://localhost:8080/"
    },
    "id": "0O6N00L6UBkw",
    "outputId": "a5c2da4d-a184-488d-af59-0b2f65dcbe32"
   },
   "outputs": [
    {
     "name": "stdout",
     "output_type": "stream",
     "text": [
      "lr        OK\n",
      "kr        OK\n",
      "dtr       OK\n"
     ]
    }
   ],
   "source": [
    "fit_to_data()"
   ]
  },
  {
   "cell_type": "code",
   "execution_count": 68,
   "metadata": {
    "colab": {
     "base_uri": "https://localhost:8080/"
    },
    "id": "5xbTxm13pfW-",
    "outputId": "df292276-49de-48db-c1ec-1195f841f7db"
   },
   "outputs": [],
   "source": [
    "#upload results to wandb\n",
    "#!pip install wandb"
   ]
  },
  {
   "cell_type": "code",
   "execution_count": 69,
   "metadata": {
    "id": "4X3dJEt5u59q"
   },
   "outputs": [
    {
     "name": "stderr",
     "output_type": "stream",
     "text": [
      "\u001b[34m\u001b[1mwandb\u001b[0m: \u001b[33mWARNING\u001b[0m Calling wandb.login() after wandb.init() has no effect.\n"
     ]
    },
    {
     "data": {
      "text/plain": [
       "True"
      ]
     },
     "execution_count": 69,
     "metadata": {},
     "output_type": "execute_result"
    }
   ],
   "source": [
    "import wandb\n",
    "wandb.login(key=\"bbfdeb3824dbf84bd7fc4fa55c5737dab40a8cb7\")"
   ]
  },
  {
   "cell_type": "code",
   "execution_count": 70,
   "metadata": {
    "id": "33q5l5yDu9XD"
   },
   "outputs": [
    {
     "data": {
      "text/html": [
       "Finishing last run (ID:uqyrj9r1) before initializing another..."
      ],
      "text/plain": [
       "<IPython.core.display.HTML object>"
      ]
     },
     "metadata": {},
     "output_type": "display_data"
    },
    {
     "data": {
      "text/html": [
       "Waiting for W&B process to finish... <strong style=\"color:green\">(success).</strong>"
      ],
      "text/plain": [
       "<IPython.core.display.HTML object>"
      ]
     },
     "metadata": {},
     "output_type": "display_data"
    },
    {
     "data": {
      "application/vnd.jupyter.widget-view+json": {
       "model_id": "0fe304fe0d514dc6a61251a3cb14d518",
       "version_major": 2,
       "version_minor": 0
      },
      "text/plain": [
       "VBox(children=(Label(value='0.732 MB of 0.732 MB uploaded (0.000 MB deduped)\\r'), FloatProgress(value=1.0, max…"
      ]
     },
     "metadata": {},
     "output_type": "display_data"
    },
    {
     "data": {
      "text/html": [
       "Synced <strong style=\"color:#cdcd00\">effortless-thunder-1</strong>: <a href=\"https://wandb.ai/ablet/Regression-linear-et/runs/uqyrj9r1\" target=\"_blank\">https://wandb.ai/ablet/Regression-linear-et/runs/uqyrj9r1</a><br/>Synced 7 W&B file(s), 4 media file(s), 3 artifact file(s) and 0 other file(s)"
      ],
      "text/plain": [
       "<IPython.core.display.HTML object>"
      ]
     },
     "metadata": {},
     "output_type": "display_data"
    },
    {
     "data": {
      "text/html": [
       "Find logs at: <code>./wandb/run-20230105_161941-uqyrj9r1/logs</code>"
      ],
      "text/plain": [
       "<IPython.core.display.HTML object>"
      ]
     },
     "metadata": {},
     "output_type": "display_data"
    },
    {
     "data": {
      "text/html": [
       "Successfully finished last run (ID:uqyrj9r1). Initializing new run:<br/>"
      ],
      "text/plain": [
       "<IPython.core.display.HTML object>"
      ]
     },
     "metadata": {},
     "output_type": "display_data"
    },
    {
     "data": {
      "application/vnd.jupyter.widget-view+json": {
       "model_id": "7b1ff28c27af4eee97043b7126b7256f",
       "version_major": 2,
       "version_minor": 0
      },
      "text/plain": [
       "VBox(children=(Label(value='Waiting for wandb.init()...\\r'), FloatProgress(value=0.01675357985000119, max=1.0)…"
      ]
     },
     "metadata": {},
     "output_type": "display_data"
    },
    {
     "data": {
      "text/html": [
       "wandb version 0.13.7 is available!  To upgrade, please run:\n",
       " $ pip install wandb --upgrade"
      ],
      "text/plain": [
       "<IPython.core.display.HTML object>"
      ]
     },
     "metadata": {},
     "output_type": "display_data"
    },
    {
     "data": {
      "text/html": [
       "Tracking run with wandb version 0.13.4"
      ],
      "text/plain": [
       "<IPython.core.display.HTML object>"
      ]
     },
     "metadata": {},
     "output_type": "display_data"
    },
    {
     "data": {
      "text/html": [
       "Run data is saved locally in <code>/Users/abletimin/cernbox/Phase2_MET_Trigger_project/ml-met-trigger/wandb/run-20230105_162837-237xrx8o</code>"
      ],
      "text/plain": [
       "<IPython.core.display.HTML object>"
      ]
     },
     "metadata": {},
     "output_type": "display_data"
    },
    {
     "data": {
      "text/html": [
       "Syncing run <strong><a href=\"https://wandb.ai/ablet/Regression-linear-ey/runs/237xrx8o\" target=\"_blank\">light-elevator-1</a></strong> to <a href=\"https://wandb.ai/ablet/Regression-linear-ey\" target=\"_blank\">Weights & Biases</a> (<a href=\"https://wandb.me/run\" target=\"_blank\">docs</a>)<br/>"
      ],
      "text/plain": [
       "<IPython.core.display.HTML object>"
      ]
     },
     "metadata": {},
     "output_type": "display_data"
    }
   ],
   "source": [
    "\n",
    "run = wandb.init(project=\"Regression-linear-ey\")\n"
   ]
  },
  {
   "cell_type": "code",
   "execution_count": 71,
   "metadata": {
    "id": "mOkVzCMivMKc"
   },
   "outputs": [],
   "source": [
    "wandb.log({\n",
    "    'scores': scores\n",
    "})\n",
    "\n",
    "met_pred['truth']=y_test\n",
    "\n",
    "wandb.log({\n",
    "    'prediction': pd.DataFrame(met_pred)\n",
    "})\n"
   ]
  },
  {
   "cell_type": "code",
   "execution_count": 72,
   "metadata": {
    "id": "7_hqF97Hz-jO"
   },
   "outputs": [],
   "source": [
    "xs=scores.index.to_list()\n",
    "ys=[scores[sk].to_list() for sk in scores.columns.to_list()]\n",
    "\n",
    "wandb.log({\"Score_lines\" : wandb.plot.line_series(\n",
    "          xs=range(len(xs)),\n",
    "          ys=ys,\n",
    "          keys=scores.columns.to_list(),\n",
    "          title=\"scors\",\n",
    "          xname=\"x units\")})"
   ]
  },
  {
   "cell_type": "code",
   "execution_count": 73,
   "metadata": {},
   "outputs": [],
   "source": [
    "bins = np.linspace(-100, 400, 51)\n",
    "for key in met_pred.keys(): \n",
    "    _hist = np.histogram(met_pred[key], bins)\n",
    "    wandb.log({key: wandb.Histogram(np_histogram=_hist)})"
   ]
  },
  {
   "cell_type": "markdown",
   "metadata": {},
   "source": [
    "## plot Et"
   ]
  },
  {
   "cell_type": "code",
   "execution_count": 74,
   "metadata": {},
   "outputs": [],
   "source": [
    "#for plot with ATLAS styple\n",
    "import matplotlib.pyplot as plt\n",
    "from matplotlib import colors\n",
    "import seaborn as sns\n",
    "\n",
    "import mplhep as hep\n",
    "#hep.style.use(hep.style.ROOT) # For now ROOT defaults to CMS\n",
    "# Or choose one of the experiment styles\n",
    "hep.style.use(hep.style.ATLAS)\n",
    "plt.style.use(hep.style.ATLAS)"
   ]
  },
  {
   "cell_type": "code",
   "execution_count": 75,
   "metadata": {},
   "outputs": [
    {
     "data": {
      "image/png": "[encoded data removed]",
      "text/plain": [
       "<Figure size 800x600 with 1 Axes>"
      ]
     },
     "metadata": {},
     "output_type": "display_data"
    }
   ],
   "source": [
    "#bin all predicted METs\n",
    "bins = np.linspace(-100, 400, 51)\n",
    "fig, axs = plt.subplots()\n",
    "def get_h(key):\n",
    "    h, _ = np.histogram(met_pred[key], bins)\n",
    "    return h\n",
    "    \n",
    "hep.histplot([get_h(key) for key in met_pred.keys()],bins,\n",
    "             ax=axs, label=[key for key in met_pred.keys()] )\n",
    "axs.legend()\n",
    "axs.set_xlabel(r\"$E_{t}^{miss}$ [GeV]\")\n",
    "axs.set_ylabel(r\"Events/10GeV\")\n",
    "axs.set_yscale('log')\n",
    "axs.set_title(r\"Phase II, $t \\bar t$, <$\\mu$>=60\")\n",
    "\n",
    "wandb.log({\"final_plot_log\":wandb.Image(plt)})"
   ]
  },
  {
   "cell_type": "code",
   "execution_count": 76,
   "metadata": {},
   "outputs": [
    {
     "data": {
      "text/plain": [
       "ColormeshArtists(pcolormesh=<matplotlib.collections.QuadMesh object at 0x155f18700>, cbar=<matplotlib.colorbar.Colorbar object at 0x155f18400>, text=[])"
      ]
     },
     "execution_count": 76,
     "metadata": {},
     "output_type": "execute_result"
    },
    {
     "data": {
      "image/png": "[encoded data removed]",
      "text/plain": [
       "<Figure size 800x600 with 2 Axes>"
      ]
     },
     "metadata": {},
     "output_type": "display_data"
    }
   ],
   "source": [
    "fig2D, axs2D = plt.subplots()\n",
    "H, xedges, yedges = np.histogram2d(met_pred['truth'], met_pred['lr'], bins=(bins, bins))\n",
    "H[H==0]=np.NaN\n",
    "hep.hist2dplot(H, xedges, yedges)\n"
   ]
  },
  {
   "cell_type": "code",
   "execution_count": 77,
   "metadata": {},
   "outputs": [
    {
     "data": {
      "text/html": [
       "<div>\n",
       "<style scoped>\n",
       "    .dataframe tbody tr th:only-of-type {\n",
       "        vertical-align: middle;\n",
       "    }\n",
       "\n",
       "    .dataframe tbody tr th {\n",
       "        vertical-align: top;\n",
       "    }\n",
       "\n",
       "    .dataframe thead th {\n",
       "        text-align: right;\n",
       "    }\n",
       "</style>\n",
       "<table border=\"1\" class=\"dataframe\">\n",
       "  <thead>\n",
       "    <tr style=\"text-align: right;\">\n",
       "      <th></th>\n",
       "      <th>train</th>\n",
       "      <th>test</th>\n",
       "      <th>test_r2</th>\n",
       "    </tr>\n",
       "  </thead>\n",
       "  <tbody>\n",
       "    <tr>\n",
       "      <th>lr</th>\n",
       "      <td>0.421272</td>\n",
       "      <td>-0.373086</td>\n",
       "      <td>-0.373086</td>\n",
       "    </tr>\n",
       "    <tr>\n",
       "      <th>kr</th>\n",
       "      <td>0.333632</td>\n",
       "      <td>-0.038544</td>\n",
       "      <td>-0.038544</td>\n",
       "    </tr>\n",
       "    <tr>\n",
       "      <th>dtr</th>\n",
       "      <td>1.000000</td>\n",
       "      <td>-0.796188</td>\n",
       "      <td>-0.796188</td>\n",
       "    </tr>\n",
       "  </tbody>\n",
       "</table>\n",
       "</div>"
      ],
      "text/plain": [
       "        train      test   test_r2\n",
       "lr   0.421272 -0.373086 -0.373086\n",
       "kr   0.333632 -0.038544 -0.038544\n",
       "dtr  1.000000 -0.796188 -0.796188"
      ]
     },
     "execution_count": 77,
     "metadata": {},
     "output_type": "execute_result"
    }
   ],
   "source": [
    "scores"
   ]
  },
  {
   "cell_type": "code",
   "execution_count": null,
   "metadata": {},
   "outputs": [],
   "source": []
  },
  {
   "cell_type": "code",
   "execution_count": null,
   "metadata": {},
   "outputs": [],
   "source": []
  }
 ],
 "metadata": {
  "colab": {
   "authorship_tag": "ABX9TyOy3AWEqJkbWWFud1bEOXD8",
   "include_colab_link": true,
   "mount_file_id": "12mERcdynXOGELt0kl_GWPwTSB_94XEPo",
   "provenance": []
  },
  "gpuClass": "standard",
  "kernelspec": {
   "display_name": "Python 3 (ipykernel)",
   "language": "python",
   "name": "python3"
  },
  "language_info": {
   "codemirror_mode": {
    "name": "ipython",
    "version": 3
   },
   "file_extension": ".py",
   "mimetype": "text/x-python",
   "name": "python",
   "nbconvert_exporter": "python",
   "pygments_lexer": "ipython3",
   "version": "3.9.12"
  }
 },
 "nbformat": 4,
 "nbformat_minor": 4
}
