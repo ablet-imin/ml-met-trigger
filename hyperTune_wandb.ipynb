{
 "cells": [
  {
   "cell_type": "code",
   "execution_count": 18,
   "id": "25eee993-9ee2-4560-9cc7-a6d1dabe7986",
   "metadata": {},
   "outputs": [
    {
     "name": "stdout",
     "output_type": "stream",
     "text": [
      "The autoreload extension is already loaded. To reload it, use:\n",
      "  %reload_ext autoreload\n",
      "Images shape: (47000, 50, 32)\n",
      "Labels shape: (47000,)\n"
     ]
    },
    {
     "data": {
      "text/plain": [
       "1130"
      ]
     },
     "execution_count": 18,
     "metadata": {},
     "output_type": "execute_result"
    }
   ],
   "source": [
    "from IPython.lib.deepreload import reload\n",
    "%load_ext autoreload\n",
    "%autoreload 2\n",
    "\n",
    "import os, sys\n",
    "import numpy as np\n",
    "import pandas as pd\n",
    "import seaborn as sns\n",
    "\n",
    "#for plot with ATLAS styple\n",
    "import matplotlib.pyplot as plt\n",
    "from matplotlib import colors\n",
    "\n",
    "import uproot\n",
    "import gc\n",
    "\n",
    "from cells import Cells \n",
    "from util import load_data\n",
    "\n",
    "images , labels = load_data('data/cells_img50_label.h5', \"images\", \"labels\")\n",
    "\n",
    "\n",
    "print(f\"Images shape: {images.shape}\")\n",
    "print(f\"Labels shape: {labels.shape}\")\n",
    "\n",
    "gc.collect()\n"
   ]
  },
  {
   "cell_type": "markdown",
   "id": "3ebb2629",
   "metadata": {},
   "source": [
    "# Weight and bias"
   ]
  },
  {
   "cell_type": "markdown",
   "id": "6a814f20",
   "metadata": {
    "tags": []
   },
   "source": [
    "# DNN Model"
   ]
  },
  {
   "cell_type": "code",
   "execution_count": 19,
   "id": "04fdfa96-b4aa-4bf5-8cde-0784c89e524d",
   "metadata": {},
   "outputs": [
    {
     "data": {
      "text/plain": [
       "190"
      ]
     },
     "execution_count": 19,
     "metadata": {},
     "output_type": "execute_result"
    }
   ],
   "source": [
    "import os\n",
    "import tensorflow as tf\n",
    "import tensorflow\n",
    "os.environ[\"CUDA_DEVICE_ORDER\"]=\"PCI_BUS_ID\" #If the line below doesn't work, uncomment this line (make sure to comment the line below); it should help.\n",
    "os.environ['CUDA_VISIBLE_DEVICES'] = '-1'\n",
    "\n",
    "\n",
    "from sklearn.model_selection import train_test_split\n",
    "from sklearn.metrics import r2_score\n",
    "\n",
    "x_train, x_test, y_train, y_test = train_test_split(images, labels,\n",
    "                                                       test_size=0.2, random_state=42,\n",
    "                                                        shuffle=True\n",
    "                                                       )\n",
    "    \n",
    "\n",
    "gc.collect()\n",
    "\n",
    "#tf.keras.utils.plot_model(model_DNN, expand_nested=True)\n"
   ]
  },
  {
   "cell_type": "code",
   "execution_count": 3,
   "id": "68ded1c1",
   "metadata": {},
   "outputs": [
    {
     "name": "stderr",
     "output_type": "stream",
     "text": [
      "\u001b[34m\u001b[1mwandb\u001b[0m: Currently logged in as: \u001b[33mablet\u001b[0m. Use \u001b[1m`wandb login --relogin`\u001b[0m to force relogin\n"
     ]
    },
    {
     "data": {
      "text/plain": [
       "True"
      ]
     },
     "execution_count": 3,
     "metadata": {},
     "output_type": "execute_result"
    }
   ],
   "source": [
    "import wandb\n",
    "wandb.login()"
   ]
  },
  {
   "cell_type": "code",
   "execution_count": 41,
   "id": "280bb934-500b-4b01-815d-ae00cba10a62",
   "metadata": {},
   "outputs": [
    {
     "data": {
      "text/html": [
       "Finishing last run (ID:3cgfdvy5) before initializing another..."
      ],
      "text/plain": [
       "<IPython.core.display.HTML object>"
      ]
     },
     "metadata": {},
     "output_type": "display_data"
    },
    {
     "data": {
      "text/html": [
       "Waiting for W&B process to finish... <strong style=\"color:green\">(success).</strong>"
      ],
      "text/plain": [
       "<IPython.core.display.HTML object>"
      ]
     },
     "metadata": {},
     "output_type": "display_data"
    },
    {
     "data": {
      "text/html": [
       "Synced <strong style=\"color:#cdcd00\">wobbly-field-2</strong>: <a href=\"https://wandb.ai/ablet/ml-met-trigger/runs/3cgfdvy5\" target=\"_blank\">https://wandb.ai/ablet/ml-met-trigger/runs/3cgfdvy5</a><br/>Synced 7 W&B file(s), 0 media file(s), 0 artifact file(s) and 0 other file(s)"
      ],
      "text/plain": [
       "<IPython.core.display.HTML object>"
      ]
     },
     "metadata": {},
     "output_type": "display_data"
    },
    {
     "data": {
      "text/html": [
       "Find logs at: <code>./wandb/run-20221118_163737-3cgfdvy5/logs</code>"
      ],
      "text/plain": [
       "<IPython.core.display.HTML object>"
      ]
     },
     "metadata": {},
     "output_type": "display_data"
    },
    {
     "data": {
      "text/html": [
       "Successfully finished last run (ID:3cgfdvy5). Initializing new run:<br/>"
      ],
      "text/plain": [
       "<IPython.core.display.HTML object>"
      ]
     },
     "metadata": {},
     "output_type": "display_data"
    },
    {
     "data": {
      "application/vnd.jupyter.widget-view+json": {
       "model_id": "8bafb227447a403fa9a2335eb6fb569c",
       "version_major": 2,
       "version_minor": 0
      },
      "text/plain": [
       "VBox(children=(Label(value='Waiting for wandb.init()...\\r'), FloatProgress(value=0.016752538899997185, max=1.0…"
      ]
     },
     "metadata": {},
     "output_type": "display_data"
    },
    {
     "data": {
      "text/html": [
       "wandb version 0.13.5 is available!  To upgrade, please run:\n",
       " $ pip install wandb --upgrade"
      ],
      "text/plain": [
       "<IPython.core.display.HTML object>"
      ]
     },
     "metadata": {},
     "output_type": "display_data"
    },
    {
     "data": {
      "text/html": [
       "Tracking run with wandb version 0.13.4"
      ],
      "text/plain": [
       "<IPython.core.display.HTML object>"
      ]
     },
     "metadata": {},
     "output_type": "display_data"
    },
    {
     "data": {
      "text/html": [
       "Run data is saved locally in <code>/Users/abletimin/cernbox/Trigger/ml-met-trigger/wandb/run-20221118_164908-37eymsag</code>"
      ],
      "text/plain": [
       "<IPython.core.display.HTML object>"
      ]
     },
     "metadata": {},
     "output_type": "display_data"
    },
    {
     "data": {
      "text/html": [
       "Syncing run <strong><a href=\"https://wandb.ai/ablet/ml-met-trigger/runs/37eymsag\" target=\"_blank\">peach-frog-3</a></strong> to <a href=\"https://wandb.ai/ablet/ml-met-trigger\" target=\"_blank\">Weights & Biases</a> (<a href=\"https://wandb.me/run\" target=\"_blank\">docs</a>)<br/>"
      ],
      "text/plain": [
       "<IPython.core.display.HTML object>"
      ]
     },
     "metadata": {},
     "output_type": "display_data"
    },
    {
     "name": "stderr",
     "output_type": "stream",
     "text": [
      "\u001b[34m\u001b[1mwandb\u001b[0m:   5 of 5 files downloaded.  \n"
     ]
    }
   ],
   "source": [
    "run = wandb.init()\n",
    "artifact = run.use_artifact('ablet/model-registry/met-1D-CNN:v0', type='model')\n",
    "artifact_dir = artifact.download()"
   ]
  },
  {
   "cell_type": "code",
   "execution_count": 35,
   "id": "d6333a48-038d-42b9-9ed8-b218cbb83446",
   "metadata": {},
   "outputs": [],
   "source": [
    "#get best model\n",
    "import tensorflow as tf\n",
    "model = tf.keras.models.load_model(artifact_dir+\"/models/met_nn.h5\")"
   ]
  },
  {
   "cell_type": "code",
   "execution_count": 36,
   "id": "e6268385-ea5c-4fc0-be8d-78cbf988ef84",
   "metadata": {},
   "outputs": [
    {
     "name": "stdout",
     "output_type": "stream",
     "text": [
      "Model: \"model\"\n",
      "_________________________________________________________________\n",
      " Layer (type)                Output Shape              Param #   \n",
      "=================================================================\n",
      " input_1 (InputLayer)        [(None, 50, 32)]          0         \n",
      "                                                                 \n",
      " DNN (Sequential)            (None, 200)               320200    \n",
      "                                                                 \n",
      " regression (Dense)          (None, 1)                 201       \n",
      "                                                                 \n",
      "=================================================================\n",
      "Total params: 320,401\n",
      "Trainable params: 320,401\n",
      "Non-trainable params: 0\n",
      "_________________________________________________________________\n"
     ]
    }
   ],
   "source": [
    "model.summary()"
   ]
  },
  {
   "cell_type": "code",
   "execution_count": 37,
   "id": "15ddea41-4f64-4426-b531-c68ab48bf1a3",
   "metadata": {},
   "outputs": [
    {
     "name": "stdout",
     "output_type": "stream",
     "text": [
      "294/294 [==============================] - 0s 757us/step - loss: 33.4284 - mean_absolute_error: 33.4284\n"
     ]
    },
    {
     "data": {
      "text/plain": [
       "[33.428443908691406, 33.428443908691406]"
      ]
     },
     "execution_count": 37,
     "metadata": {},
     "output_type": "execute_result"
    }
   ],
   "source": [
    "model.evaluate(x_test, y_test)"
   ]
  },
  {
   "cell_type": "code",
   "execution_count": 38,
   "id": "64e43e8a-2494-4da5-8f82-f7f7baaf0464",
   "metadata": {},
   "outputs": [
    {
     "name": "stdout",
     "output_type": "stream",
     "text": [
      "294/294 [==============================] - 0s 700us/step\n"
     ]
    }
   ],
   "source": [
    "y_predict = model.predict(x_test)"
   ]
  },
  {
   "cell_type": "code",
   "execution_count": 39,
   "id": "0b163d0d-1a26-4491-aca4-d747043ab0be",
   "metadata": {},
   "outputs": [
    {
     "data": {
      "text/plain": [
       "array([[57.60187],\n",
       "       [57.60187],\n",
       "       [57.60187],\n",
       "       ...,\n",
       "       [57.60187],\n",
       "       [57.60187],\n",
       "       [57.60187]], dtype=float32)"
      ]
     },
     "execution_count": 39,
     "metadata": {},
     "output_type": "execute_result"
    }
   ],
   "source": [
    "y_predict"
   ]
  },
  {
   "cell_type": "code",
   "execution_count": 32,
   "id": "9e6c7ca6-8eb9-4f54-b00a-a3ca86edf749",
   "metadata": {},
   "outputs": [],
   "source": [
    "def test_model(model, x_test, y_test, output_path):\n",
    "    predicted = model.predict(x_test)\n",
    "\n",
    "    def np_met(X, axis=1):\n",
    "        return np.sqrt( np.sum(np.square(X), axis) )\n",
    "    \n",
    "    print(f\"predicted_shape: {predicted.shape}\")\n",
    "    predicted_met = predicted.flatten()\n",
    "    true_met = y_test.flatten()\n",
    "    \n",
    "    \n",
    "    print(f\"MSE: {tf.keras.losses.mean_squared_error(true_met, predicted_met)}\")\n",
    "    print(\"MAE: \", tf.keras.losses.mean_absolute_error(true_met, predicted_met))\n",
    "    \n",
    "    fig = plt.figure(figsize =(8, 6))\n",
    "    #plt.scatter(np.squeeze(true_met),np.squeeze(predicted_met), marker='o', alpha=0.7)\n",
    "    plt.hist2d(np.squeeze(true_met),np.squeeze(predicted_met),bins=100, \n",
    "               cmap='jet', cmin=0.5)\n",
    "    plt.colorbar()\n",
    "    plt.xlabel(\"truth met\")\n",
    "    plt.ylabel(\"predicted met\")\n",
    "    plt.savefig(f\"{output_path}/pred_met_scatter.pdf\")\n",
    "    \n",
    "    fig = plt.figure(figsize =(8, 6))\n",
    "    _,bins,_ = plt.hist(true_met, bins=100, alpha=0.5, histtype='step', color='Blue')\n",
    "    _ = plt.hist(predicted_met, bins=bins,alpha=0.7, color='red')\n",
    "    plt.xlabel(f\"MET\")\n",
    "    plt.ylabel(\"counts\")\n",
    "    plt.savefig(f\"{output_path}/pred_met.pdf\")\n",
    "    \n",
    "    #plot predictict\n",
    "    def plot_XY(y_pred, y_true, label):\n",
    "        fig = plt.figure(figsize =(8, 6))\n",
    "        #plt.scatter(np.squeeze(y_true),np.squeeze(y_pred), marker='o', alpha=0.7)\n",
    "        plt.hist2d(np.squeeze(y_true),np.squeeze(y_pred),bins=100, cmap='jet', cmin=1)\n",
    "        plt.colorbar()\n",
    "        plt.xlabel(f\"truth {label}\")\n",
    "        plt.ylabel(f\"predicted {label}\")\n",
    "        ##Hist plot\n",
    "        fig = plt.figure(figsize =(8, 6))\n",
    "        _,bins,_ = plt.hist(y_true, bins=100, alpha=0.5, histtype='step', color='Blue')\n",
    "        _ = plt.hist(y_pred, bins=bins,alpha=0.7, color='red')\n",
    "        plt.xlabel(f\"MET {label}\")\n",
    "        plt.ylabel(\"counts\")\n",
    "        plt.savefig(f\"{output_path}/pred_{label}.pdf\")\n",
    "    \n",
    "    #Diff between pred and truth\n",
    "    delta = true_met-predicted_met\n",
    "    #gc.collect()\n",
    "    _bins=np.linspace(-400,400,80)\n",
    "    fig = plt.figure(figsize =(8, 6))\n",
    "    _ = plt.hist(delta, bins=_bins)\n",
    "    plt.xlabel(\"truth - pred\")\n",
    "    plt.ylabel(\"counts\")\n",
    "    plt.savefig(f\"{output_path}/pred_met_diff.pdf\")"
   ]
  },
  {
   "cell_type": "code",
   "execution_count": 40,
   "id": "3d37fbf1-14d3-497b-a435-19a579773fd5",
   "metadata": {},
   "outputs": [
    {
     "name": "stdout",
     "output_type": "stream",
     "text": [
      "294/294 [==============================] - 0s 699us/step\n",
      "predicted_shape: (9400, 1)\n",
      "MSE: 2342.173095703125\n",
      "MAE:  tf.Tensor(33.428455, shape=(), dtype=float32)\n"
     ]
    },
    {
     "data": {
      "image/png": "[encoded data removed]",
      "text/plain": [
       "<Figure size 576x432 with 2 Axes>"
      ]
     },
     "metadata": {
      "needs_background": "light"
     },
     "output_type": "display_data"
    },
    {
     "data": {
      "image/png": "[encoded data removed]",
      "text/plain": [
       "<Figure size 576x432 with 1 Axes>"
      ]
     },
     "metadata": {
      "needs_background": "light"
     },
     "output_type": "display_data"
    },
    {
     "data": {
      "image/png": "[encoded data removed]",
      "text/plain": [
       "<Figure size 576x432 with 1 Axes>"
      ]
     },
     "metadata": {
      "needs_background": "light"
     },
     "output_type": "display_data"
    }
   ],
   "source": [
    "test_model(model, x_test, y_test, output_path=\"train_cnn/predict\")"
   ]
  },
  {
   "cell_type": "code",
   "execution_count": 46,
   "id": "b2ad28b1-31c6-4e36-931c-441f56b02103",
   "metadata": {},
   "outputs": [],
   "source": [
    "data = [y_predict.flatten(),y_test]\n",
    "wandb.log({\"MET\": wandb.Histogram(data)})"
   ]
  },
  {
   "cell_type": "code",
   "execution_count": 43,
   "id": "a5701767-4ff8-441c-a840-acd45863bc68",
   "metadata": {},
   "outputs": [
    {
     "ename": "AttributeError",
     "evalue": "'list' object has no attribute 'shape'",
     "output_type": "error",
     "traceback": [
      "\u001b[0;31m---------------------------------------------------------------------------\u001b[0m",
      "\u001b[0;31mAttributeError\u001b[0m                            Traceback (most recent call last)",
      "\u001b[0;32m/var/folders/dc/8lkrgyw56fg2tk4zns31r8540000gn/T/ipykernel_20978/3993293784.py\u001b[0m in \u001b[0;36m<cell line: 1>\u001b[0;34m()\u001b[0m\n\u001b[0;32m----> 1\u001b[0;31m \u001b[0mdata\u001b[0m\u001b[0;34m.\u001b[0m\u001b[0mshape\u001b[0m\u001b[0;34m\u001b[0m\u001b[0;34m\u001b[0m\u001b[0m\n\u001b[0m",
      "\u001b[0;31mAttributeError\u001b[0m: 'list' object has no attribute 'shape'"
     ]
    }
   ],
   "source": [
    "data.shape"
   ]
  },
  {
   "cell_type": "code",
   "execution_count": null,
   "id": "18a481d2-f88f-49c4-99ba-8d6523bcd765",
   "metadata": {},
   "outputs": [],
   "source": []
  }
 ],
 "metadata": {
  "kernelspec": {
   "display_name": "Python 3 (ipykernel)",
   "language": "python",
   "name": "python3"
  },
  "language_info": {
   "codemirror_mode": {
    "name": "ipython",
    "version": 3
   },
   "file_extension": ".py",
   "mimetype": "text/x-python",
   "name": "python",
   "nbconvert_exporter": "python",
   "pygments_lexer": "ipython3",
   "version": "3.9.12"
  },
  "sparkconnect": {
   "bundled_options": [
    "MemoryIntensive",
    "ComputeIntensive",
    "SparkMetrics",
    "LongRunningAnalysis"
   ],
   "list_of_options": []
  }
 },
 "nbformat": 4,
 "nbformat_minor": 5
}
