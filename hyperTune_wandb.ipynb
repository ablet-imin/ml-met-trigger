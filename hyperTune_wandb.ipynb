{
 "cells": [
  {
   "cell_type": "code",
   "execution_count": 1,
   "id": "25eee993-9ee2-4560-9cc7-a6d1dabe7986",
   "metadata": {},
   "outputs": [
    {
     "name": "stdout",
     "output_type": "stream",
     "text": [
      "Cell image shape: (47000, 50, 32)\n",
      "Image label shape: (47000, 1)\n",
      "dim_fletten = 1600\n"
     ]
    }
   ],
   "source": [
    "from IPython.lib.deepreload import reload\n",
    "%load_ext autoreload\n",
    "%autoreload 2\n",
    "\n",
    "import os, sys\n",
    "import numpy as np\n",
    "import pandas as pd\n",
    "import seaborn as sns\n",
    "\n",
    "#for plot with ATLAS styple\n",
    "import matplotlib.pyplot as plt\n",
    "from matplotlib import colors\n",
    "\n",
    "import uproot\n",
    "import gc\n",
    "\n",
    "from cells import Cells \n",
    "\n",
    "MCdata=\"cell_analysis_mu60\"\n",
    "MC_root = f\"../re21.9/{MCdata}/cells.root\"\n",
    "tree_name = \"ntuple\"\n",
    "        \n",
    "x_bin = np.linspace(-3.15, 3.15, num=33)\n",
    "y_bin = np.linspace(-5, 5, num=51)\n",
    "\n",
    "cell_data = Cells(MC_root, unit=\"GeV\")\n",
    "#cell_imgs, cell_label = cell_data.cimg(x_bin, y_bin, batch_size=500)\n",
    "cell_imgs, cell_label = cell_data.cimg_et(x_bin, y_bin, batch_size=500)\n",
    "print(f\"Cell image shape: {cell_imgs.shape}\")\n",
    "print(f\"Image label shape: {cell_label.shape}\")\n",
    "\n",
    "gc.collect()\n",
    "\n",
    "input_shapes = cell_imgs.shape[1:]\n",
    "dim_fletten = np.prod(input_shapes)\n",
    "print(f\"dim_fletten = {dim_fletten}\")"
   ]
  },
  {
   "cell_type": "markdown",
   "id": "3ebb2629",
   "metadata": {},
   "source": [
    "# Weight and bias"
   ]
  },
  {
   "cell_type": "markdown",
   "id": "6a814f20",
   "metadata": {
    "tags": []
   },
   "source": [
    "# DNN Model"
   ]
  },
  {
   "cell_type": "code",
   "execution_count": 2,
   "id": "04fdfa96-b4aa-4bf5-8cde-0784c89e524d",
   "metadata": {},
   "outputs": [
    {
     "name": "stdout",
     "output_type": "stream",
     "text": [
      "The autoreload extension is already loaded. To reload it, use:\n",
      "  %reload_ext autoreload\n"
     ]
    },
    {
     "name": "stderr",
     "output_type": "stream",
     "text": [
      "2022-10-27 14:50:35.231873: I tensorflow/core/platform/cpu_feature_guard.cc:193] This TensorFlow binary is optimized with oneAPI Deep Neural Network Library (oneDNN) to use the following CPU instructions in performance-critical operations:  SSE4.1 SSE4.2\n",
      "To enable them in other operations, rebuild TensorFlow with the appropriate compiler flags.\n"
     ]
    },
    {
     "data": {
      "text/plain": [
       "22"
      ]
     },
     "execution_count": 2,
     "metadata": {},
     "output_type": "execute_result"
    }
   ],
   "source": [
    "from IPython.lib.deepreload import reload\n",
    "%load_ext autoreload\n",
    "%autoreload 2\n",
    "\n",
    "import os\n",
    "import tensorflow as tf\n",
    "os.environ[\"CUDA_DEVICE_ORDER\"]=\"PCI_BUS_ID\" #If the line below doesn't work, uncomment this line (make sure to comment the line below); it should help.\n",
    "os.environ['CUDA_VISIBLE_DEVICES'] = '-1'\n",
    "from tensorflow.keras.layers import Input, InputLayer, Dense, Reshape, Flatten, Dropout\n",
    "from tensorflow.keras.layers import BatchNormalization, Activation, ZeroPadding2D\n",
    "from tensorflow.keras.layers import Conv2D, MaxPooling2D\n",
    "from tensorflow.keras.models import Sequential, Model\n",
    "from tensorflow.keras.optimizers import Adam\n",
    "from tensorflow.keras.layers import Layer, GaussianNoise\n",
    "from tensorflow.keras import backend as K\n",
    "\n",
    "from sklearn.model_selection import train_test_split\n",
    "from sklearn.metrics import r2_score\n",
    "\n",
    "import models\n",
    "from models import MeanSquaredError_ET, MSPE_ET\n",
    "\n",
    "\n",
    "\n",
    "x_train, x_test, y_train, y_test = train_test_split(cell_imgs, cell_label,\n",
    "                                                       test_size=0.2, random_state=42,\n",
    "                                                        shuffle=True\n",
    "                                                       )\n",
    "x_train, x_test = x_train.reshape((-1,dim_fletten)), x_test.reshape((-1,dim_fletten))\n",
    "\n",
    "##############\n",
    "###########DNN\n",
    "def hyper_mode(config):\n",
    "    \n",
    "    model_DNN = models.DNN(h_dim=config['h_layers'], out_dim=1,\n",
    "                                     activation=config['activation'], \n",
    "                                     L1L2=tf.keras.regularizers.L1L2(l1=0, l2=0.1))\n",
    "    #compile model\n",
    "    model_DNN.compile(optimizer=Adam(learning_rate=config['lr']),\n",
    "              loss=config['loss'], \n",
    "              metrics=['mean_absolute_error'] \n",
    "             )\n",
    "\n",
    "    return model_DNN\n",
    "\n",
    "\n",
    "gc.collect()\n",
    "\n",
    "#tf.keras.utils.plot_model(model_DNN, expand_nested=True)\n"
   ]
  },
  {
   "cell_type": "code",
   "execution_count": 3,
   "id": "68ded1c1",
   "metadata": {},
   "outputs": [
    {
     "name": "stderr",
     "output_type": "stream",
     "text": [
      "\u001b[34m\u001b[1mwandb\u001b[0m: Currently logged in as: \u001b[33mablet\u001b[0m. Use \u001b[1m`wandb login --relogin`\u001b[0m to force relogin\n"
     ]
    },
    {
     "data": {
      "text/plain": [
       "True"
      ]
     },
     "execution_count": 3,
     "metadata": {},
     "output_type": "execute_result"
    }
   ],
   "source": [
    "import wandb\n",
    "wandb.login()"
   ]
  },
  {
   "cell_type": "code",
   "execution_count": 4,
   "id": "1c6e269a-f3a6-49d9-b2f0-58327d7a9cad",
   "metadata": {},
   "outputs": [
    {
     "name": "stdout",
     "output_type": "stream",
     "text": [
      "Create sweep with ID: v40zhba2\n",
      "Sweep URL: https://wandb.ai/ablet/hyperTune-NN/sweeps/v40zhba2\n"
     ]
    }
   ],
   "source": [
    "# Define sweep config\n",
    "sweep_configuration = {\n",
    "    'method': 'random',\n",
    "    'name': 'sweep',\n",
    "    'metric': {'goal': 'minimize', 'name': 'val_mean_absolute_error'},\n",
    "    'parameters': \n",
    "    {\n",
    "        'activation': {'values': ['relu', 'linear']},\n",
    "        'loss' : {'values': ['mean_squared_error', 'mean_absolute_error']},\n",
    "        'h_layers' : {'values': [[2000], [1500], [1000], [500], [250]] },\n",
    "        'epochs': {'value': 200},\n",
    "        'lr': {'max': 0.1, 'min': 0.0001}\n",
    "     }\n",
    "}\n",
    "\n",
    "# Initialize sweep by passing in config. (Optional) Provide a name of the project.\n",
    "sweep_id = wandb.sweep(sweep=sweep_configuration, project='hyperTune-NN')"
   ]
  },
  {
   "cell_type": "code",
   "execution_count": 5,
   "id": "06652200",
   "metadata": {},
   "outputs": [
    {
     "name": "stderr",
     "output_type": "stream",
     "text": [
      "\u001b[34m\u001b[1mwandb\u001b[0m: Agent Starting Run: qd3wfz7e with config:\n",
      "\u001b[34m\u001b[1mwandb\u001b[0m: \tactivation: relu\n",
      "\u001b[34m\u001b[1mwandb\u001b[0m: \tepochs: 200\n",
      "\u001b[34m\u001b[1mwandb\u001b[0m: \th_layers: [2000]\n",
      "\u001b[34m\u001b[1mwandb\u001b[0m: \tloss: mean_absolute_error\n",
      "\u001b[34m\u001b[1mwandb\u001b[0m: \tlr: 0.06324541681529575\n",
      "\u001b[34m\u001b[1mwandb\u001b[0m: \u001b[33mWARNING\u001b[0m Ignored wandb.init() arg project when running a sweep.\n"
     ]
    },
    {
     "data": {
      "text/html": [
       "Tracking run with wandb version 0.13.4"
      ],
      "text/plain": [
       "<IPython.core.display.HTML object>"
      ]
     },
     "metadata": {},
     "output_type": "display_data"
    },
    {
     "data": {
      "text/html": [
       "Run data is saved locally in <code>/Users/abletimin/cernbox/Trigger/ml-met-trigger/wandb/run-20221027_145059-qd3wfz7e</code>"
      ],
      "text/plain": [
       "<IPython.core.display.HTML object>"
      ]
     },
     "metadata": {},
     "output_type": "display_data"
    },
    {
     "data": {
      "text/html": [
       "Syncing run <strong><a href=\"https://wandb.ai/ablet/hyperTune-NN/runs/qd3wfz7e\" target=\"_blank\">chocolate-sweep-1</a></strong> to <a href=\"https://wandb.ai/ablet/hyperTune-NN\" target=\"_blank\">Weights & Biases</a> (<a href=\"https://wandb.me/run\" target=\"_blank\">docs</a>)<br/>Sweep page:  <a href=\"https://wandb.ai/ablet/hyperTune-NN/sweeps/v40zhba2\" target=\"_blank\">https://wandb.ai/ablet/hyperTune-NN/sweeps/v40zhba2</a>"
      ],
      "text/plain": [
       "<IPython.core.display.HTML object>"
      ]
     },
     "metadata": {},
     "output_type": "display_data"
    },
    {
     "name": "stderr",
     "output_type": "stream",
     "text": [
      "2022-10-27 14:51:05.382591: I tensorflow/core/platform/cpu_feature_guard.cc:193] This TensorFlow binary is optimized with oneAPI Deep Neural Network Library (oneDNN) to use the following CPU instructions in performance-critical operations:  SSE4.1 SSE4.2\n",
      "To enable them in other operations, rebuild TensorFlow with the appropriate compiler flags.\n",
      "\u001b[34m\u001b[1mwandb\u001b[0m: \u001b[33mWARNING\u001b[0m The save_model argument by default saves the model in the HDF5 format that cannot save custom objects like subclassed models and custom layers. This behavior will be deprecated in a future release in favor of the SavedModel format. Meanwhile, the HDF5 model is saved as W&B files and the SavedModel as W&B Artifacts.\n"
     ]
    },
    {
     "name": "stdout",
     "output_type": "stream",
     "text": [
      "INFO:tensorflow:Assets written to: /Users/abletimin/cernbox/Trigger/ml-met-trigger/wandb/run-20221027_145059-qd3wfz7e/files/model-best/assets\n"
     ]
    },
    {
     "name": "stderr",
     "output_type": "stream",
     "text": [
      "\u001b[34m\u001b[1mwandb\u001b[0m: Adding directory to artifact (/Users/abletimin/cernbox/Trigger/ml-met-trigger/wandb/run-20221027_145059-qd3wfz7e/files/model-best)... Done. 0.1s\n"
     ]
    },
    {
     "name": "stdout",
     "output_type": "stream",
     "text": [
      "INFO:tensorflow:Assets written to: /Users/abletimin/cernbox/Trigger/ml-met-trigger/wandb/run-20221027_145059-qd3wfz7e/files/model-best/assets\n"
     ]
    },
    {
     "name": "stderr",
     "output_type": "stream",
     "text": [
      "\u001b[34m\u001b[1mwandb\u001b[0m: Adding directory to artifact (/Users/abletimin/cernbox/Trigger/ml-met-trigger/wandb/run-20221027_145059-qd3wfz7e/files/model-best)... Done. 0.1s\n"
     ]
    },
    {
     "name": "stdout",
     "output_type": "stream",
     "text": [
      "INFO:tensorflow:Assets written to: /Users/abletimin/cernbox/Trigger/ml-met-trigger/wandb/run-20221027_145059-qd3wfz7e/files/model-best/assets\n"
     ]
    },
    {
     "name": "stderr",
     "output_type": "stream",
     "text": [
      "\u001b[34m\u001b[1mwandb\u001b[0m: Adding directory to artifact (/Users/abletimin/cernbox/Trigger/ml-met-trigger/wandb/run-20221027_145059-qd3wfz7e/files/model-best)... Done. 0.1s\n"
     ]
    },
    {
     "name": "stdout",
     "output_type": "stream",
     "text": [
      "INFO:tensorflow:Assets written to: /Users/abletimin/cernbox/Trigger/ml-met-trigger/wandb/run-20221027_145059-qd3wfz7e/files/model-best/assets\n"
     ]
    },
    {
     "name": "stderr",
     "output_type": "stream",
     "text": [
      "\u001b[34m\u001b[1mwandb\u001b[0m: Adding directory to artifact (/Users/abletimin/cernbox/Trigger/ml-met-trigger/wandb/run-20221027_145059-qd3wfz7e/files/model-best)... Done. 0.1s\n"
     ]
    },
    {
     "name": "stdout",
     "output_type": "stream",
     "text": [
      "INFO:tensorflow:Assets written to: /Users/abletimin/cernbox/Trigger/ml-met-trigger/wandb/run-20221027_145059-qd3wfz7e/files/model-best/assets\n"
     ]
    },
    {
     "name": "stderr",
     "output_type": "stream",
     "text": [
      "\u001b[34m\u001b[1mwandb\u001b[0m: Adding directory to artifact (/Users/abletimin/cernbox/Trigger/ml-met-trigger/wandb/run-20221027_145059-qd3wfz7e/files/model-best)... Done. 0.1s\n"
     ]
    },
    {
     "name": "stdout",
     "output_type": "stream",
     "text": [
      "INFO:tensorflow:Assets written to: /Users/abletimin/cernbox/Trigger/ml-met-trigger/wandb/run-20221027_145059-qd3wfz7e/files/model-best/assets\n"
     ]
    },
    {
     "name": "stderr",
     "output_type": "stream",
     "text": [
      "\u001b[34m\u001b[1mwandb\u001b[0m: Adding directory to artifact (/Users/abletimin/cernbox/Trigger/ml-met-trigger/wandb/run-20221027_145059-qd3wfz7e/files/model-best)... Done. 0.1s\n"
     ]
    },
    {
     "name": "stdout",
     "output_type": "stream",
     "text": [
      "INFO:tensorflow:Assets written to: /Users/abletimin/cernbox/Trigger/ml-met-trigger/wandb/run-20221027_145059-qd3wfz7e/files/model-best/assets\n"
     ]
    },
    {
     "name": "stderr",
     "output_type": "stream",
     "text": [
      "\u001b[34m\u001b[1mwandb\u001b[0m: Adding directory to artifact (/Users/abletimin/cernbox/Trigger/ml-met-trigger/wandb/run-20221027_145059-qd3wfz7e/files/model-best)... Done. 0.1s\n"
     ]
    },
    {
     "name": "stdout",
     "output_type": "stream",
     "text": [
      "INFO:tensorflow:Assets written to: /Users/abletimin/cernbox/Trigger/ml-met-trigger/wandb/run-20221027_145059-qd3wfz7e/files/model-best/assets\n"
     ]
    },
    {
     "name": "stderr",
     "output_type": "stream",
     "text": [
      "\u001b[34m\u001b[1mwandb\u001b[0m: Adding directory to artifact (/Users/abletimin/cernbox/Trigger/ml-met-trigger/wandb/run-20221027_145059-qd3wfz7e/files/model-best)... Done. 0.1s\n"
     ]
    },
    {
     "name": "stdout",
     "output_type": "stream",
     "text": [
      "INFO:tensorflow:Assets written to: /Users/abletimin/cernbox/Trigger/ml-met-trigger/wandb/run-20221027_145059-qd3wfz7e/files/model-best/assets\n"
     ]
    },
    {
     "name": "stderr",
     "output_type": "stream",
     "text": [
      "\u001b[34m\u001b[1mwandb\u001b[0m: Adding directory to artifact (/Users/abletimin/cernbox/Trigger/ml-met-trigger/wandb/run-20221027_145059-qd3wfz7e/files/model-best)... Done. 0.1s\n"
     ]
    },
    {
     "name": "stdout",
     "output_type": "stream",
     "text": [
      "INFO:tensorflow:Assets written to: /Users/abletimin/cernbox/Trigger/ml-met-trigger/wandb/run-20221027_145059-qd3wfz7e/files/model-best/assets\n"
     ]
    },
    {
     "name": "stderr",
     "output_type": "stream",
     "text": [
      "\u001b[34m\u001b[1mwandb\u001b[0m: Adding directory to artifact (/Users/abletimin/cernbox/Trigger/ml-met-trigger/wandb/run-20221027_145059-qd3wfz7e/files/model-best)... Done. 0.1s\n"
     ]
    },
    {
     "name": "stdout",
     "output_type": "stream",
     "text": [
      "INFO:tensorflow:Assets written to: /Users/abletimin/cernbox/Trigger/ml-met-trigger/wandb/run-20221027_145059-qd3wfz7e/files/model-best/assets\n"
     ]
    },
    {
     "name": "stderr",
     "output_type": "stream",
     "text": [
      "\u001b[34m\u001b[1mwandb\u001b[0m: Adding directory to artifact (/Users/abletimin/cernbox/Trigger/ml-met-trigger/wandb/run-20221027_145059-qd3wfz7e/files/model-best)... Done. 0.1s\n"
     ]
    },
    {
     "name": "stdout",
     "output_type": "stream",
     "text": [
      "INFO:tensorflow:Assets written to: /Users/abletimin/cernbox/Trigger/ml-met-trigger/wandb/run-20221027_145059-qd3wfz7e/files/model-best/assets\n"
     ]
    },
    {
     "name": "stderr",
     "output_type": "stream",
     "text": [
      "\u001b[34m\u001b[1mwandb\u001b[0m: Adding directory to artifact (/Users/abletimin/cernbox/Trigger/ml-met-trigger/wandb/run-20221027_145059-qd3wfz7e/files/model-best)... Done. 0.1s\n"
     ]
    },
    {
     "name": "stdout",
     "output_type": "stream",
     "text": [
      "INFO:tensorflow:Assets written to: /Users/abletimin/cernbox/Trigger/ml-met-trigger/wandb/run-20221027_145059-qd3wfz7e/files/model-best/assets\n"
     ]
    },
    {
     "name": "stderr",
     "output_type": "stream",
     "text": [
      "\u001b[34m\u001b[1mwandb\u001b[0m: Adding directory to artifact (/Users/abletimin/cernbox/Trigger/ml-met-trigger/wandb/run-20221027_145059-qd3wfz7e/files/model-best)... Done. 0.1s\n"
     ]
    },
    {
     "name": "stdout",
     "output_type": "stream",
     "text": [
      "INFO:tensorflow:Assets written to: /Users/abletimin/cernbox/Trigger/ml-met-trigger/wandb/run-20221027_145059-qd3wfz7e/files/model-best/assets\n"
     ]
    },
    {
     "name": "stderr",
     "output_type": "stream",
     "text": [
      "\u001b[34m\u001b[1mwandb\u001b[0m: Adding directory to artifact (/Users/abletimin/cernbox/Trigger/ml-met-trigger/wandb/run-20221027_145059-qd3wfz7e/files/model-best)... Done. 0.1s\n"
     ]
    },
    {
     "name": "stdout",
     "output_type": "stream",
     "text": [
      "INFO:tensorflow:Assets written to: /Users/abletimin/cernbox/Trigger/ml-met-trigger/wandb/run-20221027_145059-qd3wfz7e/files/model-best/assets\n"
     ]
    },
    {
     "name": "stderr",
     "output_type": "stream",
     "text": [
      "\u001b[34m\u001b[1mwandb\u001b[0m: Adding directory to artifact (/Users/abletimin/cernbox/Trigger/ml-met-trigger/wandb/run-20221027_145059-qd3wfz7e/files/model-best)... Done. 0.1s\n"
     ]
    },
    {
     "name": "stdout",
     "output_type": "stream",
     "text": [
      "INFO:tensorflow:Assets written to: /Users/abletimin/cernbox/Trigger/ml-met-trigger/wandb/run-20221027_145059-qd3wfz7e/files/model-best/assets\n"
     ]
    },
    {
     "name": "stderr",
     "output_type": "stream",
     "text": [
      "\u001b[34m\u001b[1mwandb\u001b[0m: Adding directory to artifact (/Users/abletimin/cernbox/Trigger/ml-met-trigger/wandb/run-20221027_145059-qd3wfz7e/files/model-best)... Done. 0.1s\n"
     ]
    },
    {
     "name": "stdout",
     "output_type": "stream",
     "text": [
      "INFO:tensorflow:Assets written to: /Users/abletimin/cernbox/Trigger/ml-met-trigger/wandb/run-20221027_145059-qd3wfz7e/files/model-best/assets\n"
     ]
    },
    {
     "name": "stderr",
     "output_type": "stream",
     "text": [
      "\u001b[34m\u001b[1mwandb\u001b[0m: Adding directory to artifact (/Users/abletimin/cernbox/Trigger/ml-met-trigger/wandb/run-20221027_145059-qd3wfz7e/files/model-best)... Done. 0.1s\n"
     ]
    },
    {
     "name": "stdout",
     "output_type": "stream",
     "text": [
      "INFO:tensorflow:Assets written to: /Users/abletimin/cernbox/Trigger/ml-met-trigger/wandb/run-20221027_145059-qd3wfz7e/files/model-best/assets\n"
     ]
    },
    {
     "name": "stderr",
     "output_type": "stream",
     "text": [
      "\u001b[34m\u001b[1mwandb\u001b[0m: Adding directory to artifact (/Users/abletimin/cernbox/Trigger/ml-met-trigger/wandb/run-20221027_145059-qd3wfz7e/files/model-best)... Done. 0.1s\n"
     ]
    },
    {
     "name": "stdout",
     "output_type": "stream",
     "text": [
      "INFO:tensorflow:Assets written to: /Users/abletimin/cernbox/Trigger/ml-met-trigger/wandb/run-20221027_145059-qd3wfz7e/files/model-best/assets\n"
     ]
    },
    {
     "name": "stderr",
     "output_type": "stream",
     "text": [
      "\u001b[34m\u001b[1mwandb\u001b[0m: Adding directory to artifact (/Users/abletimin/cernbox/Trigger/ml-met-trigger/wandb/run-20221027_145059-qd3wfz7e/files/model-best)... Done. 0.1s\n"
     ]
    },
    {
     "name": "stdout",
     "output_type": "stream",
     "text": [
      "INFO:tensorflow:Assets written to: /Users/abletimin/cernbox/Trigger/ml-met-trigger/wandb/run-20221027_145059-qd3wfz7e/files/model-best/assets\n"
     ]
    },
    {
     "name": "stderr",
     "output_type": "stream",
     "text": [
      "\u001b[34m\u001b[1mwandb\u001b[0m: Adding directory to artifact (/Users/abletimin/cernbox/Trigger/ml-met-trigger/wandb/run-20221027_145059-qd3wfz7e/files/model-best)... Done. 0.1s\n"
     ]
    },
    {
     "name": "stdout",
     "output_type": "stream",
     "text": [
      "INFO:tensorflow:Assets written to: /Users/abletimin/cernbox/Trigger/ml-met-trigger/wandb/run-20221027_145059-qd3wfz7e/files/model-best/assets\n"
     ]
    },
    {
     "name": "stderr",
     "output_type": "stream",
     "text": [
      "\u001b[34m\u001b[1mwandb\u001b[0m: Adding directory to artifact (/Users/abletimin/cernbox/Trigger/ml-met-trigger/wandb/run-20221027_145059-qd3wfz7e/files/model-best)... Done. 0.1s\n"
     ]
    },
    {
     "name": "stdout",
     "output_type": "stream",
     "text": [
      "INFO:tensorflow:Assets written to: /Users/abletimin/cernbox/Trigger/ml-met-trigger/wandb/run-20221027_145059-qd3wfz7e/files/model-best/assets\n"
     ]
    },
    {
     "name": "stderr",
     "output_type": "stream",
     "text": [
      "\u001b[34m\u001b[1mwandb\u001b[0m: Adding directory to artifact (/Users/abletimin/cernbox/Trigger/ml-met-trigger/wandb/run-20221027_145059-qd3wfz7e/files/model-best)... Done. 0.1s\n"
     ]
    },
    {
     "name": "stdout",
     "output_type": "stream",
     "text": [
      "INFO:tensorflow:Assets written to: /Users/abletimin/cernbox/Trigger/ml-met-trigger/wandb/run-20221027_145059-qd3wfz7e/files/model-best/assets\n"
     ]
    },
    {
     "name": "stderr",
     "output_type": "stream",
     "text": [
      "\u001b[34m\u001b[1mwandb\u001b[0m: Adding directory to artifact (/Users/abletimin/cernbox/Trigger/ml-met-trigger/wandb/run-20221027_145059-qd3wfz7e/files/model-best)... Done. 0.1s\n"
     ]
    },
    {
     "data": {
      "text/html": [
       "Waiting for W&B process to finish... <strong style=\"color:green\">(success).</strong>"
      ],
      "text/plain": [
       "<IPython.core.display.HTML object>"
      ]
     },
     "metadata": {},
     "output_type": "display_data"
    },
    {
     "data": {
      "application/vnd.jupyter.widget-view+json": {
       "model_id": "bff540b67d0c4731bb3493afdd47e9d9",
       "version_major": 2,
       "version_minor": 0
      },
      "text/plain": [
       "VBox(children=(Label(value='882.234 MB of 882.234 MB uploaded (0.006 MB deduped)\\r'), FloatProgress(value=1.0,…"
      ]
     },
     "metadata": {},
     "output_type": "display_data"
    },
    {
     "data": {
      "text/html": [
       "<style>\n",
       "    table.wandb td:nth-child(1) { padding: 0 10px; text-align: left ; width: auto;} td:nth-child(2) {text-align: left ; width: 100%}\n",
       "    .wandb-row { display: flex; flex-direction: row; flex-wrap: wrap; justify-content: flex-start; width: 100% }\n",
       "    .wandb-col { display: flex; flex-direction: column; flex-basis: 100%; flex: 1; padding: 10px; }\n",
       "    </style>\n",
       "<div class=\"wandb-row\"><div class=\"wandb-col\"><h3>Run history:</h3><br/><table class=\"wandb\"><tr><td>epoch</td><td>▁▁▁▁▂▂▂▂▂▃▃▃▃▃▃▄▄▄▄▄▅▅▅▅▅▅▆▆▆▆▆▇▇▇▇▇▇███</td></tr><tr><td>loss</td><td>▄▂▂▁▂▂▂▂▂▂█▂▁▁▁▁▁▁▁▁▁▁▁▁▁▁▁▁▁▁▁▁▁▁▁▁▁▁▁▂</td></tr><tr><td>mean_absolute_error</td><td>▅▃▂▂▂▁▁▁▁▁█▂▁▁▁▁▁▁▁▁▁▁▁▁▁▁▁▁▁▁▁▁▁▁▁▁▁▁▁▁</td></tr><tr><td>val_loss</td><td>▄▂▂▂▂▂▃▂▃▂█▂▁▁▁▁▁▁▁▁▁▁▁▁▁▁▁▁▁▁▁▁▁▁▁▁▁▂▂▂</td></tr><tr><td>val_mean_absolute_error</td><td>▇▄▄▃▃▂▂▂▂▁█▂▁▁▁▁▁▁▁▁▁▁▁▁▁▁▁▁▁▁▁▁▁▁▁▁▁▁▁▁</td></tr></table><br/></div><div class=\"wandb-col\"><h3>Run summary:</h3><br/><table class=\"wandb\"><tr><td>best_epoch</td><td>73</td></tr><tr><td>best_val_loss</td><td>34.63987</td></tr><tr><td>epoch</td><td>199</td></tr><tr><td>loss</td><td>49.14735</td></tr><tr><td>mean_absolute_error</td><td>33.33426</td></tr><tr><td>val_loss</td><td>49.65696</td></tr><tr><td>val_mean_absolute_error</td><td>33.13901</td></tr></table><br/></div></div>"
      ],
      "text/plain": [
       "<IPython.core.display.HTML object>"
      ]
     },
     "metadata": {},
     "output_type": "display_data"
    },
    {
     "data": {
      "text/html": [
       "Synced <strong style=\"color:#cdcd00\">chocolate-sweep-1</strong>: <a href=\"https://wandb.ai/ablet/hyperTune-NN/runs/qd3wfz7e\" target=\"_blank\">https://wandb.ai/ablet/hyperTune-NN/runs/qd3wfz7e</a><br/>Synced 7 W&B file(s), 0 media file(s), 72 artifact file(s) and 2 other file(s)"
      ],
      "text/plain": [
       "<IPython.core.display.HTML object>"
      ]
     },
     "metadata": {},
     "output_type": "display_data"
    },
    {
     "data": {
      "text/html": [
       "Find logs at: <code>./wandb/run-20221027_145059-qd3wfz7e/logs</code>"
      ],
      "text/plain": [
       "<IPython.core.display.HTML object>"
      ]
     },
     "metadata": {},
     "output_type": "display_data"
    },
    {
     "name": "stderr",
     "output_type": "stream",
     "text": [
      "\u001b[34m\u001b[1mwandb\u001b[0m: Agent Starting Run: cdkkp6nu with config:\n",
      "\u001b[34m\u001b[1mwandb\u001b[0m: \tactivation: relu\n",
      "\u001b[34m\u001b[1mwandb\u001b[0m: \tepochs: 200\n",
      "\u001b[34m\u001b[1mwandb\u001b[0m: \th_layers: [500]\n",
      "\u001b[34m\u001b[1mwandb\u001b[0m: \tloss: mean_squared_error\n",
      "\u001b[34m\u001b[1mwandb\u001b[0m: \tlr: 0.05381154959311554\n",
      "\u001b[34m\u001b[1mwandb\u001b[0m: \u001b[33mWARNING\u001b[0m Ignored wandb.init() arg project when running a sweep.\n"
     ]
    },
    {
     "data": {
      "text/html": [
       "Tracking run with wandb version 0.13.4"
      ],
      "text/plain": [
       "<IPython.core.display.HTML object>"
      ]
     },
     "metadata": {},
     "output_type": "display_data"
    },
    {
     "data": {
      "text/html": [
       "Run data is saved locally in <code>/Users/abletimin/cernbox/Trigger/ml-met-trigger/wandb/run-20221027_150201-cdkkp6nu</code>"
      ],
      "text/plain": [
       "<IPython.core.display.HTML object>"
      ]
     },
     "metadata": {},
     "output_type": "display_data"
    },
    {
     "data": {
      "text/html": [
       "Syncing run <strong><a href=\"https://wandb.ai/ablet/hyperTune-NN/runs/cdkkp6nu\" target=\"_blank\">graceful-sweep-2</a></strong> to <a href=\"https://wandb.ai/ablet/hyperTune-NN\" target=\"_blank\">Weights & Biases</a> (<a href=\"https://wandb.me/run\" target=\"_blank\">docs</a>)<br/>Sweep page:  <a href=\"https://wandb.ai/ablet/hyperTune-NN/sweeps/v40zhba2\" target=\"_blank\">https://wandb.ai/ablet/hyperTune-NN/sweeps/v40zhba2</a>"
      ],
      "text/plain": [
       "<IPython.core.display.HTML object>"
      ]
     },
     "metadata": {},
     "output_type": "display_data"
    },
    {
     "name": "stdout",
     "output_type": "stream",
     "text": [
      "INFO:tensorflow:Assets written to: /Users/abletimin/cernbox/Trigger/ml-met-trigger/wandb/run-20221027_150201-cdkkp6nu/files/model-best/assets\n"
     ]
    },
    {
     "name": "stderr",
     "output_type": "stream",
     "text": [
      "\u001b[34m\u001b[1mwandb\u001b[0m: Adding directory to artifact (/Users/abletimin/cernbox/Trigger/ml-met-trigger/wandb/run-20221027_150201-cdkkp6nu/files/model-best)... Done. 0.0s\n"
     ]
    },
    {
     "name": "stdout",
     "output_type": "stream",
     "text": [
      "INFO:tensorflow:Assets written to: /Users/abletimin/cernbox/Trigger/ml-met-trigger/wandb/run-20221027_150201-cdkkp6nu/files/model-best/assets\n"
     ]
    },
    {
     "name": "stderr",
     "output_type": "stream",
     "text": [
      "\u001b[34m\u001b[1mwandb\u001b[0m: Adding directory to artifact (/Users/abletimin/cernbox/Trigger/ml-met-trigger/wandb/run-20221027_150201-cdkkp6nu/files/model-best)... Done. 0.0s\n"
     ]
    },
    {
     "name": "stdout",
     "output_type": "stream",
     "text": [
      "INFO:tensorflow:Assets written to: /Users/abletimin/cernbox/Trigger/ml-met-trigger/wandb/run-20221027_150201-cdkkp6nu/files/model-best/assets\n"
     ]
    },
    {
     "name": "stderr",
     "output_type": "stream",
     "text": [
      "\u001b[34m\u001b[1mwandb\u001b[0m: Adding directory to artifact (/Users/abletimin/cernbox/Trigger/ml-met-trigger/wandb/run-20221027_150201-cdkkp6nu/files/model-best)... Done. 0.0s\n"
     ]
    },
    {
     "name": "stdout",
     "output_type": "stream",
     "text": [
      "INFO:tensorflow:Assets written to: /Users/abletimin/cernbox/Trigger/ml-met-trigger/wandb/run-20221027_150201-cdkkp6nu/files/model-best/assets\n"
     ]
    },
    {
     "name": "stderr",
     "output_type": "stream",
     "text": [
      "\u001b[34m\u001b[1mwandb\u001b[0m: Adding directory to artifact (/Users/abletimin/cernbox/Trigger/ml-met-trigger/wandb/run-20221027_150201-cdkkp6nu/files/model-best)... Done. 0.0s\n"
     ]
    },
    {
     "name": "stdout",
     "output_type": "stream",
     "text": [
      "INFO:tensorflow:Assets written to: /Users/abletimin/cernbox/Trigger/ml-met-trigger/wandb/run-20221027_150201-cdkkp6nu/files/model-best/assets\n"
     ]
    },
    {
     "name": "stderr",
     "output_type": "stream",
     "text": [
      "\u001b[34m\u001b[1mwandb\u001b[0m: Adding directory to artifact (/Users/abletimin/cernbox/Trigger/ml-met-trigger/wandb/run-20221027_150201-cdkkp6nu/files/model-best)... Done. 0.0s\n"
     ]
    },
    {
     "name": "stdout",
     "output_type": "stream",
     "text": [
      "INFO:tensorflow:Assets written to: /Users/abletimin/cernbox/Trigger/ml-met-trigger/wandb/run-20221027_150201-cdkkp6nu/files/model-best/assets\n"
     ]
    },
    {
     "name": "stderr",
     "output_type": "stream",
     "text": [
      "\u001b[34m\u001b[1mwandb\u001b[0m: Adding directory to artifact (/Users/abletimin/cernbox/Trigger/ml-met-trigger/wandb/run-20221027_150201-cdkkp6nu/files/model-best)... Done. 0.0s\n"
     ]
    },
    {
     "name": "stdout",
     "output_type": "stream",
     "text": [
      "INFO:tensorflow:Assets written to: /Users/abletimin/cernbox/Trigger/ml-met-trigger/wandb/run-20221027_150201-cdkkp6nu/files/model-best/assets\n"
     ]
    },
    {
     "name": "stderr",
     "output_type": "stream",
     "text": [
      "\u001b[34m\u001b[1mwandb\u001b[0m: Adding directory to artifact (/Users/abletimin/cernbox/Trigger/ml-met-trigger/wandb/run-20221027_150201-cdkkp6nu/files/model-best)... Done. 0.0s\n"
     ]
    },
    {
     "name": "stdout",
     "output_type": "stream",
     "text": [
      "INFO:tensorflow:Assets written to: /Users/abletimin/cernbox/Trigger/ml-met-trigger/wandb/run-20221027_150201-cdkkp6nu/files/model-best/assets\n"
     ]
    },
    {
     "name": "stderr",
     "output_type": "stream",
     "text": [
      "\u001b[34m\u001b[1mwandb\u001b[0m: Adding directory to artifact (/Users/abletimin/cernbox/Trigger/ml-met-trigger/wandb/run-20221027_150201-cdkkp6nu/files/model-best)... Done. 0.0s\n"
     ]
    },
    {
     "name": "stdout",
     "output_type": "stream",
     "text": [
      "INFO:tensorflow:Assets written to: /Users/abletimin/cernbox/Trigger/ml-met-trigger/wandb/run-20221027_150201-cdkkp6nu/files/model-best/assets\n"
     ]
    },
    {
     "name": "stderr",
     "output_type": "stream",
     "text": [
      "\u001b[34m\u001b[1mwandb\u001b[0m: Adding directory to artifact (/Users/abletimin/cernbox/Trigger/ml-met-trigger/wandb/run-20221027_150201-cdkkp6nu/files/model-best)... Done. 0.0s\n"
     ]
    },
    {
     "name": "stdout",
     "output_type": "stream",
     "text": [
      "INFO:tensorflow:Assets written to: /Users/abletimin/cernbox/Trigger/ml-met-trigger/wandb/run-20221027_150201-cdkkp6nu/files/model-best/assets\n"
     ]
    },
    {
     "name": "stderr",
     "output_type": "stream",
     "text": [
      "\u001b[34m\u001b[1mwandb\u001b[0m: Adding directory to artifact (/Users/abletimin/cernbox/Trigger/ml-met-trigger/wandb/run-20221027_150201-cdkkp6nu/files/model-best)... Done. 0.0s\n"
     ]
    },
    {
     "name": "stdout",
     "output_type": "stream",
     "text": [
      "INFO:tensorflow:Assets written to: /Users/abletimin/cernbox/Trigger/ml-met-trigger/wandb/run-20221027_150201-cdkkp6nu/files/model-best/assets\n"
     ]
    },
    {
     "name": "stderr",
     "output_type": "stream",
     "text": [
      "\u001b[34m\u001b[1mwandb\u001b[0m: Adding directory to artifact (/Users/abletimin/cernbox/Trigger/ml-met-trigger/wandb/run-20221027_150201-cdkkp6nu/files/model-best)... Done. 0.0s\n"
     ]
    },
    {
     "name": "stdout",
     "output_type": "stream",
     "text": [
      "INFO:tensorflow:Assets written to: /Users/abletimin/cernbox/Trigger/ml-met-trigger/wandb/run-20221027_150201-cdkkp6nu/files/model-best/assets\n"
     ]
    },
    {
     "name": "stderr",
     "output_type": "stream",
     "text": [
      "\u001b[34m\u001b[1mwandb\u001b[0m: Adding directory to artifact (/Users/abletimin/cernbox/Trigger/ml-met-trigger/wandb/run-20221027_150201-cdkkp6nu/files/model-best)... Done. 0.0s\n"
     ]
    },
    {
     "name": "stdout",
     "output_type": "stream",
     "text": [
      "INFO:tensorflow:Assets written to: /Users/abletimin/cernbox/Trigger/ml-met-trigger/wandb/run-20221027_150201-cdkkp6nu/files/model-best/assets\n"
     ]
    },
    {
     "name": "stderr",
     "output_type": "stream",
     "text": [
      "\u001b[34m\u001b[1mwandb\u001b[0m: Adding directory to artifact (/Users/abletimin/cernbox/Trigger/ml-met-trigger/wandb/run-20221027_150201-cdkkp6nu/files/model-best)... Done. 0.0s\n"
     ]
    },
    {
     "name": "stdout",
     "output_type": "stream",
     "text": [
      "INFO:tensorflow:Assets written to: /Users/abletimin/cernbox/Trigger/ml-met-trigger/wandb/run-20221027_150201-cdkkp6nu/files/model-best/assets\n"
     ]
    },
    {
     "name": "stderr",
     "output_type": "stream",
     "text": [
      "\u001b[34m\u001b[1mwandb\u001b[0m: Adding directory to artifact (/Users/abletimin/cernbox/Trigger/ml-met-trigger/wandb/run-20221027_150201-cdkkp6nu/files/model-best)... Done. 0.0s\n"
     ]
    },
    {
     "name": "stdout",
     "output_type": "stream",
     "text": [
      "INFO:tensorflow:Assets written to: /Users/abletimin/cernbox/Trigger/ml-met-trigger/wandb/run-20221027_150201-cdkkp6nu/files/model-best/assets\n"
     ]
    },
    {
     "name": "stderr",
     "output_type": "stream",
     "text": [
      "\u001b[34m\u001b[1mwandb\u001b[0m: Adding directory to artifact (/Users/abletimin/cernbox/Trigger/ml-met-trigger/wandb/run-20221027_150201-cdkkp6nu/files/model-best)... Done. 0.0s\n"
     ]
    },
    {
     "name": "stdout",
     "output_type": "stream",
     "text": [
      "INFO:tensorflow:Assets written to: /Users/abletimin/cernbox/Trigger/ml-met-trigger/wandb/run-20221027_150201-cdkkp6nu/files/model-best/assets\n"
     ]
    },
    {
     "name": "stderr",
     "output_type": "stream",
     "text": [
      "\u001b[34m\u001b[1mwandb\u001b[0m: Adding directory to artifact (/Users/abletimin/cernbox/Trigger/ml-met-trigger/wandb/run-20221027_150201-cdkkp6nu/files/model-best)... Done. 0.0s\n"
     ]
    },
    {
     "name": "stdout",
     "output_type": "stream",
     "text": [
      "INFO:tensorflow:Assets written to: /Users/abletimin/cernbox/Trigger/ml-met-trigger/wandb/run-20221027_150201-cdkkp6nu/files/model-best/assets\n"
     ]
    },
    {
     "name": "stderr",
     "output_type": "stream",
     "text": [
      "\u001b[34m\u001b[1mwandb\u001b[0m: Adding directory to artifact (/Users/abletimin/cernbox/Trigger/ml-met-trigger/wandb/run-20221027_150201-cdkkp6nu/files/model-best)... Done. 0.0s\n"
     ]
    },
    {
     "name": "stdout",
     "output_type": "stream",
     "text": [
      "INFO:tensorflow:Assets written to: /Users/abletimin/cernbox/Trigger/ml-met-trigger/wandb/run-20221027_150201-cdkkp6nu/files/model-best/assets\n"
     ]
    },
    {
     "name": "stderr",
     "output_type": "stream",
     "text": [
      "\u001b[34m\u001b[1mwandb\u001b[0m: Adding directory to artifact (/Users/abletimin/cernbox/Trigger/ml-met-trigger/wandb/run-20221027_150201-cdkkp6nu/files/model-best)... Done. 0.0s\n"
     ]
    },
    {
     "name": "stdout",
     "output_type": "stream",
     "text": [
      "INFO:tensorflow:Assets written to: /Users/abletimin/cernbox/Trigger/ml-met-trigger/wandb/run-20221027_150201-cdkkp6nu/files/model-best/assets\n"
     ]
    },
    {
     "name": "stderr",
     "output_type": "stream",
     "text": [
      "\u001b[34m\u001b[1mwandb\u001b[0m: Adding directory to artifact (/Users/abletimin/cernbox/Trigger/ml-met-trigger/wandb/run-20221027_150201-cdkkp6nu/files/model-best)... Done. 0.0s\n"
     ]
    },
    {
     "name": "stdout",
     "output_type": "stream",
     "text": [
      "INFO:tensorflow:Assets written to: /Users/abletimin/cernbox/Trigger/ml-met-trigger/wandb/run-20221027_150201-cdkkp6nu/files/model-best/assets\n"
     ]
    },
    {
     "name": "stderr",
     "output_type": "stream",
     "text": [
      "\u001b[34m\u001b[1mwandb\u001b[0m: Adding directory to artifact (/Users/abletimin/cernbox/Trigger/ml-met-trigger/wandb/run-20221027_150201-cdkkp6nu/files/model-best)... Done. 0.0s\n"
     ]
    },
    {
     "name": "stdout",
     "output_type": "stream",
     "text": [
      "INFO:tensorflow:Assets written to: /Users/abletimin/cernbox/Trigger/ml-met-trigger/wandb/run-20221027_150201-cdkkp6nu/files/model-best/assets\n"
     ]
    },
    {
     "name": "stderr",
     "output_type": "stream",
     "text": [
      "\u001b[34m\u001b[1mwandb\u001b[0m: Adding directory to artifact (/Users/abletimin/cernbox/Trigger/ml-met-trigger/wandb/run-20221027_150201-cdkkp6nu/files/model-best)... Done. 0.0s\n"
     ]
    },
    {
     "name": "stdout",
     "output_type": "stream",
     "text": [
      "INFO:tensorflow:Assets written to: /Users/abletimin/cernbox/Trigger/ml-met-trigger/wandb/run-20221027_150201-cdkkp6nu/files/model-best/assets\n"
     ]
    },
    {
     "name": "stderr",
     "output_type": "stream",
     "text": [
      "\u001b[34m\u001b[1mwandb\u001b[0m: Adding directory to artifact (/Users/abletimin/cernbox/Trigger/ml-met-trigger/wandb/run-20221027_150201-cdkkp6nu/files/model-best)... Done. 0.0s\n"
     ]
    },
    {
     "data": {
      "text/html": [
       "Waiting for W&B process to finish... <strong style=\"color:green\">(success).</strong>"
      ],
      "text/plain": [
       "<IPython.core.display.HTML object>"
      ]
     },
     "metadata": {},
     "output_type": "display_data"
    },
    {
     "data": {
      "text/html": [
       "<style>\n",
       "    table.wandb td:nth-child(1) { padding: 0 10px; text-align: left ; width: auto;} td:nth-child(2) {text-align: left ; width: 100%}\n",
       "    .wandb-row { display: flex; flex-direction: row; flex-wrap: wrap; justify-content: flex-start; width: 100% }\n",
       "    .wandb-col { display: flex; flex-direction: column; flex-basis: 100%; flex: 1; padding: 10px; }\n",
       "    </style>\n",
       "<div class=\"wandb-row\"><div class=\"wandb-col\"><h3>Run history:</h3><br/><table class=\"wandb\"><tr><td>epoch</td><td>▁▁▁▁▂▂▂▂▂▃▃▃▃▃▃▄▄▄▄▄▅▅▅▅▅▅▆▆▆▆▆▇▇▇▇▇▇███</td></tr><tr><td>loss</td><td>▁▁▂▆▃█▇▄▁▁▁▁▁▁▁▁▃▇▃▂▁▁▁▁▁▁▁▁▁▁▁▁▁▂▁▁▁▁▁▁</td></tr><tr><td>mean_absolute_error</td><td>▄▄▆▇▆██▅▃▃▂▂▂▂▂▃▄▆▆▄▃▃▂▂▂▂▁▁▁▂▂▂▂▃▁▁▁▁▁▁</td></tr><tr><td>val_loss</td><td>▂▂▃▆▅▆█▇▃▃▂▂▂▂▁▂▃▆▆▅▃▂▂▂▂▁▁▁▁▁▂▁▂▂▁▁▁▁▁▁</td></tr><tr><td>val_mean_absolute_error</td><td>▃▄▅█▅▆█▅▂▂▃▂▂▂▁▃▃▅▄▃▂▂▂▂▂▂▂▂▁▁▂▂▂▂▁▁▁▁▁▁</td></tr></table><br/></div><div class=\"wandb-col\"><h3>Run summary:</h3><br/><table class=\"wandb\"><tr><td>best_epoch</td><td>199</td></tr><tr><td>best_val_loss</td><td>2970.49292</td></tr><tr><td>epoch</td><td>199</td></tr><tr><td>loss</td><td>2184.08594</td></tr><tr><td>mean_absolute_error</td><td>27.47407</td></tr><tr><td>val_loss</td><td>2970.49292</td></tr><tr><td>val_mean_absolute_error</td><td>33.86063</td></tr></table><br/></div></div>"
      ],
      "text/plain": [
       "<IPython.core.display.HTML object>"
      ]
     },
     "metadata": {},
     "output_type": "display_data"
    },
    {
     "data": {
      "text/html": [
       "Synced <strong style=\"color:#cdcd00\">graceful-sweep-2</strong>: <a href=\"https://wandb.ai/ablet/hyperTune-NN/runs/cdkkp6nu\" target=\"_blank\">https://wandb.ai/ablet/hyperTune-NN/runs/cdkkp6nu</a><br/>Synced 7 W&B file(s), 0 media file(s), 69 artifact file(s) and 2 other file(s)"
      ],
      "text/plain": [
       "<IPython.core.display.HTML object>"
      ]
     },
     "metadata": {},
     "output_type": "display_data"
    },
    {
     "data": {
      "text/html": [
       "Find logs at: <code>./wandb/run-20221027_150201-cdkkp6nu/logs</code>"
      ],
      "text/plain": [
       "<IPython.core.display.HTML object>"
      ]
     },
     "metadata": {},
     "output_type": "display_data"
    },
    {
     "name": "stderr",
     "output_type": "stream",
     "text": [
      "\u001b[34m\u001b[1mwandb\u001b[0m: Agent Starting Run: inzpfg20 with config:\n",
      "\u001b[34m\u001b[1mwandb\u001b[0m: \tactivation: relu\n",
      "\u001b[34m\u001b[1mwandb\u001b[0m: \tepochs: 200\n",
      "\u001b[34m\u001b[1mwandb\u001b[0m: \th_layers: [2000]\n",
      "\u001b[34m\u001b[1mwandb\u001b[0m: \tloss: mean_absolute_error\n",
      "\u001b[34m\u001b[1mwandb\u001b[0m: \tlr: 0.08707820518847649\n",
      "\u001b[34m\u001b[1mwandb\u001b[0m: \u001b[33mWARNING\u001b[0m Ignored wandb.init() arg project when running a sweep.\n"
     ]
    },
    {
     "data": {
      "text/html": [
       "Tracking run with wandb version 0.13.4"
      ],
      "text/plain": [
       "<IPython.core.display.HTML object>"
      ]
     },
     "metadata": {},
     "output_type": "display_data"
    },
    {
     "data": {
      "text/html": [
       "Run data is saved locally in <code>/Users/abletimin/cernbox/Trigger/ml-met-trigger/wandb/run-20221027_150530-inzpfg20</code>"
      ],
      "text/plain": [
       "<IPython.core.display.HTML object>"
      ]
     },
     "metadata": {},
     "output_type": "display_data"
    },
    {
     "data": {
      "text/html": [
       "Syncing run <strong><a href=\"https://wandb.ai/ablet/hyperTune-NN/runs/inzpfg20\" target=\"_blank\">rosy-sweep-3</a></strong> to <a href=\"https://wandb.ai/ablet/hyperTune-NN\" target=\"_blank\">Weights & Biases</a> (<a href=\"https://wandb.me/run\" target=\"_blank\">docs</a>)<br/>Sweep page:  <a href=\"https://wandb.ai/ablet/hyperTune-NN/sweeps/v40zhba2\" target=\"_blank\">https://wandb.ai/ablet/hyperTune-NN/sweeps/v40zhba2</a>"
      ],
      "text/plain": [
       "<IPython.core.display.HTML object>"
      ]
     },
     "metadata": {},
     "output_type": "display_data"
    },
    {
     "name": "stdout",
     "output_type": "stream",
     "text": [
      "INFO:tensorflow:Assets written to: /Users/abletimin/cernbox/Trigger/ml-met-trigger/wandb/run-20221027_150530-inzpfg20/files/model-best/assets\n"
     ]
    },
    {
     "name": "stderr",
     "output_type": "stream",
     "text": [
      "\u001b[34m\u001b[1mwandb\u001b[0m: Adding directory to artifact (/Users/abletimin/cernbox/Trigger/ml-met-trigger/wandb/run-20221027_150530-inzpfg20/files/model-best)... Done. 0.1s\n"
     ]
    },
    {
     "name": "stdout",
     "output_type": "stream",
     "text": [
      "INFO:tensorflow:Assets written to: /Users/abletimin/cernbox/Trigger/ml-met-trigger/wandb/run-20221027_150530-inzpfg20/files/model-best/assets\n"
     ]
    },
    {
     "name": "stderr",
     "output_type": "stream",
     "text": [
      "\u001b[34m\u001b[1mwandb\u001b[0m: Adding directory to artifact (/Users/abletimin/cernbox/Trigger/ml-met-trigger/wandb/run-20221027_150530-inzpfg20/files/model-best)... Done. 0.1s\n"
     ]
    },
    {
     "name": "stdout",
     "output_type": "stream",
     "text": [
      "INFO:tensorflow:Assets written to: /Users/abletimin/cernbox/Trigger/ml-met-trigger/wandb/run-20221027_150530-inzpfg20/files/model-best/assets\n"
     ]
    },
    {
     "name": "stderr",
     "output_type": "stream",
     "text": [
      "\u001b[34m\u001b[1mwandb\u001b[0m: Adding directory to artifact (/Users/abletimin/cernbox/Trigger/ml-met-trigger/wandb/run-20221027_150530-inzpfg20/files/model-best)... Done. 0.1s\n"
     ]
    },
    {
     "name": "stdout",
     "output_type": "stream",
     "text": [
      "INFO:tensorflow:Assets written to: /Users/abletimin/cernbox/Trigger/ml-met-trigger/wandb/run-20221027_150530-inzpfg20/files/model-best/assets\n"
     ]
    },
    {
     "name": "stderr",
     "output_type": "stream",
     "text": [
      "\u001b[34m\u001b[1mwandb\u001b[0m: Adding directory to artifact (/Users/abletimin/cernbox/Trigger/ml-met-trigger/wandb/run-20221027_150530-inzpfg20/files/model-best)... Done. 0.1s\n"
     ]
    },
    {
     "name": "stdout",
     "output_type": "stream",
     "text": [
      "INFO:tensorflow:Assets written to: /Users/abletimin/cernbox/Trigger/ml-met-trigger/wandb/run-20221027_150530-inzpfg20/files/model-best/assets\n"
     ]
    },
    {
     "name": "stderr",
     "output_type": "stream",
     "text": [
      "\u001b[34m\u001b[1mwandb\u001b[0m: Adding directory to artifact (/Users/abletimin/cernbox/Trigger/ml-met-trigger/wandb/run-20221027_150530-inzpfg20/files/model-best)... Done. 0.1s\n"
     ]
    },
    {
     "name": "stdout",
     "output_type": "stream",
     "text": [
      "INFO:tensorflow:Assets written to: /Users/abletimin/cernbox/Trigger/ml-met-trigger/wandb/run-20221027_150530-inzpfg20/files/model-best/assets\n"
     ]
    },
    {
     "name": "stderr",
     "output_type": "stream",
     "text": [
      "\u001b[34m\u001b[1mwandb\u001b[0m: Adding directory to artifact (/Users/abletimin/cernbox/Trigger/ml-met-trigger/wandb/run-20221027_150530-inzpfg20/files/model-best)... Done. 0.1s\n"
     ]
    },
    {
     "name": "stdout",
     "output_type": "stream",
     "text": [
      "INFO:tensorflow:Assets written to: /Users/abletimin/cernbox/Trigger/ml-met-trigger/wandb/run-20221027_150530-inzpfg20/files/model-best/assets\n"
     ]
    },
    {
     "name": "stderr",
     "output_type": "stream",
     "text": [
      "\u001b[34m\u001b[1mwandb\u001b[0m: Adding directory to artifact (/Users/abletimin/cernbox/Trigger/ml-met-trigger/wandb/run-20221027_150530-inzpfg20/files/model-best)... Done. 0.1s\n"
     ]
    },
    {
     "name": "stdout",
     "output_type": "stream",
     "text": [
      "INFO:tensorflow:Assets written to: /Users/abletimin/cernbox/Trigger/ml-met-trigger/wandb/run-20221027_150530-inzpfg20/files/model-best/assets\n"
     ]
    },
    {
     "name": "stderr",
     "output_type": "stream",
     "text": [
      "\u001b[34m\u001b[1mwandb\u001b[0m: Adding directory to artifact (/Users/abletimin/cernbox/Trigger/ml-met-trigger/wandb/run-20221027_150530-inzpfg20/files/model-best)... Done. 0.1s\n"
     ]
    },
    {
     "name": "stdout",
     "output_type": "stream",
     "text": [
      "INFO:tensorflow:Assets written to: /Users/abletimin/cernbox/Trigger/ml-met-trigger/wandb/run-20221027_150530-inzpfg20/files/model-best/assets\n"
     ]
    },
    {
     "name": "stderr",
     "output_type": "stream",
     "text": [
      "\u001b[34m\u001b[1mwandb\u001b[0m: Adding directory to artifact (/Users/abletimin/cernbox/Trigger/ml-met-trigger/wandb/run-20221027_150530-inzpfg20/files/model-best)... Done. 0.1s\n"
     ]
    },
    {
     "name": "stdout",
     "output_type": "stream",
     "text": [
      "INFO:tensorflow:Assets written to: /Users/abletimin/cernbox/Trigger/ml-met-trigger/wandb/run-20221027_150530-inzpfg20/files/model-best/assets\n"
     ]
    },
    {
     "name": "stderr",
     "output_type": "stream",
     "text": [
      "\u001b[34m\u001b[1mwandb\u001b[0m: Adding directory to artifact (/Users/abletimin/cernbox/Trigger/ml-met-trigger/wandb/run-20221027_150530-inzpfg20/files/model-best)... Done. 0.1s\n"
     ]
    },
    {
     "name": "stdout",
     "output_type": "stream",
     "text": [
      "INFO:tensorflow:Assets written to: /Users/abletimin/cernbox/Trigger/ml-met-trigger/wandb/run-20221027_150530-inzpfg20/files/model-best/assets\n"
     ]
    },
    {
     "name": "stderr",
     "output_type": "stream",
     "text": [
      "\u001b[34m\u001b[1mwandb\u001b[0m: Adding directory to artifact (/Users/abletimin/cernbox/Trigger/ml-met-trigger/wandb/run-20221027_150530-inzpfg20/files/model-best)... Done. 0.1s\n"
     ]
    },
    {
     "name": "stdout",
     "output_type": "stream",
     "text": [
      "INFO:tensorflow:Assets written to: /Users/abletimin/cernbox/Trigger/ml-met-trigger/wandb/run-20221027_150530-inzpfg20/files/model-best/assets\n"
     ]
    },
    {
     "name": "stderr",
     "output_type": "stream",
     "text": [
      "\u001b[34m\u001b[1mwandb\u001b[0m: Adding directory to artifact (/Users/abletimin/cernbox/Trigger/ml-met-trigger/wandb/run-20221027_150530-inzpfg20/files/model-best)... Done. 0.1s\n"
     ]
    },
    {
     "name": "stdout",
     "output_type": "stream",
     "text": [
      "INFO:tensorflow:Assets written to: /Users/abletimin/cernbox/Trigger/ml-met-trigger/wandb/run-20221027_150530-inzpfg20/files/model-best/assets\n"
     ]
    },
    {
     "name": "stderr",
     "output_type": "stream",
     "text": [
      "\u001b[34m\u001b[1mwandb\u001b[0m: Adding directory to artifact (/Users/abletimin/cernbox/Trigger/ml-met-trigger/wandb/run-20221027_150530-inzpfg20/files/model-best)... Done. 0.1s\n"
     ]
    },
    {
     "name": "stdout",
     "output_type": "stream",
     "text": [
      "INFO:tensorflow:Assets written to: /Users/abletimin/cernbox/Trigger/ml-met-trigger/wandb/run-20221027_150530-inzpfg20/files/model-best/assets\n"
     ]
    },
    {
     "name": "stderr",
     "output_type": "stream",
     "text": [
      "\u001b[34m\u001b[1mwandb\u001b[0m: Adding directory to artifact (/Users/abletimin/cernbox/Trigger/ml-met-trigger/wandb/run-20221027_150530-inzpfg20/files/model-best)... Done. 0.1s\n"
     ]
    },
    {
     "name": "stdout",
     "output_type": "stream",
     "text": [
      "INFO:tensorflow:Assets written to: /Users/abletimin/cernbox/Trigger/ml-met-trigger/wandb/run-20221027_150530-inzpfg20/files/model-best/assets\n"
     ]
    },
    {
     "name": "stderr",
     "output_type": "stream",
     "text": [
      "\u001b[34m\u001b[1mwandb\u001b[0m: Adding directory to artifact (/Users/abletimin/cernbox/Trigger/ml-met-trigger/wandb/run-20221027_150530-inzpfg20/files/model-best)... Done. 0.1s\n"
     ]
    },
    {
     "name": "stdout",
     "output_type": "stream",
     "text": [
      "INFO:tensorflow:Assets written to: /Users/abletimin/cernbox/Trigger/ml-met-trigger/wandb/run-20221027_150530-inzpfg20/files/model-best/assets\n"
     ]
    },
    {
     "name": "stderr",
     "output_type": "stream",
     "text": [
      "\u001b[34m\u001b[1mwandb\u001b[0m: Adding directory to artifact (/Users/abletimin/cernbox/Trigger/ml-met-trigger/wandb/run-20221027_150530-inzpfg20/files/model-best)... Done. 0.1s\n"
     ]
    },
    {
     "name": "stdout",
     "output_type": "stream",
     "text": [
      "INFO:tensorflow:Assets written to: /Users/abletimin/cernbox/Trigger/ml-met-trigger/wandb/run-20221027_150530-inzpfg20/files/model-best/assets\n"
     ]
    },
    {
     "name": "stderr",
     "output_type": "stream",
     "text": [
      "\u001b[34m\u001b[1mwandb\u001b[0m: Adding directory to artifact (/Users/abletimin/cernbox/Trigger/ml-met-trigger/wandb/run-20221027_150530-inzpfg20/files/model-best)... Done. 0.1s\n"
     ]
    },
    {
     "name": "stdout",
     "output_type": "stream",
     "text": [
      "INFO:tensorflow:Assets written to: /Users/abletimin/cernbox/Trigger/ml-met-trigger/wandb/run-20221027_150530-inzpfg20/files/model-best/assets\n"
     ]
    },
    {
     "name": "stderr",
     "output_type": "stream",
     "text": [
      "\u001b[34m\u001b[1mwandb\u001b[0m: Adding directory to artifact (/Users/abletimin/cernbox/Trigger/ml-met-trigger/wandb/run-20221027_150530-inzpfg20/files/model-best)... Done. 0.1s\n"
     ]
    },
    {
     "name": "stdout",
     "output_type": "stream",
     "text": [
      "INFO:tensorflow:Assets written to: /Users/abletimin/cernbox/Trigger/ml-met-trigger/wandb/run-20221027_150530-inzpfg20/files/model-best/assets\n"
     ]
    },
    {
     "name": "stderr",
     "output_type": "stream",
     "text": [
      "\u001b[34m\u001b[1mwandb\u001b[0m: Adding directory to artifact (/Users/abletimin/cernbox/Trigger/ml-met-trigger/wandb/run-20221027_150530-inzpfg20/files/model-best)... Done. 0.1s\n"
     ]
    },
    {
     "name": "stdout",
     "output_type": "stream",
     "text": [
      "INFO:tensorflow:Assets written to: /Users/abletimin/cernbox/Trigger/ml-met-trigger/wandb/run-20221027_150530-inzpfg20/files/model-best/assets\n"
     ]
    },
    {
     "name": "stderr",
     "output_type": "stream",
     "text": [
      "\u001b[34m\u001b[1mwandb\u001b[0m: Adding directory to artifact (/Users/abletimin/cernbox/Trigger/ml-met-trigger/wandb/run-20221027_150530-inzpfg20/files/model-best)... Done. 0.1s\n"
     ]
    },
    {
     "name": "stdout",
     "output_type": "stream",
     "text": [
      "INFO:tensorflow:Assets written to: /Users/abletimin/cernbox/Trigger/ml-met-trigger/wandb/run-20221027_150530-inzpfg20/files/model-best/assets\n"
     ]
    },
    {
     "name": "stderr",
     "output_type": "stream",
     "text": [
      "\u001b[34m\u001b[1mwandb\u001b[0m: Adding directory to artifact (/Users/abletimin/cernbox/Trigger/ml-met-trigger/wandb/run-20221027_150530-inzpfg20/files/model-best)... Done. 0.1s\n"
     ]
    },
    {
     "name": "stdout",
     "output_type": "stream",
     "text": [
      "INFO:tensorflow:Assets written to: /Users/abletimin/cernbox/Trigger/ml-met-trigger/wandb/run-20221027_150530-inzpfg20/files/model-best/assets\n"
     ]
    },
    {
     "name": "stderr",
     "output_type": "stream",
     "text": [
      "\u001b[34m\u001b[1mwandb\u001b[0m: Adding directory to artifact (/Users/abletimin/cernbox/Trigger/ml-met-trigger/wandb/run-20221027_150530-inzpfg20/files/model-best)... Done. 0.1s\n"
     ]
    },
    {
     "name": "stdout",
     "output_type": "stream",
     "text": [
      "INFO:tensorflow:Assets written to: /Users/abletimin/cernbox/Trigger/ml-met-trigger/wandb/run-20221027_150530-inzpfg20/files/model-best/assets\n"
     ]
    },
    {
     "name": "stderr",
     "output_type": "stream",
     "text": [
      "\u001b[34m\u001b[1mwandb\u001b[0m: Adding directory to artifact (/Users/abletimin/cernbox/Trigger/ml-met-trigger/wandb/run-20221027_150530-inzpfg20/files/model-best)... Done. 0.1s\n"
     ]
    },
    {
     "data": {
      "text/html": [
       "Waiting for W&B process to finish... <strong style=\"color:green\">(success).</strong>"
      ],
      "text/plain": [
       "<IPython.core.display.HTML object>"
      ]
     },
     "metadata": {},
     "output_type": "display_data"
    },
    {
     "data": {
      "text/html": [
       "<style>\n",
       "    table.wandb td:nth-child(1) { padding: 0 10px; text-align: left ; width: auto;} td:nth-child(2) {text-align: left ; width: 100%}\n",
       "    .wandb-row { display: flex; flex-direction: row; flex-wrap: wrap; justify-content: flex-start; width: 100% }\n",
       "    .wandb-col { display: flex; flex-direction: column; flex-basis: 100%; flex: 1; padding: 10px; }\n",
       "    </style>\n",
       "<div class=\"wandb-row\"><div class=\"wandb-col\"><h3>Run history:</h3><br/><table class=\"wandb\"><tr><td>epoch</td><td>▁▁▁▁▂▂▂▂▂▃▃▃▃▃▃▄▄▄▄▄▅▅▅▅▅▅▆▆▆▆▆▇▇▇▇▇▇███</td></tr><tr><td>loss</td><td>▂▁▁▁▁▁▁█▁▁▁▁▁▁▁▁▁▁▁▁▁▁▁▁▁▁▁▁▁▁▁▁▁▁▁▁▁▁▁▁</td></tr><tr><td>mean_absolute_error</td><td>▁▁▁▁▁▁▁█▁▁▁▁▁▁▁▁▁▁▁▁▁▁▁▁▁▁▁▁▁▁▁▁▁▁▁▁▁▁▁▁</td></tr><tr><td>val_loss</td><td>▂▁▁▁▁▁▁█▁▁▁▁▁▁▁▁▁▁▁▁▁▁▁▁▁▁▁▁▁▁▁▁▁▁▁▁▁▁▁▁</td></tr><tr><td>val_mean_absolute_error</td><td>▂▁▁▁▁▁▁█▁▁▁▁▁▁▁▁▁▁▁▁▁▁▁▁▁▁▁▁▁▁▁▁▁▁▁▁▁▁▁▁</td></tr></table><br/></div><div class=\"wandb-col\"><h3>Run summary:</h3><br/><table class=\"wandb\"><tr><td>best_epoch</td><td>198</td></tr><tr><td>best_val_loss</td><td>35.57329</td></tr><tr><td>epoch</td><td>199</td></tr><tr><td>loss</td><td>35.74209</td></tr><tr><td>mean_absolute_error</td><td>33.09838</td></tr><tr><td>val_loss</td><td>35.80088</td></tr><tr><td>val_mean_absolute_error</td><td>32.91054</td></tr></table><br/></div></div>"
      ],
      "text/plain": [
       "<IPython.core.display.HTML object>"
      ]
     },
     "metadata": {},
     "output_type": "display_data"
    },
    {
     "data": {
      "text/html": [
       "Synced <strong style=\"color:#cdcd00\">rosy-sweep-3</strong>: <a href=\"https://wandb.ai/ablet/hyperTune-NN/runs/inzpfg20\" target=\"_blank\">https://wandb.ai/ablet/hyperTune-NN/runs/inzpfg20</a><br/>Synced 7 W&B file(s), 0 media file(s), 72 artifact file(s) and 2 other file(s)"
      ],
      "text/plain": [
       "<IPython.core.display.HTML object>"
      ]
     },
     "metadata": {},
     "output_type": "display_data"
    },
    {
     "data": {
      "text/html": [
       "Find logs at: <code>./wandb/run-20221027_150530-inzpfg20/logs</code>"
      ],
      "text/plain": [
       "<IPython.core.display.HTML object>"
      ]
     },
     "metadata": {},
     "output_type": "display_data"
    },
    {
     "name": "stderr",
     "output_type": "stream",
     "text": [
      "\u001b[34m\u001b[1mwandb\u001b[0m: Sweep Agent: Waiting for job.\n",
      "\u001b[34m\u001b[1mwandb\u001b[0m: Job received.\n",
      "\u001b[34m\u001b[1mwandb\u001b[0m: Agent Starting Run: 2q8jvtpa with config:\n",
      "\u001b[34m\u001b[1mwandb\u001b[0m: \tactivation: relu\n",
      "\u001b[34m\u001b[1mwandb\u001b[0m: \tepochs: 200\n",
      "\u001b[34m\u001b[1mwandb\u001b[0m: \th_layers: [500]\n",
      "\u001b[34m\u001b[1mwandb\u001b[0m: \tloss: mean_absolute_error\n",
      "\u001b[34m\u001b[1mwandb\u001b[0m: \tlr: 0.055729856334518185\n",
      "\u001b[34m\u001b[1mwandb\u001b[0m: \u001b[33mWARNING\u001b[0m Ignored wandb.init() arg project when running a sweep.\n"
     ]
    },
    {
     "data": {
      "text/html": [
       "Tracking run with wandb version 0.13.4"
      ],
      "text/plain": [
       "<IPython.core.display.HTML object>"
      ]
     },
     "metadata": {},
     "output_type": "display_data"
    },
    {
     "data": {
      "text/html": [
       "Run data is saved locally in <code>/Users/abletimin/cernbox/Trigger/ml-met-trigger/wandb/run-20221027_151658-2q8jvtpa</code>"
      ],
      "text/plain": [
       "<IPython.core.display.HTML object>"
      ]
     },
     "metadata": {},
     "output_type": "display_data"
    },
    {
     "data": {
      "text/html": [
       "Syncing run <strong><a href=\"https://wandb.ai/ablet/hyperTune-NN/runs/2q8jvtpa\" target=\"_blank\">earthy-sweep-4</a></strong> to <a href=\"https://wandb.ai/ablet/hyperTune-NN\" target=\"_blank\">Weights & Biases</a> (<a href=\"https://wandb.me/run\" target=\"_blank\">docs</a>)<br/>Sweep page:  <a href=\"https://wandb.ai/ablet/hyperTune-NN/sweeps/v40zhba2\" target=\"_blank\">https://wandb.ai/ablet/hyperTune-NN/sweeps/v40zhba2</a>"
      ],
      "text/plain": [
       "<IPython.core.display.HTML object>"
      ]
     },
     "metadata": {},
     "output_type": "display_data"
    },
    {
     "name": "stdout",
     "output_type": "stream",
     "text": [
      "INFO:tensorflow:Assets written to: /Users/abletimin/cernbox/Trigger/ml-met-trigger/wandb/run-20221027_151658-2q8jvtpa/files/model-best/assets\n"
     ]
    },
    {
     "name": "stderr",
     "output_type": "stream",
     "text": [
      "\u001b[34m\u001b[1mwandb\u001b[0m: Adding directory to artifact (/Users/abletimin/cernbox/Trigger/ml-met-trigger/wandb/run-20221027_151658-2q8jvtpa/files/model-best)... Done. 0.0s\n"
     ]
    },
    {
     "name": "stdout",
     "output_type": "stream",
     "text": [
      "INFO:tensorflow:Assets written to: /Users/abletimin/cernbox/Trigger/ml-met-trigger/wandb/run-20221027_151658-2q8jvtpa/files/model-best/assets\n"
     ]
    },
    {
     "name": "stderr",
     "output_type": "stream",
     "text": [
      "\u001b[34m\u001b[1mwandb\u001b[0m: Adding directory to artifact (/Users/abletimin/cernbox/Trigger/ml-met-trigger/wandb/run-20221027_151658-2q8jvtpa/files/model-best)... Done. 0.0s\n"
     ]
    },
    {
     "name": "stdout",
     "output_type": "stream",
     "text": [
      "INFO:tensorflow:Assets written to: /Users/abletimin/cernbox/Trigger/ml-met-trigger/wandb/run-20221027_151658-2q8jvtpa/files/model-best/assets\n"
     ]
    },
    {
     "name": "stderr",
     "output_type": "stream",
     "text": [
      "\u001b[34m\u001b[1mwandb\u001b[0m: Adding directory to artifact (/Users/abletimin/cernbox/Trigger/ml-met-trigger/wandb/run-20221027_151658-2q8jvtpa/files/model-best)... Done. 0.0s\n"
     ]
    },
    {
     "name": "stdout",
     "output_type": "stream",
     "text": [
      "INFO:tensorflow:Assets written to: /Users/abletimin/cernbox/Trigger/ml-met-trigger/wandb/run-20221027_151658-2q8jvtpa/files/model-best/assets\n"
     ]
    },
    {
     "name": "stderr",
     "output_type": "stream",
     "text": [
      "\u001b[34m\u001b[1mwandb\u001b[0m: Adding directory to artifact (/Users/abletimin/cernbox/Trigger/ml-met-trigger/wandb/run-20221027_151658-2q8jvtpa/files/model-best)... Done. 0.0s\n"
     ]
    },
    {
     "name": "stdout",
     "output_type": "stream",
     "text": [
      "INFO:tensorflow:Assets written to: /Users/abletimin/cernbox/Trigger/ml-met-trigger/wandb/run-20221027_151658-2q8jvtpa/files/model-best/assets\n"
     ]
    },
    {
     "name": "stderr",
     "output_type": "stream",
     "text": [
      "\u001b[34m\u001b[1mwandb\u001b[0m: Adding directory to artifact (/Users/abletimin/cernbox/Trigger/ml-met-trigger/wandb/run-20221027_151658-2q8jvtpa/files/model-best)... Done. 0.0s\n"
     ]
    },
    {
     "name": "stdout",
     "output_type": "stream",
     "text": [
      "INFO:tensorflow:Assets written to: /Users/abletimin/cernbox/Trigger/ml-met-trigger/wandb/run-20221027_151658-2q8jvtpa/files/model-best/assets\n"
     ]
    },
    {
     "name": "stderr",
     "output_type": "stream",
     "text": [
      "\u001b[34m\u001b[1mwandb\u001b[0m: Adding directory to artifact (/Users/abletimin/cernbox/Trigger/ml-met-trigger/wandb/run-20221027_151658-2q8jvtpa/files/model-best)... Done. 0.0s\n"
     ]
    },
    {
     "name": "stdout",
     "output_type": "stream",
     "text": [
      "INFO:tensorflow:Assets written to: /Users/abletimin/cernbox/Trigger/ml-met-trigger/wandb/run-20221027_151658-2q8jvtpa/files/model-best/assets\n"
     ]
    },
    {
     "name": "stderr",
     "output_type": "stream",
     "text": [
      "\u001b[34m\u001b[1mwandb\u001b[0m: Adding directory to artifact (/Users/abletimin/cernbox/Trigger/ml-met-trigger/wandb/run-20221027_151658-2q8jvtpa/files/model-best)... Done. 0.0s\n"
     ]
    },
    {
     "name": "stdout",
     "output_type": "stream",
     "text": [
      "INFO:tensorflow:Assets written to: /Users/abletimin/cernbox/Trigger/ml-met-trigger/wandb/run-20221027_151658-2q8jvtpa/files/model-best/assets\n"
     ]
    },
    {
     "name": "stderr",
     "output_type": "stream",
     "text": [
      "\u001b[34m\u001b[1mwandb\u001b[0m: Adding directory to artifact (/Users/abletimin/cernbox/Trigger/ml-met-trigger/wandb/run-20221027_151658-2q8jvtpa/files/model-best)... Done. 0.0s\n"
     ]
    },
    {
     "name": "stdout",
     "output_type": "stream",
     "text": [
      "INFO:tensorflow:Assets written to: /Users/abletimin/cernbox/Trigger/ml-met-trigger/wandb/run-20221027_151658-2q8jvtpa/files/model-best/assets\n"
     ]
    },
    {
     "name": "stderr",
     "output_type": "stream",
     "text": [
      "\u001b[34m\u001b[1mwandb\u001b[0m: Adding directory to artifact (/Users/abletimin/cernbox/Trigger/ml-met-trigger/wandb/run-20221027_151658-2q8jvtpa/files/model-best)... Done. 0.0s\n"
     ]
    },
    {
     "name": "stdout",
     "output_type": "stream",
     "text": [
      "INFO:tensorflow:Assets written to: /Users/abletimin/cernbox/Trigger/ml-met-trigger/wandb/run-20221027_151658-2q8jvtpa/files/model-best/assets\n"
     ]
    },
    {
     "name": "stderr",
     "output_type": "stream",
     "text": [
      "\u001b[34m\u001b[1mwandb\u001b[0m: Adding directory to artifact (/Users/abletimin/cernbox/Trigger/ml-met-trigger/wandb/run-20221027_151658-2q8jvtpa/files/model-best)... Done. 0.0s\n"
     ]
    },
    {
     "name": "stdout",
     "output_type": "stream",
     "text": [
      "INFO:tensorflow:Assets written to: /Users/abletimin/cernbox/Trigger/ml-met-trigger/wandb/run-20221027_151658-2q8jvtpa/files/model-best/assets\n"
     ]
    },
    {
     "name": "stderr",
     "output_type": "stream",
     "text": [
      "\u001b[34m\u001b[1mwandb\u001b[0m: Adding directory to artifact (/Users/abletimin/cernbox/Trigger/ml-met-trigger/wandb/run-20221027_151658-2q8jvtpa/files/model-best)... Done. 0.0s\n"
     ]
    },
    {
     "name": "stdout",
     "output_type": "stream",
     "text": [
      "INFO:tensorflow:Assets written to: /Users/abletimin/cernbox/Trigger/ml-met-trigger/wandb/run-20221027_151658-2q8jvtpa/files/model-best/assets\n"
     ]
    },
    {
     "name": "stderr",
     "output_type": "stream",
     "text": [
      "\u001b[34m\u001b[1mwandb\u001b[0m: Adding directory to artifact (/Users/abletimin/cernbox/Trigger/ml-met-trigger/wandb/run-20221027_151658-2q8jvtpa/files/model-best)... Done. 0.0s\n"
     ]
    },
    {
     "name": "stdout",
     "output_type": "stream",
     "text": [
      "INFO:tensorflow:Assets written to: /Users/abletimin/cernbox/Trigger/ml-met-trigger/wandb/run-20221027_151658-2q8jvtpa/files/model-best/assets\n"
     ]
    },
    {
     "name": "stderr",
     "output_type": "stream",
     "text": [
      "\u001b[34m\u001b[1mwandb\u001b[0m: Adding directory to artifact (/Users/abletimin/cernbox/Trigger/ml-met-trigger/wandb/run-20221027_151658-2q8jvtpa/files/model-best)... Done. 0.0s\n"
     ]
    },
    {
     "name": "stdout",
     "output_type": "stream",
     "text": [
      "INFO:tensorflow:Assets written to: /Users/abletimin/cernbox/Trigger/ml-met-trigger/wandb/run-20221027_151658-2q8jvtpa/files/model-best/assets\n"
     ]
    },
    {
     "name": "stderr",
     "output_type": "stream",
     "text": [
      "\u001b[34m\u001b[1mwandb\u001b[0m: Adding directory to artifact (/Users/abletimin/cernbox/Trigger/ml-met-trigger/wandb/run-20221027_151658-2q8jvtpa/files/model-best)... Done. 0.0s\n"
     ]
    },
    {
     "data": {
      "text/html": [
       "Waiting for W&B process to finish... <strong style=\"color:green\">(success).</strong>"
      ],
      "text/plain": [
       "<IPython.core.display.HTML object>"
      ]
     },
     "metadata": {},
     "output_type": "display_data"
    },
    {
     "data": {
      "application/vnd.jupyter.widget-view+json": {
       "model_id": "daabe13ce0d04100aef75978468d6112",
       "version_major": 2,
       "version_minor": 0
      },
      "text/plain": [
       "VBox(children=(Label(value='138.971 MB of 138.971 MB uploaded (0.006 MB deduped)\\r'), FloatProgress(value=1.0,…"
      ]
     },
     "metadata": {},
     "output_type": "display_data"
    },
    {
     "data": {
      "text/html": [
       "<style>\n",
       "    table.wandb td:nth-child(1) { padding: 0 10px; text-align: left ; width: auto;} td:nth-child(2) {text-align: left ; width: 100%}\n",
       "    .wandb-row { display: flex; flex-direction: row; flex-wrap: wrap; justify-content: flex-start; width: 100% }\n",
       "    .wandb-col { display: flex; flex-direction: column; flex-basis: 100%; flex: 1; padding: 10px; }\n",
       "    </style>\n",
       "<div class=\"wandb-row\"><div class=\"wandb-col\"><h3>Run history:</h3><br/><table class=\"wandb\"><tr><td>epoch</td><td>▁▁▁▁▂▂▂▂▂▃▃▃▃▃▃▄▄▄▄▄▅▅▅▅▅▅▆▆▆▆▆▇▇▇▇▇▇███</td></tr><tr><td>loss</td><td>█▃▂▂▁▁▁▁▁▁▂▁▁▂▂▂▃▂▄▄▅▄▅▃▂▂▂▄▃▅█▇▄▃▂▁▂▂▂▄</td></tr><tr><td>mean_absolute_error</td><td>█▅▄▃▃▂▂▁▁▁▁▁▁▁▁▁▁▁▁▁▁▁▂▁▁▁▁▁▁▁▂▂▁▁▁▁▁▁▁▁</td></tr><tr><td>val_loss</td><td>▆▃▂▂▂▂▁▁▁▁▂▁▁▂▁▂▃▂▄▄▄▄▆▃▂▂▂▃▃▅█▇▅▃▂▁▂▂▂▆</td></tr><tr><td>val_mean_absolute_error</td><td>█▅▄▃▂▂▂▁▁▁▁▁▁▁▁▁▁▁▁▂▁▁▂▁▁▁▁▁▁▂▂▂▂▁▁▁▁▂▁▃</td></tr></table><br/></div><div class=\"wandb-col\"><h3>Run summary:</h3><br/><table class=\"wandb\"><tr><td>best_epoch</td><td>33</td></tr><tr><td>best_val_loss</td><td>39.14057</td></tr><tr><td>epoch</td><td>199</td></tr><tr><td>loss</td><td>49.66127</td></tr><tr><td>mean_absolute_error</td><td>33.6488</td></tr><tr><td>val_loss</td><td>53.80128</td></tr><tr><td>val_mean_absolute_error</td><td>35.09845</td></tr></table><br/></div></div>"
      ],
      "text/plain": [
       "<IPython.core.display.HTML object>"
      ]
     },
     "metadata": {},
     "output_type": "display_data"
    },
    {
     "data": {
      "text/html": [
       "Synced <strong style=\"color:#cdcd00\">earthy-sweep-4</strong>: <a href=\"https://wandb.ai/ablet/hyperTune-NN/runs/2q8jvtpa\" target=\"_blank\">https://wandb.ai/ablet/hyperTune-NN/runs/2q8jvtpa</a><br/>Synced 7 W&B file(s), 0 media file(s), 45 artifact file(s) and 2 other file(s)"
      ],
      "text/plain": [
       "<IPython.core.display.HTML object>"
      ]
     },
     "metadata": {},
     "output_type": "display_data"
    },
    {
     "data": {
      "text/html": [
       "Find logs at: <code>./wandb/run-20221027_151658-2q8jvtpa/logs</code>"
      ],
      "text/plain": [
       "<IPython.core.display.HTML object>"
      ]
     },
     "metadata": {},
     "output_type": "display_data"
    },
    {
     "name": "stderr",
     "output_type": "stream",
     "text": [
      "\u001b[34m\u001b[1mwandb\u001b[0m: Agent Starting Run: iawubkx9 with config:\n",
      "\u001b[34m\u001b[1mwandb\u001b[0m: \tactivation: relu\n",
      "\u001b[34m\u001b[1mwandb\u001b[0m: \tepochs: 200\n",
      "\u001b[34m\u001b[1mwandb\u001b[0m: \th_layers: [2000]\n",
      "\u001b[34m\u001b[1mwandb\u001b[0m: \tloss: mean_absolute_error\n",
      "\u001b[34m\u001b[1mwandb\u001b[0m: \tlr: 0.03303817978486837\n",
      "\u001b[34m\u001b[1mwandb\u001b[0m: \u001b[33mWARNING\u001b[0m Ignored wandb.init() arg project when running a sweep.\n"
     ]
    },
    {
     "data": {
      "text/html": [
       "Tracking run with wandb version 0.13.4"
      ],
      "text/plain": [
       "<IPython.core.display.HTML object>"
      ]
     },
     "metadata": {},
     "output_type": "display_data"
    },
    {
     "data": {
      "text/html": [
       "Run data is saved locally in <code>/Users/abletimin/cernbox/Trigger/ml-met-trigger/wandb/run-20221027_152017-iawubkx9</code>"
      ],
      "text/plain": [
       "<IPython.core.display.HTML object>"
      ]
     },
     "metadata": {},
     "output_type": "display_data"
    },
    {
     "data": {
      "text/html": [
       "Syncing run <strong><a href=\"https://wandb.ai/ablet/hyperTune-NN/runs/iawubkx9\" target=\"_blank\">rosy-sweep-5</a></strong> to <a href=\"https://wandb.ai/ablet/hyperTune-NN\" target=\"_blank\">Weights & Biases</a> (<a href=\"https://wandb.me/run\" target=\"_blank\">docs</a>)<br/>Sweep page:  <a href=\"https://wandb.ai/ablet/hyperTune-NN/sweeps/v40zhba2\" target=\"_blank\">https://wandb.ai/ablet/hyperTune-NN/sweeps/v40zhba2</a>"
      ],
      "text/plain": [
       "<IPython.core.display.HTML object>"
      ]
     },
     "metadata": {},
     "output_type": "display_data"
    },
    {
     "name": "stdout",
     "output_type": "stream",
     "text": [
      "INFO:tensorflow:Assets written to: /Users/abletimin/cernbox/Trigger/ml-met-trigger/wandb/run-20221027_152017-iawubkx9/files/model-best/assets\n"
     ]
    },
    {
     "name": "stderr",
     "output_type": "stream",
     "text": [
      "\u001b[34m\u001b[1mwandb\u001b[0m: Adding directory to artifact (/Users/abletimin/cernbox/Trigger/ml-met-trigger/wandb/run-20221027_152017-iawubkx9/files/model-best)... Done. 0.1s\n"
     ]
    },
    {
     "name": "stdout",
     "output_type": "stream",
     "text": [
      "INFO:tensorflow:Assets written to: /Users/abletimin/cernbox/Trigger/ml-met-trigger/wandb/run-20221027_152017-iawubkx9/files/model-best/assets\n"
     ]
    },
    {
     "name": "stderr",
     "output_type": "stream",
     "text": [
      "\u001b[34m\u001b[1mwandb\u001b[0m: Adding directory to artifact (/Users/abletimin/cernbox/Trigger/ml-met-trigger/wandb/run-20221027_152017-iawubkx9/files/model-best)... Done. 0.1s\n"
     ]
    },
    {
     "name": "stdout",
     "output_type": "stream",
     "text": [
      "INFO:tensorflow:Assets written to: /Users/abletimin/cernbox/Trigger/ml-met-trigger/wandb/run-20221027_152017-iawubkx9/files/model-best/assets\n"
     ]
    },
    {
     "name": "stderr",
     "output_type": "stream",
     "text": [
      "\u001b[34m\u001b[1mwandb\u001b[0m: Adding directory to artifact (/Users/abletimin/cernbox/Trigger/ml-met-trigger/wandb/run-20221027_152017-iawubkx9/files/model-best)... Done. 0.1s\n"
     ]
    },
    {
     "name": "stdout",
     "output_type": "stream",
     "text": [
      "INFO:tensorflow:Assets written to: /Users/abletimin/cernbox/Trigger/ml-met-trigger/wandb/run-20221027_152017-iawubkx9/files/model-best/assets\n"
     ]
    },
    {
     "name": "stderr",
     "output_type": "stream",
     "text": [
      "\u001b[34m\u001b[1mwandb\u001b[0m: Adding directory to artifact (/Users/abletimin/cernbox/Trigger/ml-met-trigger/wandb/run-20221027_152017-iawubkx9/files/model-best)... Done. 0.1s\n"
     ]
    },
    {
     "name": "stdout",
     "output_type": "stream",
     "text": [
      "INFO:tensorflow:Assets written to: /Users/abletimin/cernbox/Trigger/ml-met-trigger/wandb/run-20221027_152017-iawubkx9/files/model-best/assets\n"
     ]
    },
    {
     "name": "stderr",
     "output_type": "stream",
     "text": [
      "\u001b[34m\u001b[1mwandb\u001b[0m: Adding directory to artifact (/Users/abletimin/cernbox/Trigger/ml-met-trigger/wandb/run-20221027_152017-iawubkx9/files/model-best)... Done. 0.1s\n"
     ]
    },
    {
     "name": "stdout",
     "output_type": "stream",
     "text": [
      "INFO:tensorflow:Assets written to: /Users/abletimin/cernbox/Trigger/ml-met-trigger/wandb/run-20221027_152017-iawubkx9/files/model-best/assets\n"
     ]
    },
    {
     "name": "stderr",
     "output_type": "stream",
     "text": [
      "\u001b[34m\u001b[1mwandb\u001b[0m: Adding directory to artifact (/Users/abletimin/cernbox/Trigger/ml-met-trigger/wandb/run-20221027_152017-iawubkx9/files/model-best)... Done. 0.1s\n"
     ]
    },
    {
     "name": "stdout",
     "output_type": "stream",
     "text": [
      "INFO:tensorflow:Assets written to: /Users/abletimin/cernbox/Trigger/ml-met-trigger/wandb/run-20221027_152017-iawubkx9/files/model-best/assets\n"
     ]
    },
    {
     "name": "stderr",
     "output_type": "stream",
     "text": [
      "\u001b[34m\u001b[1mwandb\u001b[0m: Adding directory to artifact (/Users/abletimin/cernbox/Trigger/ml-met-trigger/wandb/run-20221027_152017-iawubkx9/files/model-best)... Done. 0.1s\n"
     ]
    },
    {
     "name": "stdout",
     "output_type": "stream",
     "text": [
      "INFO:tensorflow:Assets written to: /Users/abletimin/cernbox/Trigger/ml-met-trigger/wandb/run-20221027_152017-iawubkx9/files/model-best/assets\n"
     ]
    },
    {
     "name": "stderr",
     "output_type": "stream",
     "text": [
      "\u001b[34m\u001b[1mwandb\u001b[0m: Adding directory to artifact (/Users/abletimin/cernbox/Trigger/ml-met-trigger/wandb/run-20221027_152017-iawubkx9/files/model-best)... Done. 0.1s\n"
     ]
    },
    {
     "name": "stdout",
     "output_type": "stream",
     "text": [
      "INFO:tensorflow:Assets written to: /Users/abletimin/cernbox/Trigger/ml-met-trigger/wandb/run-20221027_152017-iawubkx9/files/model-best/assets\n"
     ]
    },
    {
     "name": "stderr",
     "output_type": "stream",
     "text": [
      "\u001b[34m\u001b[1mwandb\u001b[0m: Adding directory to artifact (/Users/abletimin/cernbox/Trigger/ml-met-trigger/wandb/run-20221027_152017-iawubkx9/files/model-best)... Done. 0.1s\n"
     ]
    },
    {
     "name": "stdout",
     "output_type": "stream",
     "text": [
      "INFO:tensorflow:Assets written to: /Users/abletimin/cernbox/Trigger/ml-met-trigger/wandb/run-20221027_152017-iawubkx9/files/model-best/assets\n"
     ]
    },
    {
     "name": "stderr",
     "output_type": "stream",
     "text": [
      "\u001b[34m\u001b[1mwandb\u001b[0m: Adding directory to artifact (/Users/abletimin/cernbox/Trigger/ml-met-trigger/wandb/run-20221027_152017-iawubkx9/files/model-best)... Done. 0.1s\n"
     ]
    },
    {
     "name": "stdout",
     "output_type": "stream",
     "text": [
      "INFO:tensorflow:Assets written to: /Users/abletimin/cernbox/Trigger/ml-met-trigger/wandb/run-20221027_152017-iawubkx9/files/model-best/assets\n"
     ]
    },
    {
     "name": "stderr",
     "output_type": "stream",
     "text": [
      "\u001b[34m\u001b[1mwandb\u001b[0m: Adding directory to artifact (/Users/abletimin/cernbox/Trigger/ml-met-trigger/wandb/run-20221027_152017-iawubkx9/files/model-best)... Done. 0.1s\n"
     ]
    },
    {
     "name": "stdout",
     "output_type": "stream",
     "text": [
      "INFO:tensorflow:Assets written to: /Users/abletimin/cernbox/Trigger/ml-met-trigger/wandb/run-20221027_152017-iawubkx9/files/model-best/assets\n"
     ]
    },
    {
     "name": "stderr",
     "output_type": "stream",
     "text": [
      "\u001b[34m\u001b[1mwandb\u001b[0m: Adding directory to artifact (/Users/abletimin/cernbox/Trigger/ml-met-trigger/wandb/run-20221027_152017-iawubkx9/files/model-best)... Done. 0.1s\n"
     ]
    },
    {
     "name": "stdout",
     "output_type": "stream",
     "text": [
      "INFO:tensorflow:Assets written to: /Users/abletimin/cernbox/Trigger/ml-met-trigger/wandb/run-20221027_152017-iawubkx9/files/model-best/assets\n"
     ]
    },
    {
     "name": "stderr",
     "output_type": "stream",
     "text": [
      "\u001b[34m\u001b[1mwandb\u001b[0m: Adding directory to artifact (/Users/abletimin/cernbox/Trigger/ml-met-trigger/wandb/run-20221027_152017-iawubkx9/files/model-best)... Done. 0.1s\n"
     ]
    },
    {
     "name": "stdout",
     "output_type": "stream",
     "text": [
      "INFO:tensorflow:Assets written to: /Users/abletimin/cernbox/Trigger/ml-met-trigger/wandb/run-20221027_152017-iawubkx9/files/model-best/assets\n"
     ]
    },
    {
     "name": "stderr",
     "output_type": "stream",
     "text": [
      "\u001b[34m\u001b[1mwandb\u001b[0m: Adding directory to artifact (/Users/abletimin/cernbox/Trigger/ml-met-trigger/wandb/run-20221027_152017-iawubkx9/files/model-best)... Done. 0.1s\n"
     ]
    },
    {
     "name": "stdout",
     "output_type": "stream",
     "text": [
      "INFO:tensorflow:Assets written to: /Users/abletimin/cernbox/Trigger/ml-met-trigger/wandb/run-20221027_152017-iawubkx9/files/model-best/assets\n"
     ]
    },
    {
     "name": "stderr",
     "output_type": "stream",
     "text": [
      "\u001b[34m\u001b[1mwandb\u001b[0m: Adding directory to artifact (/Users/abletimin/cernbox/Trigger/ml-met-trigger/wandb/run-20221027_152017-iawubkx9/files/model-best)... Done. 0.1s\n"
     ]
    },
    {
     "name": "stdout",
     "output_type": "stream",
     "text": [
      "INFO:tensorflow:Assets written to: /Users/abletimin/cernbox/Trigger/ml-met-trigger/wandb/run-20221027_152017-iawubkx9/files/model-best/assets\n"
     ]
    },
    {
     "name": "stderr",
     "output_type": "stream",
     "text": [
      "\u001b[34m\u001b[1mwandb\u001b[0m: Adding directory to artifact (/Users/abletimin/cernbox/Trigger/ml-met-trigger/wandb/run-20221027_152017-iawubkx9/files/model-best)... Done. 0.1s\n"
     ]
    },
    {
     "name": "stdout",
     "output_type": "stream",
     "text": [
      "INFO:tensorflow:Assets written to: /Users/abletimin/cernbox/Trigger/ml-met-trigger/wandb/run-20221027_152017-iawubkx9/files/model-best/assets\n"
     ]
    },
    {
     "name": "stderr",
     "output_type": "stream",
     "text": [
      "\u001b[34m\u001b[1mwandb\u001b[0m: Adding directory to artifact (/Users/abletimin/cernbox/Trigger/ml-met-trigger/wandb/run-20221027_152017-iawubkx9/files/model-best)... Done. 0.1s\n"
     ]
    },
    {
     "name": "stdout",
     "output_type": "stream",
     "text": [
      "INFO:tensorflow:Assets written to: /Users/abletimin/cernbox/Trigger/ml-met-trigger/wandb/run-20221027_152017-iawubkx9/files/model-best/assets\n"
     ]
    },
    {
     "name": "stderr",
     "output_type": "stream",
     "text": [
      "\u001b[34m\u001b[1mwandb\u001b[0m: Adding directory to artifact (/Users/abletimin/cernbox/Trigger/ml-met-trigger/wandb/run-20221027_152017-iawubkx9/files/model-best)... Done. 0.1s\n"
     ]
    },
    {
     "name": "stdout",
     "output_type": "stream",
     "text": [
      "INFO:tensorflow:Assets written to: /Users/abletimin/cernbox/Trigger/ml-met-trigger/wandb/run-20221027_152017-iawubkx9/files/model-best/assets\n"
     ]
    },
    {
     "name": "stderr",
     "output_type": "stream",
     "text": [
      "\u001b[34m\u001b[1mwandb\u001b[0m: Adding directory to artifact (/Users/abletimin/cernbox/Trigger/ml-met-trigger/wandb/run-20221027_152017-iawubkx9/files/model-best)... Done. 0.1s\n"
     ]
    },
    {
     "name": "stdout",
     "output_type": "stream",
     "text": [
      "INFO:tensorflow:Assets written to: /Users/abletimin/cernbox/Trigger/ml-met-trigger/wandb/run-20221027_152017-iawubkx9/files/model-best/assets\n"
     ]
    },
    {
     "name": "stderr",
     "output_type": "stream",
     "text": [
      "\u001b[34m\u001b[1mwandb\u001b[0m: Adding directory to artifact (/Users/abletimin/cernbox/Trigger/ml-met-trigger/wandb/run-20221027_152017-iawubkx9/files/model-best)... Done. 0.1s\n"
     ]
    },
    {
     "name": "stdout",
     "output_type": "stream",
     "text": [
      "INFO:tensorflow:Assets written to: /Users/abletimin/cernbox/Trigger/ml-met-trigger/wandb/run-20221027_152017-iawubkx9/files/model-best/assets\n"
     ]
    },
    {
     "name": "stderr",
     "output_type": "stream",
     "text": [
      "\u001b[34m\u001b[1mwandb\u001b[0m: Adding directory to artifact (/Users/abletimin/cernbox/Trigger/ml-met-trigger/wandb/run-20221027_152017-iawubkx9/files/model-best)... Done. 0.1s\n"
     ]
    },
    {
     "name": "stdout",
     "output_type": "stream",
     "text": [
      "INFO:tensorflow:Assets written to: /Users/abletimin/cernbox/Trigger/ml-met-trigger/wandb/run-20221027_152017-iawubkx9/files/model-best/assets\n"
     ]
    },
    {
     "name": "stderr",
     "output_type": "stream",
     "text": [
      "\u001b[34m\u001b[1mwandb\u001b[0m: Adding directory to artifact (/Users/abletimin/cernbox/Trigger/ml-met-trigger/wandb/run-20221027_152017-iawubkx9/files/model-best)... Done. 0.1s\n"
     ]
    },
    {
     "name": "stdout",
     "output_type": "stream",
     "text": [
      "INFO:tensorflow:Assets written to: /Users/abletimin/cernbox/Trigger/ml-met-trigger/wandb/run-20221027_152017-iawubkx9/files/model-best/assets\n"
     ]
    },
    {
     "name": "stderr",
     "output_type": "stream",
     "text": [
      "\u001b[34m\u001b[1mwandb\u001b[0m: Adding directory to artifact (/Users/abletimin/cernbox/Trigger/ml-met-trigger/wandb/run-20221027_152017-iawubkx9/files/model-best)... Done. 0.1s\n"
     ]
    },
    {
     "data": {
      "text/html": [
       "Waiting for W&B process to finish... <strong style=\"color:green\">(success).</strong>"
      ],
      "text/plain": [
       "<IPython.core.display.HTML object>"
      ]
     },
     "metadata": {},
     "output_type": "display_data"
    },
    {
     "data": {
      "application/vnd.jupyter.widget-view+json": {
       "model_id": "6d38b8215ded4acb8903410d302142be",
       "version_major": 2,
       "version_minor": 0
      },
      "text/plain": [
       "VBox(children=(Label(value='882.298 MB of 882.298 MB uploaded (0.006 MB deduped)\\r'), FloatProgress(value=1.0,…"
      ]
     },
     "metadata": {},
     "output_type": "display_data"
    },
    {
     "data": {
      "text/html": [
       "<style>\n",
       "    table.wandb td:nth-child(1) { padding: 0 10px; text-align: left ; width: auto;} td:nth-child(2) {text-align: left ; width: 100%}\n",
       "    .wandb-row { display: flex; flex-direction: row; flex-wrap: wrap; justify-content: flex-start; width: 100% }\n",
       "    .wandb-col { display: flex; flex-direction: column; flex-basis: 100%; flex: 1; padding: 10px; }\n",
       "    </style>\n",
       "<div class=\"wandb-row\"><div class=\"wandb-col\"><h3>Run history:</h3><br/><table class=\"wandb\"><tr><td>epoch</td><td>▁▁▁▁▂▂▂▂▂▃▃▃▃▃▃▄▄▄▄▄▅▅▅▅▅▅▆▆▆▆▆▇▇▇▇▇▇███</td></tr><tr><td>loss</td><td>▂▁▁▁▁▁▁▁▁▁▁▁▁▁▁▁▁▁▂▂█▁▁▁▁▁▁▁▁▁▁▁▁▁▁▁▁▁▁▁</td></tr><tr><td>mean_absolute_error</td><td>▂▂▂▁▁▁▁▁▁▁▁▁▁▁▁▁▁▁▁▁█▁▁▁▁▁▁▁▁▁▁▁▁▁▁▁▁▁▁▁</td></tr><tr><td>val_loss</td><td>▂▁▁▁▁▁▁▁▁▁▁▁▂▁▁▁▁▂▂▃█▁▁▁▁▁▁▁▁▁▁▁▁▁▁▁▁▁▁▁</td></tr><tr><td>val_mean_absolute_error</td><td>▃▃▂▂▂▂▂▂▁▁▁▁▁▁▁▁▁▁▁▂█▁▁▁▁▁▁▁▁▁▁▁▁▁▁▁▁▁▁▁</td></tr></table><br/></div><div class=\"wandb-col\"><h3>Run summary:</h3><br/><table class=\"wandb\"><tr><td>best_epoch</td><td>118</td></tr><tr><td>best_val_loss</td><td>34.27179</td></tr><tr><td>epoch</td><td>199</td></tr><tr><td>loss</td><td>37.24381</td></tr><tr><td>mean_absolute_error</td><td>33.04263</td></tr><tr><td>val_loss</td><td>37.00205</td></tr><tr><td>val_mean_absolute_error</td><td>32.93636</td></tr></table><br/></div></div>"
      ],
      "text/plain": [
       "<IPython.core.display.HTML object>"
      ]
     },
     "metadata": {},
     "output_type": "display_data"
    },
    {
     "data": {
      "text/html": [
       "Synced <strong style=\"color:#cdcd00\">rosy-sweep-5</strong>: <a href=\"https://wandb.ai/ablet/hyperTune-NN/runs/iawubkx9\" target=\"_blank\">https://wandb.ai/ablet/hyperTune-NN/runs/iawubkx9</a><br/>Synced 7 W&B file(s), 0 media file(s), 72 artifact file(s) and 2 other file(s)"
      ],
      "text/plain": [
       "<IPython.core.display.HTML object>"
      ]
     },
     "metadata": {},
     "output_type": "display_data"
    },
    {
     "data": {
      "text/html": [
       "Find logs at: <code>./wandb/run-20221027_152017-iawubkx9/logs</code>"
      ],
      "text/plain": [
       "<IPython.core.display.HTML object>"
      ]
     },
     "metadata": {},
     "output_type": "display_data"
    }
   ],
   "source": [
    "WANDB_PROJECT_NAME = 'hyperTune-NN'\n",
    "def train():\n",
    "    with wandb.init(project=WANDB_PROJECT_NAME) as run:\n",
    "        config = wandb.config\n",
    "        model = hyper_mode(config)\n",
    "        \n",
    "        model.fit(x_train, y_train, \n",
    "                        batch_size= 1024,\n",
    "                        epochs=config['epochs'], \n",
    "                        verbose=0, validation_split=0.2,\n",
    "                        callbacks=[wandb.keras.WandbCallback()]\n",
    "                       )   \n",
    "        \n",
    "\n",
    "wandb.agent(sweep_id=sweep_id, function=train, count=5)"
   ]
  },
  {
   "cell_type": "code",
   "execution_count": 6,
   "id": "0ba60311-2bf5-41d1-9d8f-776908e89353",
   "metadata": {},
   "outputs": [
    {
     "name": "stderr",
     "output_type": "stream",
     "text": [
      "\u001b[34m\u001b[1mwandb\u001b[0m: Agent Starting Run: chrtabdf with config:\n",
      "\u001b[34m\u001b[1mwandb\u001b[0m: \tactivation: relu\n",
      "\u001b[34m\u001b[1mwandb\u001b[0m: \tepochs: 200\n",
      "\u001b[34m\u001b[1mwandb\u001b[0m: \th_layers: [1000]\n",
      "\u001b[34m\u001b[1mwandb\u001b[0m: \tloss: mean_squared_error\n",
      "\u001b[34m\u001b[1mwandb\u001b[0m: \tlr: 0.04685100099611096\n",
      "\u001b[34m\u001b[1mwandb\u001b[0m: \u001b[33mWARNING\u001b[0m Ignored wandb.init() arg project when running a sweep.\n"
     ]
    },
    {
     "data": {
      "text/html": [
       "Tracking run with wandb version 0.13.4"
      ],
      "text/plain": [
       "<IPython.core.display.HTML object>"
      ]
     },
     "metadata": {},
     "output_type": "display_data"
    },
    {
     "data": {
      "text/html": [
       "Run data is saved locally in <code>/Users/abletimin/cernbox/Trigger/ml-met-trigger/wandb/run-20221027_153316-chrtabdf</code>"
      ],
      "text/plain": [
       "<IPython.core.display.HTML object>"
      ]
     },
     "metadata": {},
     "output_type": "display_data"
    },
    {
     "data": {
      "text/html": [
       "Syncing run <strong><a href=\"https://wandb.ai/ablet/hyperTune-NN/runs/chrtabdf\" target=\"_blank\">smooth-sweep-6</a></strong> to <a href=\"https://wandb.ai/ablet/hyperTune-NN\" target=\"_blank\">Weights & Biases</a> (<a href=\"https://wandb.me/run\" target=\"_blank\">docs</a>)<br/>Sweep page:  <a href=\"https://wandb.ai/ablet/hyperTune-NN/sweeps/v40zhba2\" target=\"_blank\">https://wandb.ai/ablet/hyperTune-NN/sweeps/v40zhba2</a>"
      ],
      "text/plain": [
       "<IPython.core.display.HTML object>"
      ]
     },
     "metadata": {},
     "output_type": "display_data"
    },
    {
     "name": "stdout",
     "output_type": "stream",
     "text": [
      "INFO:tensorflow:Assets written to: /Users/abletimin/cernbox/Trigger/ml-met-trigger/wandb/run-20221027_153316-chrtabdf/files/model-best/assets\n"
     ]
    },
    {
     "name": "stderr",
     "output_type": "stream",
     "text": [
      "\u001b[34m\u001b[1mwandb\u001b[0m: Adding directory to artifact (/Users/abletimin/cernbox/Trigger/ml-met-trigger/wandb/run-20221027_153316-chrtabdf/files/model-best)... Done. 0.1s\n"
     ]
    },
    {
     "name": "stdout",
     "output_type": "stream",
     "text": [
      "INFO:tensorflow:Assets written to: /Users/abletimin/cernbox/Trigger/ml-met-trigger/wandb/run-20221027_153316-chrtabdf/files/model-best/assets\n"
     ]
    },
    {
     "name": "stderr",
     "output_type": "stream",
     "text": [
      "\u001b[34m\u001b[1mwandb\u001b[0m: Adding directory to artifact (/Users/abletimin/cernbox/Trigger/ml-met-trigger/wandb/run-20221027_153316-chrtabdf/files/model-best)... Done. 0.0s\n"
     ]
    },
    {
     "name": "stdout",
     "output_type": "stream",
     "text": [
      "INFO:tensorflow:Assets written to: /Users/abletimin/cernbox/Trigger/ml-met-trigger/wandb/run-20221027_153316-chrtabdf/files/model-best/assets\n"
     ]
    },
    {
     "name": "stderr",
     "output_type": "stream",
     "text": [
      "\u001b[34m\u001b[1mwandb\u001b[0m: Adding directory to artifact (/Users/abletimin/cernbox/Trigger/ml-met-trigger/wandb/run-20221027_153316-chrtabdf/files/model-best)... Done. 0.0s\n"
     ]
    },
    {
     "name": "stdout",
     "output_type": "stream",
     "text": [
      "INFO:tensorflow:Assets written to: /Users/abletimin/cernbox/Trigger/ml-met-trigger/wandb/run-20221027_153316-chrtabdf/files/model-best/assets\n"
     ]
    },
    {
     "name": "stderr",
     "output_type": "stream",
     "text": [
      "\u001b[34m\u001b[1mwandb\u001b[0m: Adding directory to artifact (/Users/abletimin/cernbox/Trigger/ml-met-trigger/wandb/run-20221027_153316-chrtabdf/files/model-best)... Done. 0.0s\n"
     ]
    },
    {
     "name": "stdout",
     "output_type": "stream",
     "text": [
      "INFO:tensorflow:Assets written to: /Users/abletimin/cernbox/Trigger/ml-met-trigger/wandb/run-20221027_153316-chrtabdf/files/model-best/assets\n"
     ]
    },
    {
     "name": "stderr",
     "output_type": "stream",
     "text": [
      "\u001b[34m\u001b[1mwandb\u001b[0m: Adding directory to artifact (/Users/abletimin/cernbox/Trigger/ml-met-trigger/wandb/run-20221027_153316-chrtabdf/files/model-best)... Done. 0.1s\n"
     ]
    },
    {
     "name": "stdout",
     "output_type": "stream",
     "text": [
      "INFO:tensorflow:Assets written to: /Users/abletimin/cernbox/Trigger/ml-met-trigger/wandb/run-20221027_153316-chrtabdf/files/model-best/assets\n"
     ]
    },
    {
     "name": "stderr",
     "output_type": "stream",
     "text": [
      "\u001b[34m\u001b[1mwandb\u001b[0m: Adding directory to artifact (/Users/abletimin/cernbox/Trigger/ml-met-trigger/wandb/run-20221027_153316-chrtabdf/files/model-best)... Done. 0.0s\n"
     ]
    },
    {
     "name": "stdout",
     "output_type": "stream",
     "text": [
      "INFO:tensorflow:Assets written to: /Users/abletimin/cernbox/Trigger/ml-met-trigger/wandb/run-20221027_153316-chrtabdf/files/model-best/assets\n"
     ]
    },
    {
     "name": "stderr",
     "output_type": "stream",
     "text": [
      "\u001b[34m\u001b[1mwandb\u001b[0m: Adding directory to artifact (/Users/abletimin/cernbox/Trigger/ml-met-trigger/wandb/run-20221027_153316-chrtabdf/files/model-best)... Done. 0.0s\n"
     ]
    },
    {
     "name": "stdout",
     "output_type": "stream",
     "text": [
      "INFO:tensorflow:Assets written to: /Users/abletimin/cernbox/Trigger/ml-met-trigger/wandb/run-20221027_153316-chrtabdf/files/model-best/assets\n"
     ]
    },
    {
     "name": "stderr",
     "output_type": "stream",
     "text": [
      "\u001b[34m\u001b[1mwandb\u001b[0m: Adding directory to artifact (/Users/abletimin/cernbox/Trigger/ml-met-trigger/wandb/run-20221027_153316-chrtabdf/files/model-best)... Done. 0.0s\n"
     ]
    },
    {
     "name": "stdout",
     "output_type": "stream",
     "text": [
      "INFO:tensorflow:Assets written to: /Users/abletimin/cernbox/Trigger/ml-met-trigger/wandb/run-20221027_153316-chrtabdf/files/model-best/assets\n"
     ]
    },
    {
     "name": "stderr",
     "output_type": "stream",
     "text": [
      "\u001b[34m\u001b[1mwandb\u001b[0m: Adding directory to artifact (/Users/abletimin/cernbox/Trigger/ml-met-trigger/wandb/run-20221027_153316-chrtabdf/files/model-best)... Done. 0.0s\n"
     ]
    },
    {
     "name": "stdout",
     "output_type": "stream",
     "text": [
      "INFO:tensorflow:Assets written to: /Users/abletimin/cernbox/Trigger/ml-met-trigger/wandb/run-20221027_153316-chrtabdf/files/model-best/assets\n"
     ]
    },
    {
     "name": "stderr",
     "output_type": "stream",
     "text": [
      "\u001b[34m\u001b[1mwandb\u001b[0m: Adding directory to artifact (/Users/abletimin/cernbox/Trigger/ml-met-trigger/wandb/run-20221027_153316-chrtabdf/files/model-best)... Done. 0.0s\n"
     ]
    },
    {
     "name": "stdout",
     "output_type": "stream",
     "text": [
      "INFO:tensorflow:Assets written to: /Users/abletimin/cernbox/Trigger/ml-met-trigger/wandb/run-20221027_153316-chrtabdf/files/model-best/assets\n"
     ]
    },
    {
     "name": "stderr",
     "output_type": "stream",
     "text": [
      "\u001b[34m\u001b[1mwandb\u001b[0m: Adding directory to artifact (/Users/abletimin/cernbox/Trigger/ml-met-trigger/wandb/run-20221027_153316-chrtabdf/files/model-best)... Done. 0.0s\n"
     ]
    },
    {
     "name": "stdout",
     "output_type": "stream",
     "text": [
      "INFO:tensorflow:Assets written to: /Users/abletimin/cernbox/Trigger/ml-met-trigger/wandb/run-20221027_153316-chrtabdf/files/model-best/assets\n"
     ]
    },
    {
     "name": "stderr",
     "output_type": "stream",
     "text": [
      "\u001b[34m\u001b[1mwandb\u001b[0m: Adding directory to artifact (/Users/abletimin/cernbox/Trigger/ml-met-trigger/wandb/run-20221027_153316-chrtabdf/files/model-best)... Done. 0.0s\n"
     ]
    },
    {
     "name": "stdout",
     "output_type": "stream",
     "text": [
      "INFO:tensorflow:Assets written to: /Users/abletimin/cernbox/Trigger/ml-met-trigger/wandb/run-20221027_153316-chrtabdf/files/model-best/assets\n"
     ]
    },
    {
     "name": "stderr",
     "output_type": "stream",
     "text": [
      "\u001b[34m\u001b[1mwandb\u001b[0m: Adding directory to artifact (/Users/abletimin/cernbox/Trigger/ml-met-trigger/wandb/run-20221027_153316-chrtabdf/files/model-best)... Done. 0.0s\n"
     ]
    },
    {
     "name": "stdout",
     "output_type": "stream",
     "text": [
      "INFO:tensorflow:Assets written to: /Users/abletimin/cernbox/Trigger/ml-met-trigger/wandb/run-20221027_153316-chrtabdf/files/model-best/assets\n"
     ]
    },
    {
     "name": "stderr",
     "output_type": "stream",
     "text": [
      "\u001b[34m\u001b[1mwandb\u001b[0m: Adding directory to artifact (/Users/abletimin/cernbox/Trigger/ml-met-trigger/wandb/run-20221027_153316-chrtabdf/files/model-best)... Done. 0.0s\n"
     ]
    },
    {
     "data": {
      "text/html": [
       "Waiting for W&B process to finish... <strong style=\"color:green\">(success).</strong>"
      ],
      "text/plain": [
       "<IPython.core.display.HTML object>"
      ]
     },
     "metadata": {},
     "output_type": "display_data"
    },
    {
     "data": {
      "application/vnd.jupyter.widget-view+json": {
       "model_id": "f0d3684c1e5d4454b150636eb45e105a",
       "version_major": 2,
       "version_minor": 0
      },
      "text/plain": [
       "VBox(children=(Label(value='276.502 MB of 276.502 MB uploaded (0.006 MB deduped)\\r'), FloatProgress(value=1.0,…"
      ]
     },
     "metadata": {},
     "output_type": "display_data"
    },
    {
     "data": {
      "text/html": [
       "<style>\n",
       "    table.wandb td:nth-child(1) { padding: 0 10px; text-align: left ; width: auto;} td:nth-child(2) {text-align: left ; width: 100%}\n",
       "    .wandb-row { display: flex; flex-direction: row; flex-wrap: wrap; justify-content: flex-start; width: 100% }\n",
       "    .wandb-col { display: flex; flex-direction: column; flex-basis: 100%; flex: 1; padding: 10px; }\n",
       "    </style>\n",
       "<div class=\"wandb-row\"><div class=\"wandb-col\"><h3>Run history:</h3><br/><table class=\"wandb\"><tr><td>epoch</td><td>▁▁▁▁▂▂▂▂▂▃▃▃▃▃▃▄▄▄▄▄▅▅▅▅▅▅▆▆▆▆▆▇▇▇▇▇▇███</td></tr><tr><td>loss</td><td>▁▁▂▂▁▄▂▁▁▁▁▁▂▁▁▁▁▁▁▁▁▁▁▁▁▁▃█▃▂▁▁▁▁▁▁▁▁▁▂</td></tr><tr><td>mean_absolute_error</td><td>▂▂▃▃▃▅▃▂▂▂▂▂▄▂▂▂▁▁▁▁▁▁▁▁▁▁▃█▅▂▂▂▁▁▁▁▁▁▂▃</td></tr><tr><td>val_loss</td><td>▁▁▂▃▂▃▂▂▁▁▁▁▂▂▂▁▁▁▁▁▁▁▁▁▁▁▂█▅▃▂▂▂▂▁▁▁▁▁▂</td></tr><tr><td>val_mean_absolute_error</td><td>▁▂▃▂▂▄▂▁▁▁▁▁▂▂▁▁▁▁▁▁▁▁▁▁▁▁▃█▃▁▂▁▁▁▁▁▁▁▂▂</td></tr></table><br/></div><div class=\"wandb-col\"><h3>Run summary:</h3><br/><table class=\"wandb\"><tr><td>best_epoch</td><td>121</td></tr><tr><td>best_val_loss</td><td>4317.43115</td></tr><tr><td>epoch</td><td>199</td></tr><tr><td>loss</td><td>98086.17969</td></tr><tr><td>mean_absolute_error</td><td>54.36374</td></tr><tr><td>val_loss</td><td>29992.60547</td></tr><tr><td>val_mean_absolute_error</td><td>53.11938</td></tr></table><br/></div></div>"
      ],
      "text/plain": [
       "<IPython.core.display.HTML object>"
      ]
     },
     "metadata": {},
     "output_type": "display_data"
    },
    {
     "data": {
      "text/html": [
       "Synced <strong style=\"color:#cdcd00\">smooth-sweep-6</strong>: <a href=\"https://wandb.ai/ablet/hyperTune-NN/runs/chrtabdf\" target=\"_blank\">https://wandb.ai/ablet/hyperTune-NN/runs/chrtabdf</a><br/>Synced 7 W&B file(s), 0 media file(s), 45 artifact file(s) and 2 other file(s)"
      ],
      "text/plain": [
       "<IPython.core.display.HTML object>"
      ]
     },
     "metadata": {},
     "output_type": "display_data"
    },
    {
     "data": {
      "text/html": [
       "Find logs at: <code>./wandb/run-20221027_153316-chrtabdf/logs</code>"
      ],
      "text/plain": [
       "<IPython.core.display.HTML object>"
      ]
     },
     "metadata": {},
     "output_type": "display_data"
    },
    {
     "name": "stderr",
     "output_type": "stream",
     "text": [
      "\u001b[34m\u001b[1mwandb\u001b[0m: Sweep Agent: Waiting for job.\n",
      "\u001b[34m\u001b[1mwandb\u001b[0m: Job received.\n",
      "\u001b[34m\u001b[1mwandb\u001b[0m: Agent Starting Run: j8zsd3qd with config:\n",
      "\u001b[34m\u001b[1mwandb\u001b[0m: \tactivation: linear\n",
      "\u001b[34m\u001b[1mwandb\u001b[0m: \tepochs: 200\n",
      "\u001b[34m\u001b[1mwandb\u001b[0m: \th_layers: [2000]\n",
      "\u001b[34m\u001b[1mwandb\u001b[0m: \tloss: mean_squared_error\n",
      "\u001b[34m\u001b[1mwandb\u001b[0m: \tlr: 0.025053004474532056\n",
      "\u001b[34m\u001b[1mwandb\u001b[0m: \u001b[33mWARNING\u001b[0m Ignored wandb.init() arg project when running a sweep.\n"
     ]
    },
    {
     "data": {
      "text/html": [
       "Tracking run with wandb version 0.13.4"
      ],
      "text/plain": [
       "<IPython.core.display.HTML object>"
      ]
     },
     "metadata": {},
     "output_type": "display_data"
    },
    {
     "data": {
      "text/html": [
       "Run data is saved locally in <code>/Users/abletimin/cernbox/Trigger/ml-met-trigger/wandb/run-20221027_153919-j8zsd3qd</code>"
      ],
      "text/plain": [
       "<IPython.core.display.HTML object>"
      ]
     },
     "metadata": {},
     "output_type": "display_data"
    },
    {
     "data": {
      "text/html": [
       "Syncing run <strong><a href=\"https://wandb.ai/ablet/hyperTune-NN/runs/j8zsd3qd\" target=\"_blank\">icy-sweep-7</a></strong> to <a href=\"https://wandb.ai/ablet/hyperTune-NN\" target=\"_blank\">Weights & Biases</a> (<a href=\"https://wandb.me/run\" target=\"_blank\">docs</a>)<br/>Sweep page:  <a href=\"https://wandb.ai/ablet/hyperTune-NN/sweeps/v40zhba2\" target=\"_blank\">https://wandb.ai/ablet/hyperTune-NN/sweeps/v40zhba2</a>"
      ],
      "text/plain": [
       "<IPython.core.display.HTML object>"
      ]
     },
     "metadata": {},
     "output_type": "display_data"
    },
    {
     "name": "stdout",
     "output_type": "stream",
     "text": [
      "INFO:tensorflow:Assets written to: /Users/abletimin/cernbox/Trigger/ml-met-trigger/wandb/run-20221027_153919-j8zsd3qd/files/model-best/assets\n"
     ]
    },
    {
     "name": "stderr",
     "output_type": "stream",
     "text": [
      "\u001b[34m\u001b[1mwandb\u001b[0m: Adding directory to artifact (/Users/abletimin/cernbox/Trigger/ml-met-trigger/wandb/run-20221027_153919-j8zsd3qd/files/model-best)... Done. 0.1s\n"
     ]
    },
    {
     "name": "stdout",
     "output_type": "stream",
     "text": [
      "INFO:tensorflow:Assets written to: /Users/abletimin/cernbox/Trigger/ml-met-trigger/wandb/run-20221027_153919-j8zsd3qd/files/model-best/assets\n"
     ]
    },
    {
     "name": "stderr",
     "output_type": "stream",
     "text": [
      "\u001b[34m\u001b[1mwandb\u001b[0m: Adding directory to artifact (/Users/abletimin/cernbox/Trigger/ml-met-trigger/wandb/run-20221027_153919-j8zsd3qd/files/model-best)... Done. 0.1s\n"
     ]
    },
    {
     "name": "stdout",
     "output_type": "stream",
     "text": [
      "INFO:tensorflow:Assets written to: /Users/abletimin/cernbox/Trigger/ml-met-trigger/wandb/run-20221027_153919-j8zsd3qd/files/model-best/assets\n"
     ]
    },
    {
     "name": "stderr",
     "output_type": "stream",
     "text": [
      "\u001b[34m\u001b[1mwandb\u001b[0m: Adding directory to artifact (/Users/abletimin/cernbox/Trigger/ml-met-trigger/wandb/run-20221027_153919-j8zsd3qd/files/model-best)... Done. 0.1s\n"
     ]
    },
    {
     "name": "stdout",
     "output_type": "stream",
     "text": [
      "INFO:tensorflow:Assets written to: /Users/abletimin/cernbox/Trigger/ml-met-trigger/wandb/run-20221027_153919-j8zsd3qd/files/model-best/assets\n"
     ]
    },
    {
     "name": "stderr",
     "output_type": "stream",
     "text": [
      "\u001b[34m\u001b[1mwandb\u001b[0m: Adding directory to artifact (/Users/abletimin/cernbox/Trigger/ml-met-trigger/wandb/run-20221027_153919-j8zsd3qd/files/model-best)... Done. 0.1s\n"
     ]
    },
    {
     "name": "stdout",
     "output_type": "stream",
     "text": [
      "INFO:tensorflow:Assets written to: /Users/abletimin/cernbox/Trigger/ml-met-trigger/wandb/run-20221027_153919-j8zsd3qd/files/model-best/assets\n"
     ]
    },
    {
     "name": "stderr",
     "output_type": "stream",
     "text": [
      "\u001b[34m\u001b[1mwandb\u001b[0m: Adding directory to artifact (/Users/abletimin/cernbox/Trigger/ml-met-trigger/wandb/run-20221027_153919-j8zsd3qd/files/model-best)... Done. 0.1s\n"
     ]
    },
    {
     "name": "stdout",
     "output_type": "stream",
     "text": [
      "INFO:tensorflow:Assets written to: /Users/abletimin/cernbox/Trigger/ml-met-trigger/wandb/run-20221027_153919-j8zsd3qd/files/model-best/assets\n"
     ]
    },
    {
     "name": "stderr",
     "output_type": "stream",
     "text": [
      "\u001b[34m\u001b[1mwandb\u001b[0m: Adding directory to artifact (/Users/abletimin/cernbox/Trigger/ml-met-trigger/wandb/run-20221027_153919-j8zsd3qd/files/model-best)... Done. 0.1s\n"
     ]
    },
    {
     "name": "stdout",
     "output_type": "stream",
     "text": [
      "INFO:tensorflow:Assets written to: /Users/abletimin/cernbox/Trigger/ml-met-trigger/wandb/run-20221027_153919-j8zsd3qd/files/model-best/assets\n"
     ]
    },
    {
     "name": "stderr",
     "output_type": "stream",
     "text": [
      "\u001b[34m\u001b[1mwandb\u001b[0m: Adding directory to artifact (/Users/abletimin/cernbox/Trigger/ml-met-trigger/wandb/run-20221027_153919-j8zsd3qd/files/model-best)... Done. 0.1s\n"
     ]
    },
    {
     "name": "stdout",
     "output_type": "stream",
     "text": [
      "INFO:tensorflow:Assets written to: /Users/abletimin/cernbox/Trigger/ml-met-trigger/wandb/run-20221027_153919-j8zsd3qd/files/model-best/assets\n"
     ]
    },
    {
     "name": "stderr",
     "output_type": "stream",
     "text": [
      "\u001b[34m\u001b[1mwandb\u001b[0m: Adding directory to artifact (/Users/abletimin/cernbox/Trigger/ml-met-trigger/wandb/run-20221027_153919-j8zsd3qd/files/model-best)... Done. 0.1s\n"
     ]
    },
    {
     "name": "stdout",
     "output_type": "stream",
     "text": [
      "INFO:tensorflow:Assets written to: /Users/abletimin/cernbox/Trigger/ml-met-trigger/wandb/run-20221027_153919-j8zsd3qd/files/model-best/assets\n"
     ]
    },
    {
     "name": "stderr",
     "output_type": "stream",
     "text": [
      "\u001b[34m\u001b[1mwandb\u001b[0m: Adding directory to artifact (/Users/abletimin/cernbox/Trigger/ml-met-trigger/wandb/run-20221027_153919-j8zsd3qd/files/model-best)... Done. 0.1s\n"
     ]
    },
    {
     "name": "stdout",
     "output_type": "stream",
     "text": [
      "INFO:tensorflow:Assets written to: /Users/abletimin/cernbox/Trigger/ml-met-trigger/wandb/run-20221027_153919-j8zsd3qd/files/model-best/assets\n"
     ]
    },
    {
     "name": "stderr",
     "output_type": "stream",
     "text": [
      "\u001b[34m\u001b[1mwandb\u001b[0m: Adding directory to artifact (/Users/abletimin/cernbox/Trigger/ml-met-trigger/wandb/run-20221027_153919-j8zsd3qd/files/model-best)... Done. 0.1s\n"
     ]
    },
    {
     "name": "stdout",
     "output_type": "stream",
     "text": [
      "INFO:tensorflow:Assets written to: /Users/abletimin/cernbox/Trigger/ml-met-trigger/wandb/run-20221027_153919-j8zsd3qd/files/model-best/assets\n"
     ]
    },
    {
     "name": "stderr",
     "output_type": "stream",
     "text": [
      "\u001b[34m\u001b[1mwandb\u001b[0m: Adding directory to artifact (/Users/abletimin/cernbox/Trigger/ml-met-trigger/wandb/run-20221027_153919-j8zsd3qd/files/model-best)... Done. 0.1s\n"
     ]
    },
    {
     "name": "stdout",
     "output_type": "stream",
     "text": [
      "INFO:tensorflow:Assets written to: /Users/abletimin/cernbox/Trigger/ml-met-trigger/wandb/run-20221027_153919-j8zsd3qd/files/model-best/assets\n"
     ]
    },
    {
     "name": "stderr",
     "output_type": "stream",
     "text": [
      "\u001b[34m\u001b[1mwandb\u001b[0m: Adding directory to artifact (/Users/abletimin/cernbox/Trigger/ml-met-trigger/wandb/run-20221027_153919-j8zsd3qd/files/model-best)... Done. 0.1s\n"
     ]
    },
    {
     "name": "stdout",
     "output_type": "stream",
     "text": [
      "INFO:tensorflow:Assets written to: /Users/abletimin/cernbox/Trigger/ml-met-trigger/wandb/run-20221027_153919-j8zsd3qd/files/model-best/assets\n"
     ]
    },
    {
     "name": "stderr",
     "output_type": "stream",
     "text": [
      "\u001b[34m\u001b[1mwandb\u001b[0m: Adding directory to artifact (/Users/abletimin/cernbox/Trigger/ml-met-trigger/wandb/run-20221027_153919-j8zsd3qd/files/model-best)... Done. 0.1s\n"
     ]
    },
    {
     "name": "stdout",
     "output_type": "stream",
     "text": [
      "INFO:tensorflow:Assets written to: /Users/abletimin/cernbox/Trigger/ml-met-trigger/wandb/run-20221027_153919-j8zsd3qd/files/model-best/assets\n"
     ]
    },
    {
     "name": "stderr",
     "output_type": "stream",
     "text": [
      "\u001b[34m\u001b[1mwandb\u001b[0m: Adding directory to artifact (/Users/abletimin/cernbox/Trigger/ml-met-trigger/wandb/run-20221027_153919-j8zsd3qd/files/model-best)... Done. 0.1s\n"
     ]
    },
    {
     "name": "stdout",
     "output_type": "stream",
     "text": [
      "INFO:tensorflow:Assets written to: /Users/abletimin/cernbox/Trigger/ml-met-trigger/wandb/run-20221027_153919-j8zsd3qd/files/model-best/assets\n"
     ]
    },
    {
     "name": "stderr",
     "output_type": "stream",
     "text": [
      "\u001b[34m\u001b[1mwandb\u001b[0m: Adding directory to artifact (/Users/abletimin/cernbox/Trigger/ml-met-trigger/wandb/run-20221027_153919-j8zsd3qd/files/model-best)... Done. 0.1s\n"
     ]
    },
    {
     "name": "stdout",
     "output_type": "stream",
     "text": [
      "INFO:tensorflow:Assets written to: /Users/abletimin/cernbox/Trigger/ml-met-trigger/wandb/run-20221027_153919-j8zsd3qd/files/model-best/assets\n"
     ]
    },
    {
     "name": "stderr",
     "output_type": "stream",
     "text": [
      "\u001b[34m\u001b[1mwandb\u001b[0m: Adding directory to artifact (/Users/abletimin/cernbox/Trigger/ml-met-trigger/wandb/run-20221027_153919-j8zsd3qd/files/model-best)... Done. 0.1s\n"
     ]
    },
    {
     "name": "stdout",
     "output_type": "stream",
     "text": [
      "INFO:tensorflow:Assets written to: /Users/abletimin/cernbox/Trigger/ml-met-trigger/wandb/run-20221027_153919-j8zsd3qd/files/model-best/assets\n"
     ]
    },
    {
     "name": "stderr",
     "output_type": "stream",
     "text": [
      "\u001b[34m\u001b[1mwandb\u001b[0m: Adding directory to artifact (/Users/abletimin/cernbox/Trigger/ml-met-trigger/wandb/run-20221027_153919-j8zsd3qd/files/model-best)... Done. 0.1s\n"
     ]
    },
    {
     "name": "stdout",
     "output_type": "stream",
     "text": [
      "INFO:tensorflow:Assets written to: /Users/abletimin/cernbox/Trigger/ml-met-trigger/wandb/run-20221027_153919-j8zsd3qd/files/model-best/assets\n"
     ]
    },
    {
     "name": "stderr",
     "output_type": "stream",
     "text": [
      "\u001b[34m\u001b[1mwandb\u001b[0m: Adding directory to artifact (/Users/abletimin/cernbox/Trigger/ml-met-trigger/wandb/run-20221027_153919-j8zsd3qd/files/model-best)... Done. 0.1s\n"
     ]
    },
    {
     "name": "stdout",
     "output_type": "stream",
     "text": [
      "INFO:tensorflow:Assets written to: /Users/abletimin/cernbox/Trigger/ml-met-trigger/wandb/run-20221027_153919-j8zsd3qd/files/model-best/assets\n"
     ]
    },
    {
     "name": "stderr",
     "output_type": "stream",
     "text": [
      "\u001b[34m\u001b[1mwandb\u001b[0m: Adding directory to artifact (/Users/abletimin/cernbox/Trigger/ml-met-trigger/wandb/run-20221027_153919-j8zsd3qd/files/model-best)... Done. 0.1s\n"
     ]
    },
    {
     "name": "stdout",
     "output_type": "stream",
     "text": [
      "INFO:tensorflow:Assets written to: /Users/abletimin/cernbox/Trigger/ml-met-trigger/wandb/run-20221027_153919-j8zsd3qd/files/model-best/assets\n"
     ]
    },
    {
     "name": "stderr",
     "output_type": "stream",
     "text": [
      "\u001b[34m\u001b[1mwandb\u001b[0m: Adding directory to artifact (/Users/abletimin/cernbox/Trigger/ml-met-trigger/wandb/run-20221027_153919-j8zsd3qd/files/model-best)... Done. 0.1s\n"
     ]
    },
    {
     "name": "stdout",
     "output_type": "stream",
     "text": [
      "INFO:tensorflow:Assets written to: /Users/abletimin/cernbox/Trigger/ml-met-trigger/wandb/run-20221027_153919-j8zsd3qd/files/model-best/assets\n"
     ]
    },
    {
     "name": "stderr",
     "output_type": "stream",
     "text": [
      "\u001b[34m\u001b[1mwandb\u001b[0m: Adding directory to artifact (/Users/abletimin/cernbox/Trigger/ml-met-trigger/wandb/run-20221027_153919-j8zsd3qd/files/model-best)... Done. 0.1s\n"
     ]
    },
    {
     "name": "stdout",
     "output_type": "stream",
     "text": [
      "INFO:tensorflow:Assets written to: /Users/abletimin/cernbox/Trigger/ml-met-trigger/wandb/run-20221027_153919-j8zsd3qd/files/model-best/assets\n"
     ]
    },
    {
     "name": "stderr",
     "output_type": "stream",
     "text": [
      "\u001b[34m\u001b[1mwandb\u001b[0m: Adding directory to artifact (/Users/abletimin/cernbox/Trigger/ml-met-trigger/wandb/run-20221027_153919-j8zsd3qd/files/model-best)... Done. 0.1s\n"
     ]
    },
    {
     "name": "stdout",
     "output_type": "stream",
     "text": [
      "INFO:tensorflow:Assets written to: /Users/abletimin/cernbox/Trigger/ml-met-trigger/wandb/run-20221027_153919-j8zsd3qd/files/model-best/assets\n"
     ]
    },
    {
     "name": "stderr",
     "output_type": "stream",
     "text": [
      "\u001b[34m\u001b[1mwandb\u001b[0m: Adding directory to artifact (/Users/abletimin/cernbox/Trigger/ml-met-trigger/wandb/run-20221027_153919-j8zsd3qd/files/model-best)... Done. 0.1s\n"
     ]
    },
    {
     "name": "stdout",
     "output_type": "stream",
     "text": [
      "INFO:tensorflow:Assets written to: /Users/abletimin/cernbox/Trigger/ml-met-trigger/wandb/run-20221027_153919-j8zsd3qd/files/model-best/assets\n"
     ]
    },
    {
     "name": "stderr",
     "output_type": "stream",
     "text": [
      "\u001b[34m\u001b[1mwandb\u001b[0m: Adding directory to artifact (/Users/abletimin/cernbox/Trigger/ml-met-trigger/wandb/run-20221027_153919-j8zsd3qd/files/model-best)... Done. 0.1s\n"
     ]
    },
    {
     "name": "stdout",
     "output_type": "stream",
     "text": [
      "INFO:tensorflow:Assets written to: /Users/abletimin/cernbox/Trigger/ml-met-trigger/wandb/run-20221027_153919-j8zsd3qd/files/model-best/assets\n"
     ]
    },
    {
     "name": "stderr",
     "output_type": "stream",
     "text": [
      "\u001b[34m\u001b[1mwandb\u001b[0m: Adding directory to artifact (/Users/abletimin/cernbox/Trigger/ml-met-trigger/wandb/run-20221027_153919-j8zsd3qd/files/model-best)... Done. 0.1s\n"
     ]
    },
    {
     "name": "stdout",
     "output_type": "stream",
     "text": [
      "INFO:tensorflow:Assets written to: /Users/abletimin/cernbox/Trigger/ml-met-trigger/wandb/run-20221027_153919-j8zsd3qd/files/model-best/assets\n"
     ]
    },
    {
     "name": "stderr",
     "output_type": "stream",
     "text": [
      "\u001b[34m\u001b[1mwandb\u001b[0m: Adding directory to artifact (/Users/abletimin/cernbox/Trigger/ml-met-trigger/wandb/run-20221027_153919-j8zsd3qd/files/model-best)... Done. 0.1s\n"
     ]
    },
    {
     "name": "stdout",
     "output_type": "stream",
     "text": [
      "INFO:tensorflow:Assets written to: /Users/abletimin/cernbox/Trigger/ml-met-trigger/wandb/run-20221027_153919-j8zsd3qd/files/model-best/assets\n"
     ]
    },
    {
     "name": "stderr",
     "output_type": "stream",
     "text": [
      "\u001b[34m\u001b[1mwandb\u001b[0m: Adding directory to artifact (/Users/abletimin/cernbox/Trigger/ml-met-trigger/wandb/run-20221027_153919-j8zsd3qd/files/model-best)... Done. 0.1s\n"
     ]
    },
    {
     "name": "stdout",
     "output_type": "stream",
     "text": [
      "INFO:tensorflow:Assets written to: /Users/abletimin/cernbox/Trigger/ml-met-trigger/wandb/run-20221027_153919-j8zsd3qd/files/model-best/assets\n"
     ]
    },
    {
     "name": "stderr",
     "output_type": "stream",
     "text": [
      "\u001b[34m\u001b[1mwandb\u001b[0m: Adding directory to artifact (/Users/abletimin/cernbox/Trigger/ml-met-trigger/wandb/run-20221027_153919-j8zsd3qd/files/model-best)... Done. 0.1s\n"
     ]
    },
    {
     "name": "stdout",
     "output_type": "stream",
     "text": [
      "INFO:tensorflow:Assets written to: /Users/abletimin/cernbox/Trigger/ml-met-trigger/wandb/run-20221027_153919-j8zsd3qd/files/model-best/assets\n"
     ]
    },
    {
     "name": "stderr",
     "output_type": "stream",
     "text": [
      "\u001b[34m\u001b[1mwandb\u001b[0m: Adding directory to artifact (/Users/abletimin/cernbox/Trigger/ml-met-trigger/wandb/run-20221027_153919-j8zsd3qd/files/model-best)... Done. 0.1s\n"
     ]
    },
    {
     "name": "stdout",
     "output_type": "stream",
     "text": [
      "INFO:tensorflow:Assets written to: /Users/abletimin/cernbox/Trigger/ml-met-trigger/wandb/run-20221027_153919-j8zsd3qd/files/model-best/assets\n"
     ]
    },
    {
     "name": "stderr",
     "output_type": "stream",
     "text": [
      "\u001b[34m\u001b[1mwandb\u001b[0m: Adding directory to artifact (/Users/abletimin/cernbox/Trigger/ml-met-trigger/wandb/run-20221027_153919-j8zsd3qd/files/model-best)... Done. 0.1s\n"
     ]
    },
    {
     "name": "stdout",
     "output_type": "stream",
     "text": [
      "INFO:tensorflow:Assets written to: /Users/abletimin/cernbox/Trigger/ml-met-trigger/wandb/run-20221027_153919-j8zsd3qd/files/model-best/assets\n"
     ]
    },
    {
     "name": "stderr",
     "output_type": "stream",
     "text": [
      "\u001b[34m\u001b[1mwandb\u001b[0m: Adding directory to artifact (/Users/abletimin/cernbox/Trigger/ml-met-trigger/wandb/run-20221027_153919-j8zsd3qd/files/model-best)... Done. 0.1s\n"
     ]
    },
    {
     "name": "stdout",
     "output_type": "stream",
     "text": [
      "INFO:tensorflow:Assets written to: /Users/abletimin/cernbox/Trigger/ml-met-trigger/wandb/run-20221027_153919-j8zsd3qd/files/model-best/assets\n"
     ]
    },
    {
     "name": "stderr",
     "output_type": "stream",
     "text": [
      "\u001b[34m\u001b[1mwandb\u001b[0m: Adding directory to artifact (/Users/abletimin/cernbox/Trigger/ml-met-trigger/wandb/run-20221027_153919-j8zsd3qd/files/model-best)... Done. 0.1s\n"
     ]
    },
    {
     "name": "stdout",
     "output_type": "stream",
     "text": [
      "INFO:tensorflow:Assets written to: /Users/abletimin/cernbox/Trigger/ml-met-trigger/wandb/run-20221027_153919-j8zsd3qd/files/model-best/assets\n"
     ]
    },
    {
     "name": "stderr",
     "output_type": "stream",
     "text": [
      "\u001b[34m\u001b[1mwandb\u001b[0m: Adding directory to artifact (/Users/abletimin/cernbox/Trigger/ml-met-trigger/wandb/run-20221027_153919-j8zsd3qd/files/model-best)... Done. 0.1s\n"
     ]
    },
    {
     "name": "stdout",
     "output_type": "stream",
     "text": [
      "INFO:tensorflow:Assets written to: /Users/abletimin/cernbox/Trigger/ml-met-trigger/wandb/run-20221027_153919-j8zsd3qd/files/model-best/assets\n"
     ]
    },
    {
     "name": "stderr",
     "output_type": "stream",
     "text": [
      "\u001b[34m\u001b[1mwandb\u001b[0m: Adding directory to artifact (/Users/abletimin/cernbox/Trigger/ml-met-trigger/wandb/run-20221027_153919-j8zsd3qd/files/model-best)... Done. 0.1s\n"
     ]
    },
    {
     "name": "stdout",
     "output_type": "stream",
     "text": [
      "INFO:tensorflow:Assets written to: /Users/abletimin/cernbox/Trigger/ml-met-trigger/wandb/run-20221027_153919-j8zsd3qd/files/model-best/assets\n"
     ]
    },
    {
     "name": "stderr",
     "output_type": "stream",
     "text": [
      "\u001b[34m\u001b[1mwandb\u001b[0m: Adding directory to artifact (/Users/abletimin/cernbox/Trigger/ml-met-trigger/wandb/run-20221027_153919-j8zsd3qd/files/model-best)... Done. 0.1s\n"
     ]
    },
    {
     "name": "stdout",
     "output_type": "stream",
     "text": [
      "INFO:tensorflow:Assets written to: /Users/abletimin/cernbox/Trigger/ml-met-trigger/wandb/run-20221027_153919-j8zsd3qd/files/model-best/assets\n"
     ]
    },
    {
     "name": "stderr",
     "output_type": "stream",
     "text": [
      "\u001b[34m\u001b[1mwandb\u001b[0m: Adding directory to artifact (/Users/abletimin/cernbox/Trigger/ml-met-trigger/wandb/run-20221027_153919-j8zsd3qd/files/model-best)... Done. 0.1s\n"
     ]
    },
    {
     "name": "stdout",
     "output_type": "stream",
     "text": [
      "INFO:tensorflow:Assets written to: /Users/abletimin/cernbox/Trigger/ml-met-trigger/wandb/run-20221027_153919-j8zsd3qd/files/model-best/assets\n"
     ]
    },
    {
     "name": "stderr",
     "output_type": "stream",
     "text": [
      "\u001b[34m\u001b[1mwandb\u001b[0m: Adding directory to artifact (/Users/abletimin/cernbox/Trigger/ml-met-trigger/wandb/run-20221027_153919-j8zsd3qd/files/model-best)... Done. 0.1s\n"
     ]
    },
    {
     "name": "stdout",
     "output_type": "stream",
     "text": [
      "INFO:tensorflow:Assets written to: /Users/abletimin/cernbox/Trigger/ml-met-trigger/wandb/run-20221027_153919-j8zsd3qd/files/model-best/assets\n"
     ]
    },
    {
     "name": "stderr",
     "output_type": "stream",
     "text": [
      "\u001b[34m\u001b[1mwandb\u001b[0m: Adding directory to artifact (/Users/abletimin/cernbox/Trigger/ml-met-trigger/wandb/run-20221027_153919-j8zsd3qd/files/model-best)... Done. 0.1s\n"
     ]
    },
    {
     "name": "stdout",
     "output_type": "stream",
     "text": [
      "INFO:tensorflow:Assets written to: /Users/abletimin/cernbox/Trigger/ml-met-trigger/wandb/run-20221027_153919-j8zsd3qd/files/model-best/assets\n"
     ]
    },
    {
     "name": "stderr",
     "output_type": "stream",
     "text": [
      "\u001b[34m\u001b[1mwandb\u001b[0m: Adding directory to artifact (/Users/abletimin/cernbox/Trigger/ml-met-trigger/wandb/run-20221027_153919-j8zsd3qd/files/model-best)... Done. 0.1s\n"
     ]
    },
    {
     "name": "stdout",
     "output_type": "stream",
     "text": [
      "INFO:tensorflow:Assets written to: /Users/abletimin/cernbox/Trigger/ml-met-trigger/wandb/run-20221027_153919-j8zsd3qd/files/model-best/assets\n"
     ]
    },
    {
     "name": "stderr",
     "output_type": "stream",
     "text": [
      "\u001b[34m\u001b[1mwandb\u001b[0m: Adding directory to artifact (/Users/abletimin/cernbox/Trigger/ml-met-trigger/wandb/run-20221027_153919-j8zsd3qd/files/model-best)... Done. 0.1s\n"
     ]
    },
    {
     "name": "stdout",
     "output_type": "stream",
     "text": [
      "INFO:tensorflow:Assets written to: /Users/abletimin/cernbox/Trigger/ml-met-trigger/wandb/run-20221027_153919-j8zsd3qd/files/model-best/assets\n"
     ]
    },
    {
     "name": "stderr",
     "output_type": "stream",
     "text": [
      "\u001b[34m\u001b[1mwandb\u001b[0m: Adding directory to artifact (/Users/abletimin/cernbox/Trigger/ml-met-trigger/wandb/run-20221027_153919-j8zsd3qd/files/model-best)... Done. 0.1s\n"
     ]
    },
    {
     "data": {
      "text/html": [
       "Waiting for W&B process to finish... <strong style=\"color:green\">(success).</strong>"
      ],
      "text/plain": [
       "<IPython.core.display.HTML object>"
      ]
     },
     "metadata": {},
     "output_type": "display_data"
    },
    {
     "data": {
      "application/vnd.jupyter.widget-view+json": {
       "model_id": "c65446c445aa459e8fa2c21f1f592171",
       "version_major": 2,
       "version_minor": 0
      },
      "text/plain": [
       "VBox(children=(Label(value='1543.928 MB of 1543.928 MB uploaded (0.006 MB deduped)\\r'), FloatProgress(value=1.…"
      ]
     },
     "metadata": {},
     "output_type": "display_data"
    },
    {
     "data": {
      "text/html": [
       "<style>\n",
       "    table.wandb td:nth-child(1) { padding: 0 10px; text-align: left ; width: auto;} td:nth-child(2) {text-align: left ; width: 100%}\n",
       "    .wandb-row { display: flex; flex-direction: row; flex-wrap: wrap; justify-content: flex-start; width: 100% }\n",
       "    .wandb-col { display: flex; flex-direction: column; flex-basis: 100%; flex: 1; padding: 10px; }\n",
       "    </style>\n",
       "<div class=\"wandb-row\"><div class=\"wandb-col\"><h3>Run history:</h3><br/><table class=\"wandb\"><tr><td>epoch</td><td>▁▁▁▁▂▂▂▂▂▃▃▃▃▃▃▄▄▄▄▄▅▅▅▅▅▅▆▆▆▆▆▇▇▇▇▇▇███</td></tr><tr><td>loss</td><td>▂▁▁▁▁▁▁▁█▅▃▃▂▂▁▁▁▁▁▁▁▁▁▁▁▁▁▁▁▁▁▁▁▁▁▁▁▁▁▁</td></tr><tr><td>mean_absolute_error</td><td>▅▃▂▂▂▂▂▂█▂▁▁▁▁▁▁▁▁▁▁▁▁▁▁▁▁▁▁▁▁▁▁▁▁▁▁▁▁▁▁</td></tr><tr><td>val_loss</td><td>▂▁▁▁▁▁▁▁█▅▄▃▂▂▂▁▁▁▁▁▁▁▁▁▁▁▁▁▁▁▁▁▁▁▁▁▁▁▁▁</td></tr><tr><td>val_mean_absolute_error</td><td>▇▅▅▆▄▄▃▃█▃▃▂▂▂▂▂▂▁▁▁▁▁▁▂▁▁▁▁▁▁▁▂▂▂▂▂▂▂▂▂</td></tr></table><br/></div><div class=\"wandb-col\"><h3>Run summary:</h3><br/><table class=\"wandb\"><tr><td>best_epoch</td><td>152</td></tr><tr><td>best_val_loss</td><td>2354.99658</td></tr><tr><td>epoch</td><td>199</td></tr><tr><td>loss</td><td>2322.04077</td></tr><tr><td>mean_absolute_error</td><td>34.19651</td></tr><tr><td>val_loss</td><td>2594.34326</td></tr><tr><td>val_mean_absolute_error</td><td>35.46378</td></tr></table><br/></div></div>"
      ],
      "text/plain": [
       "<IPython.core.display.HTML object>"
      ]
     },
     "metadata": {},
     "output_type": "display_data"
    },
    {
     "data": {
      "text/html": [
       "Synced <strong style=\"color:#cdcd00\">icy-sweep-7</strong>: <a href=\"https://wandb.ai/ablet/hyperTune-NN/runs/j8zsd3qd\" target=\"_blank\">https://wandb.ai/ablet/hyperTune-NN/runs/j8zsd3qd</a><br/>Synced 7 W&B file(s), 0 media file(s), 126 artifact file(s) and 2 other file(s)"
      ],
      "text/plain": [
       "<IPython.core.display.HTML object>"
      ]
     },
     "metadata": {},
     "output_type": "display_data"
    },
    {
     "data": {
      "text/html": [
       "Find logs at: <code>./wandb/run-20221027_153919-j8zsd3qd/logs</code>"
      ],
      "text/plain": [
       "<IPython.core.display.HTML object>"
      ]
     },
     "metadata": {},
     "output_type": "display_data"
    },
    {
     "name": "stderr",
     "output_type": "stream",
     "text": [
      "\u001b[34m\u001b[1mwandb\u001b[0m: Sweep Agent: Waiting for job.\n",
      "\u001b[34m\u001b[1mwandb\u001b[0m: Job received.\n",
      "\u001b[34m\u001b[1mwandb\u001b[0m: Agent Starting Run: d3tq84kp with config:\n",
      "\u001b[34m\u001b[1mwandb\u001b[0m: \tactivation: linear\n",
      "\u001b[34m\u001b[1mwandb\u001b[0m: \tepochs: 200\n",
      "\u001b[34m\u001b[1mwandb\u001b[0m: \th_layers: [1500]\n",
      "\u001b[34m\u001b[1mwandb\u001b[0m: \tloss: mean_squared_error\n",
      "\u001b[34m\u001b[1mwandb\u001b[0m: \tlr: 0.026471249629792495\n",
      "\u001b[34m\u001b[1mwandb\u001b[0m: \u001b[33mWARNING\u001b[0m Ignored wandb.init() arg project when running a sweep.\n"
     ]
    },
    {
     "data": {
      "text/html": [
       "Tracking run with wandb version 0.13.4"
      ],
      "text/plain": [
       "<IPython.core.display.HTML object>"
      ]
     },
     "metadata": {},
     "output_type": "display_data"
    },
    {
     "data": {
      "text/html": [
       "Run data is saved locally in <code>/Users/abletimin/cernbox/Trigger/ml-met-trigger/wandb/run-20221027_155046-d3tq84kp</code>"
      ],
      "text/plain": [
       "<IPython.core.display.HTML object>"
      ]
     },
     "metadata": {},
     "output_type": "display_data"
    },
    {
     "data": {
      "text/html": [
       "Syncing run <strong><a href=\"https://wandb.ai/ablet/hyperTune-NN/runs/d3tq84kp\" target=\"_blank\">fragrant-sweep-8</a></strong> to <a href=\"https://wandb.ai/ablet/hyperTune-NN\" target=\"_blank\">Weights & Biases</a> (<a href=\"https://wandb.me/run\" target=\"_blank\">docs</a>)<br/>Sweep page:  <a href=\"https://wandb.ai/ablet/hyperTune-NN/sweeps/v40zhba2\" target=\"_blank\">https://wandb.ai/ablet/hyperTune-NN/sweeps/v40zhba2</a>"
      ],
      "text/plain": [
       "<IPython.core.display.HTML object>"
      ]
     },
     "metadata": {},
     "output_type": "display_data"
    },
    {
     "name": "stdout",
     "output_type": "stream",
     "text": [
      "INFO:tensorflow:Assets written to: /Users/abletimin/cernbox/Trigger/ml-met-trigger/wandb/run-20221027_155046-d3tq84kp/files/model-best/assets\n"
     ]
    },
    {
     "name": "stderr",
     "output_type": "stream",
     "text": [
      "\u001b[34m\u001b[1mwandb\u001b[0m: Adding directory to artifact (/Users/abletimin/cernbox/Trigger/ml-met-trigger/wandb/run-20221027_155046-d3tq84kp/files/model-best)... Done. 0.1s\n"
     ]
    },
    {
     "name": "stdout",
     "output_type": "stream",
     "text": [
      "INFO:tensorflow:Assets written to: /Users/abletimin/cernbox/Trigger/ml-met-trigger/wandb/run-20221027_155046-d3tq84kp/files/model-best/assets\n"
     ]
    },
    {
     "name": "stderr",
     "output_type": "stream",
     "text": [
      "\u001b[34m\u001b[1mwandb\u001b[0m: Adding directory to artifact (/Users/abletimin/cernbox/Trigger/ml-met-trigger/wandb/run-20221027_155046-d3tq84kp/files/model-best)... Done. 0.1s\n"
     ]
    },
    {
     "name": "stdout",
     "output_type": "stream",
     "text": [
      "INFO:tensorflow:Assets written to: /Users/abletimin/cernbox/Trigger/ml-met-trigger/wandb/run-20221027_155046-d3tq84kp/files/model-best/assets\n"
     ]
    },
    {
     "name": "stderr",
     "output_type": "stream",
     "text": [
      "\u001b[34m\u001b[1mwandb\u001b[0m: Adding directory to artifact (/Users/abletimin/cernbox/Trigger/ml-met-trigger/wandb/run-20221027_155046-d3tq84kp/files/model-best)... Done. 0.1s\n"
     ]
    },
    {
     "name": "stdout",
     "output_type": "stream",
     "text": [
      "INFO:tensorflow:Assets written to: /Users/abletimin/cernbox/Trigger/ml-met-trigger/wandb/run-20221027_155046-d3tq84kp/files/model-best/assets\n"
     ]
    },
    {
     "name": "stderr",
     "output_type": "stream",
     "text": [
      "\u001b[34m\u001b[1mwandb\u001b[0m: Adding directory to artifact (/Users/abletimin/cernbox/Trigger/ml-met-trigger/wandb/run-20221027_155046-d3tq84kp/files/model-best)... Done. 0.1s\n"
     ]
    },
    {
     "name": "stdout",
     "output_type": "stream",
     "text": [
      "INFO:tensorflow:Assets written to: /Users/abletimin/cernbox/Trigger/ml-met-trigger/wandb/run-20221027_155046-d3tq84kp/files/model-best/assets\n"
     ]
    },
    {
     "name": "stderr",
     "output_type": "stream",
     "text": [
      "\u001b[34m\u001b[1mwandb\u001b[0m: Adding directory to artifact (/Users/abletimin/cernbox/Trigger/ml-met-trigger/wandb/run-20221027_155046-d3tq84kp/files/model-best)... Done. 0.1s\n"
     ]
    },
    {
     "name": "stdout",
     "output_type": "stream",
     "text": [
      "INFO:tensorflow:Assets written to: /Users/abletimin/cernbox/Trigger/ml-met-trigger/wandb/run-20221027_155046-d3tq84kp/files/model-best/assets\n"
     ]
    },
    {
     "name": "stderr",
     "output_type": "stream",
     "text": [
      "\u001b[34m\u001b[1mwandb\u001b[0m: Adding directory to artifact (/Users/abletimin/cernbox/Trigger/ml-met-trigger/wandb/run-20221027_155046-d3tq84kp/files/model-best)... Done. 0.1s\n"
     ]
    },
    {
     "name": "stdout",
     "output_type": "stream",
     "text": [
      "INFO:tensorflow:Assets written to: /Users/abletimin/cernbox/Trigger/ml-met-trigger/wandb/run-20221027_155046-d3tq84kp/files/model-best/assets\n"
     ]
    },
    {
     "name": "stderr",
     "output_type": "stream",
     "text": [
      "\u001b[34m\u001b[1mwandb\u001b[0m: Adding directory to artifact (/Users/abletimin/cernbox/Trigger/ml-met-trigger/wandb/run-20221027_155046-d3tq84kp/files/model-best)... Done. 0.1s\n"
     ]
    },
    {
     "name": "stdout",
     "output_type": "stream",
     "text": [
      "INFO:tensorflow:Assets written to: /Users/abletimin/cernbox/Trigger/ml-met-trigger/wandb/run-20221027_155046-d3tq84kp/files/model-best/assets\n"
     ]
    },
    {
     "name": "stderr",
     "output_type": "stream",
     "text": [
      "\u001b[34m\u001b[1mwandb\u001b[0m: Adding directory to artifact (/Users/abletimin/cernbox/Trigger/ml-met-trigger/wandb/run-20221027_155046-d3tq84kp/files/model-best)... Done. 0.1s\n"
     ]
    },
    {
     "name": "stdout",
     "output_type": "stream",
     "text": [
      "INFO:tensorflow:Assets written to: /Users/abletimin/cernbox/Trigger/ml-met-trigger/wandb/run-20221027_155046-d3tq84kp/files/model-best/assets\n"
     ]
    },
    {
     "name": "stderr",
     "output_type": "stream",
     "text": [
      "\u001b[34m\u001b[1mwandb\u001b[0m: Adding directory to artifact (/Users/abletimin/cernbox/Trigger/ml-met-trigger/wandb/run-20221027_155046-d3tq84kp/files/model-best)... Done. 0.1s\n"
     ]
    },
    {
     "name": "stdout",
     "output_type": "stream",
     "text": [
      "INFO:tensorflow:Assets written to: /Users/abletimin/cernbox/Trigger/ml-met-trigger/wandb/run-20221027_155046-d3tq84kp/files/model-best/assets\n"
     ]
    },
    {
     "name": "stderr",
     "output_type": "stream",
     "text": [
      "\u001b[34m\u001b[1mwandb\u001b[0m: Adding directory to artifact (/Users/abletimin/cernbox/Trigger/ml-met-trigger/wandb/run-20221027_155046-d3tq84kp/files/model-best)... Done. 0.1s\n"
     ]
    },
    {
     "name": "stdout",
     "output_type": "stream",
     "text": [
      "INFO:tensorflow:Assets written to: /Users/abletimin/cernbox/Trigger/ml-met-trigger/wandb/run-20221027_155046-d3tq84kp/files/model-best/assets\n"
     ]
    },
    {
     "name": "stderr",
     "output_type": "stream",
     "text": [
      "\u001b[34m\u001b[1mwandb\u001b[0m: Adding directory to artifact (/Users/abletimin/cernbox/Trigger/ml-met-trigger/wandb/run-20221027_155046-d3tq84kp/files/model-best)... Done. 0.1s\n"
     ]
    },
    {
     "name": "stdout",
     "output_type": "stream",
     "text": [
      "INFO:tensorflow:Assets written to: /Users/abletimin/cernbox/Trigger/ml-met-trigger/wandb/run-20221027_155046-d3tq84kp/files/model-best/assets\n"
     ]
    },
    {
     "name": "stderr",
     "output_type": "stream",
     "text": [
      "\u001b[34m\u001b[1mwandb\u001b[0m: Adding directory to artifact (/Users/abletimin/cernbox/Trigger/ml-met-trigger/wandb/run-20221027_155046-d3tq84kp/files/model-best)... Done. 0.1s\n"
     ]
    },
    {
     "name": "stdout",
     "output_type": "stream",
     "text": [
      "INFO:tensorflow:Assets written to: /Users/abletimin/cernbox/Trigger/ml-met-trigger/wandb/run-20221027_155046-d3tq84kp/files/model-best/assets\n"
     ]
    },
    {
     "name": "stderr",
     "output_type": "stream",
     "text": [
      "\u001b[34m\u001b[1mwandb\u001b[0m: Adding directory to artifact (/Users/abletimin/cernbox/Trigger/ml-met-trigger/wandb/run-20221027_155046-d3tq84kp/files/model-best)... Done. 0.1s\n"
     ]
    },
    {
     "name": "stdout",
     "output_type": "stream",
     "text": [
      "INFO:tensorflow:Assets written to: /Users/abletimin/cernbox/Trigger/ml-met-trigger/wandb/run-20221027_155046-d3tq84kp/files/model-best/assets\n"
     ]
    },
    {
     "name": "stderr",
     "output_type": "stream",
     "text": [
      "\u001b[34m\u001b[1mwandb\u001b[0m: Adding directory to artifact (/Users/abletimin/cernbox/Trigger/ml-met-trigger/wandb/run-20221027_155046-d3tq84kp/files/model-best)... Done. 0.1s\n"
     ]
    },
    {
     "name": "stdout",
     "output_type": "stream",
     "text": [
      "INFO:tensorflow:Assets written to: /Users/abletimin/cernbox/Trigger/ml-met-trigger/wandb/run-20221027_155046-d3tq84kp/files/model-best/assets\n"
     ]
    },
    {
     "name": "stderr",
     "output_type": "stream",
     "text": [
      "\u001b[34m\u001b[1mwandb\u001b[0m: Adding directory to artifact (/Users/abletimin/cernbox/Trigger/ml-met-trigger/wandb/run-20221027_155046-d3tq84kp/files/model-best)... Done. 0.1s\n"
     ]
    },
    {
     "name": "stdout",
     "output_type": "stream",
     "text": [
      "INFO:tensorflow:Assets written to: /Users/abletimin/cernbox/Trigger/ml-met-trigger/wandb/run-20221027_155046-d3tq84kp/files/model-best/assets\n"
     ]
    },
    {
     "name": "stderr",
     "output_type": "stream",
     "text": [
      "\u001b[34m\u001b[1mwandb\u001b[0m: Adding directory to artifact (/Users/abletimin/cernbox/Trigger/ml-met-trigger/wandb/run-20221027_155046-d3tq84kp/files/model-best)... Done. 0.1s\n"
     ]
    },
    {
     "name": "stdout",
     "output_type": "stream",
     "text": [
      "INFO:tensorflow:Assets written to: /Users/abletimin/cernbox/Trigger/ml-met-trigger/wandb/run-20221027_155046-d3tq84kp/files/model-best/assets\n"
     ]
    },
    {
     "name": "stderr",
     "output_type": "stream",
     "text": [
      "\u001b[34m\u001b[1mwandb\u001b[0m: Adding directory to artifact (/Users/abletimin/cernbox/Trigger/ml-met-trigger/wandb/run-20221027_155046-d3tq84kp/files/model-best)... Done. 0.1s\n"
     ]
    },
    {
     "name": "stdout",
     "output_type": "stream",
     "text": [
      "INFO:tensorflow:Assets written to: /Users/abletimin/cernbox/Trigger/ml-met-trigger/wandb/run-20221027_155046-d3tq84kp/files/model-best/assets\n"
     ]
    },
    {
     "name": "stderr",
     "output_type": "stream",
     "text": [
      "\u001b[34m\u001b[1mwandb\u001b[0m: Adding directory to artifact (/Users/abletimin/cernbox/Trigger/ml-met-trigger/wandb/run-20221027_155046-d3tq84kp/files/model-best)... Done. 0.1s\n"
     ]
    },
    {
     "name": "stdout",
     "output_type": "stream",
     "text": [
      "INFO:tensorflow:Assets written to: /Users/abletimin/cernbox/Trigger/ml-met-trigger/wandb/run-20221027_155046-d3tq84kp/files/model-best/assets\n"
     ]
    },
    {
     "name": "stderr",
     "output_type": "stream",
     "text": [
      "\u001b[34m\u001b[1mwandb\u001b[0m: Adding directory to artifact (/Users/abletimin/cernbox/Trigger/ml-met-trigger/wandb/run-20221027_155046-d3tq84kp/files/model-best)... Done. 0.1s\n"
     ]
    },
    {
     "name": "stdout",
     "output_type": "stream",
     "text": [
      "INFO:tensorflow:Assets written to: /Users/abletimin/cernbox/Trigger/ml-met-trigger/wandb/run-20221027_155046-d3tq84kp/files/model-best/assets\n"
     ]
    },
    {
     "name": "stderr",
     "output_type": "stream",
     "text": [
      "\u001b[34m\u001b[1mwandb\u001b[0m: Adding directory to artifact (/Users/abletimin/cernbox/Trigger/ml-met-trigger/wandb/run-20221027_155046-d3tq84kp/files/model-best)... Done. 0.1s\n"
     ]
    },
    {
     "name": "stdout",
     "output_type": "stream",
     "text": [
      "INFO:tensorflow:Assets written to: /Users/abletimin/cernbox/Trigger/ml-met-trigger/wandb/run-20221027_155046-d3tq84kp/files/model-best/assets\n"
     ]
    },
    {
     "name": "stderr",
     "output_type": "stream",
     "text": [
      "\u001b[34m\u001b[1mwandb\u001b[0m: Adding directory to artifact (/Users/abletimin/cernbox/Trigger/ml-met-trigger/wandb/run-20221027_155046-d3tq84kp/files/model-best)... Done. 0.1s\n"
     ]
    },
    {
     "name": "stdout",
     "output_type": "stream",
     "text": [
      "INFO:tensorflow:Assets written to: /Users/abletimin/cernbox/Trigger/ml-met-trigger/wandb/run-20221027_155046-d3tq84kp/files/model-best/assets\n"
     ]
    },
    {
     "name": "stderr",
     "output_type": "stream",
     "text": [
      "\u001b[34m\u001b[1mwandb\u001b[0m: Adding directory to artifact (/Users/abletimin/cernbox/Trigger/ml-met-trigger/wandb/run-20221027_155046-d3tq84kp/files/model-best)... Done. 0.1s\n"
     ]
    },
    {
     "name": "stdout",
     "output_type": "stream",
     "text": [
      "INFO:tensorflow:Assets written to: /Users/abletimin/cernbox/Trigger/ml-met-trigger/wandb/run-20221027_155046-d3tq84kp/files/model-best/assets\n"
     ]
    },
    {
     "name": "stderr",
     "output_type": "stream",
     "text": [
      "\u001b[34m\u001b[1mwandb\u001b[0m: Adding directory to artifact (/Users/abletimin/cernbox/Trigger/ml-met-trigger/wandb/run-20221027_155046-d3tq84kp/files/model-best)... Done. 0.1s\n"
     ]
    },
    {
     "name": "stdout",
     "output_type": "stream",
     "text": [
      "INFO:tensorflow:Assets written to: /Users/abletimin/cernbox/Trigger/ml-met-trigger/wandb/run-20221027_155046-d3tq84kp/files/model-best/assets\n"
     ]
    },
    {
     "name": "stderr",
     "output_type": "stream",
     "text": [
      "\u001b[34m\u001b[1mwandb\u001b[0m: Adding directory to artifact (/Users/abletimin/cernbox/Trigger/ml-met-trigger/wandb/run-20221027_155046-d3tq84kp/files/model-best)... Done. 0.1s\n"
     ]
    },
    {
     "name": "stdout",
     "output_type": "stream",
     "text": [
      "INFO:tensorflow:Assets written to: /Users/abletimin/cernbox/Trigger/ml-met-trigger/wandb/run-20221027_155046-d3tq84kp/files/model-best/assets\n"
     ]
    },
    {
     "name": "stderr",
     "output_type": "stream",
     "text": [
      "\u001b[34m\u001b[1mwandb\u001b[0m: Adding directory to artifact (/Users/abletimin/cernbox/Trigger/ml-met-trigger/wandb/run-20221027_155046-d3tq84kp/files/model-best)... Done. 0.1s\n"
     ]
    },
    {
     "name": "stdout",
     "output_type": "stream",
     "text": [
      "INFO:tensorflow:Assets written to: /Users/abletimin/cernbox/Trigger/ml-met-trigger/wandb/run-20221027_155046-d3tq84kp/files/model-best/assets\n"
     ]
    },
    {
     "name": "stderr",
     "output_type": "stream",
     "text": [
      "\u001b[34m\u001b[1mwandb\u001b[0m: Adding directory to artifact (/Users/abletimin/cernbox/Trigger/ml-met-trigger/wandb/run-20221027_155046-d3tq84kp/files/model-best)... Done. 0.1s\n"
     ]
    },
    {
     "name": "stdout",
     "output_type": "stream",
     "text": [
      "INFO:tensorflow:Assets written to: /Users/abletimin/cernbox/Trigger/ml-met-trigger/wandb/run-20221027_155046-d3tq84kp/files/model-best/assets\n"
     ]
    },
    {
     "name": "stderr",
     "output_type": "stream",
     "text": [
      "\u001b[34m\u001b[1mwandb\u001b[0m: Adding directory to artifact (/Users/abletimin/cernbox/Trigger/ml-met-trigger/wandb/run-20221027_155046-d3tq84kp/files/model-best)... Done. 0.1s\n"
     ]
    },
    {
     "name": "stdout",
     "output_type": "stream",
     "text": [
      "INFO:tensorflow:Assets written to: /Users/abletimin/cernbox/Trigger/ml-met-trigger/wandb/run-20221027_155046-d3tq84kp/files/model-best/assets\n"
     ]
    },
    {
     "name": "stderr",
     "output_type": "stream",
     "text": [
      "\u001b[34m\u001b[1mwandb\u001b[0m: Adding directory to artifact (/Users/abletimin/cernbox/Trigger/ml-met-trigger/wandb/run-20221027_155046-d3tq84kp/files/model-best)... Done. 0.1s\n"
     ]
    },
    {
     "name": "stdout",
     "output_type": "stream",
     "text": [
      "INFO:tensorflow:Assets written to: /Users/abletimin/cernbox/Trigger/ml-met-trigger/wandb/run-20221027_155046-d3tq84kp/files/model-best/assets\n"
     ]
    },
    {
     "name": "stderr",
     "output_type": "stream",
     "text": [
      "\u001b[34m\u001b[1mwandb\u001b[0m: Adding directory to artifact (/Users/abletimin/cernbox/Trigger/ml-met-trigger/wandb/run-20221027_155046-d3tq84kp/files/model-best)... Done. 0.1s\n"
     ]
    },
    {
     "name": "stdout",
     "output_type": "stream",
     "text": [
      "INFO:tensorflow:Assets written to: /Users/abletimin/cernbox/Trigger/ml-met-trigger/wandb/run-20221027_155046-d3tq84kp/files/model-best/assets\n"
     ]
    },
    {
     "name": "stderr",
     "output_type": "stream",
     "text": [
      "\u001b[34m\u001b[1mwandb\u001b[0m: Adding directory to artifact (/Users/abletimin/cernbox/Trigger/ml-met-trigger/wandb/run-20221027_155046-d3tq84kp/files/model-best)... Done. 0.1s\n"
     ]
    },
    {
     "name": "stdout",
     "output_type": "stream",
     "text": [
      "INFO:tensorflow:Assets written to: /Users/abletimin/cernbox/Trigger/ml-met-trigger/wandb/run-20221027_155046-d3tq84kp/files/model-best/assets\n"
     ]
    },
    {
     "name": "stderr",
     "output_type": "stream",
     "text": [
      "\u001b[34m\u001b[1mwandb\u001b[0m: Adding directory to artifact (/Users/abletimin/cernbox/Trigger/ml-met-trigger/wandb/run-20221027_155046-d3tq84kp/files/model-best)... Done. 0.1s\n"
     ]
    },
    {
     "name": "stdout",
     "output_type": "stream",
     "text": [
      "INFO:tensorflow:Assets written to: /Users/abletimin/cernbox/Trigger/ml-met-trigger/wandb/run-20221027_155046-d3tq84kp/files/model-best/assets\n"
     ]
    },
    {
     "name": "stderr",
     "output_type": "stream",
     "text": [
      "\u001b[34m\u001b[1mwandb\u001b[0m: Adding directory to artifact (/Users/abletimin/cernbox/Trigger/ml-met-trigger/wandb/run-20221027_155046-d3tq84kp/files/model-best)... Done. 0.1s\n"
     ]
    },
    {
     "name": "stdout",
     "output_type": "stream",
     "text": [
      "INFO:tensorflow:Assets written to: /Users/abletimin/cernbox/Trigger/ml-met-trigger/wandb/run-20221027_155046-d3tq84kp/files/model-best/assets\n"
     ]
    },
    {
     "name": "stderr",
     "output_type": "stream",
     "text": [
      "\u001b[34m\u001b[1mwandb\u001b[0m: Adding directory to artifact (/Users/abletimin/cernbox/Trigger/ml-met-trigger/wandb/run-20221027_155046-d3tq84kp/files/model-best)... Done. 0.1s\n"
     ]
    },
    {
     "name": "stdout",
     "output_type": "stream",
     "text": [
      "INFO:tensorflow:Assets written to: /Users/abletimin/cernbox/Trigger/ml-met-trigger/wandb/run-20221027_155046-d3tq84kp/files/model-best/assets\n"
     ]
    },
    {
     "name": "stderr",
     "output_type": "stream",
     "text": [
      "\u001b[34m\u001b[1mwandb\u001b[0m: Adding directory to artifact (/Users/abletimin/cernbox/Trigger/ml-met-trigger/wandb/run-20221027_155046-d3tq84kp/files/model-best)... Done. 0.1s\n"
     ]
    },
    {
     "name": "stdout",
     "output_type": "stream",
     "text": [
      "INFO:tensorflow:Assets written to: /Users/abletimin/cernbox/Trigger/ml-met-trigger/wandb/run-20221027_155046-d3tq84kp/files/model-best/assets\n"
     ]
    },
    {
     "name": "stderr",
     "output_type": "stream",
     "text": [
      "\u001b[34m\u001b[1mwandb\u001b[0m: Adding directory to artifact (/Users/abletimin/cernbox/Trigger/ml-met-trigger/wandb/run-20221027_155046-d3tq84kp/files/model-best)... Done. 0.1s\n"
     ]
    },
    {
     "name": "stdout",
     "output_type": "stream",
     "text": [
      "INFO:tensorflow:Assets written to: /Users/abletimin/cernbox/Trigger/ml-met-trigger/wandb/run-20221027_155046-d3tq84kp/files/model-best/assets\n"
     ]
    },
    {
     "name": "stderr",
     "output_type": "stream",
     "text": [
      "\u001b[34m\u001b[1mwandb\u001b[0m: Adding directory to artifact (/Users/abletimin/cernbox/Trigger/ml-met-trigger/wandb/run-20221027_155046-d3tq84kp/files/model-best)... Done. 0.1s\n"
     ]
    },
    {
     "name": "stdout",
     "output_type": "stream",
     "text": [
      "INFO:tensorflow:Assets written to: /Users/abletimin/cernbox/Trigger/ml-met-trigger/wandb/run-20221027_155046-d3tq84kp/files/model-best/assets\n"
     ]
    },
    {
     "name": "stderr",
     "output_type": "stream",
     "text": [
      "\u001b[34m\u001b[1mwandb\u001b[0m: Adding directory to artifact (/Users/abletimin/cernbox/Trigger/ml-met-trigger/wandb/run-20221027_155046-d3tq84kp/files/model-best)... Done. 0.1s\n"
     ]
    },
    {
     "data": {
      "text/html": [
       "Waiting for W&B process to finish... <strong style=\"color:green\">(success).</strong>"
      ],
      "text/plain": [
       "<IPython.core.display.HTML object>"
      ]
     },
     "metadata": {},
     "output_type": "display_data"
    },
    {
     "data": {
      "application/vnd.jupyter.widget-view+json": {
       "model_id": "f8f4a699566f475d9eb4a60c56382cd5",
       "version_major": 2,
       "version_minor": 0
      },
      "text/plain": [
       "VBox(children=(Label(value='1048.593 MB of 1048.593 MB uploaded (0.006 MB deduped)\\r'), FloatProgress(value=1.…"
      ]
     },
     "metadata": {},
     "output_type": "display_data"
    },
    {
     "data": {
      "text/html": [
       "<style>\n",
       "    table.wandb td:nth-child(1) { padding: 0 10px; text-align: left ; width: auto;} td:nth-child(2) {text-align: left ; width: 100%}\n",
       "    .wandb-row { display: flex; flex-direction: row; flex-wrap: wrap; justify-content: flex-start; width: 100% }\n",
       "    .wandb-col { display: flex; flex-direction: column; flex-basis: 100%; flex: 1; padding: 10px; }\n",
       "    </style>\n",
       "<div class=\"wandb-row\"><div class=\"wandb-col\"><h3>Run history:</h3><br/><table class=\"wandb\"><tr><td>epoch</td><td>▁▁▁▁▂▂▂▂▂▃▃▃▃▃▃▄▄▄▄▄▅▅▅▅▅▅▆▆▆▆▆▇▇▇▇▇▇███</td></tr><tr><td>loss</td><td>▁▁▁▁▁▁▁▁▆▂▁▁▁▁▁▁▁▁▁▁▁▁▁▁▁▁▁▁▁▁▁▁▁▁▁▁▁▁█▂</td></tr><tr><td>mean_absolute_error</td><td>▁▁▁▁▁▁▁▁▇▂▁▁▁▁▁▁▁▁▁▁▁▁▁▁▁▁▁▁▁▁▁▁▁▁▁▁▁▁█▁</td></tr><tr><td>val_loss</td><td>▁▁▁▁▁▁▁▁█▂▁▁▁▁▁▁▁▁▁▁▁▁▁▁▁▁▁▁▁▁▁▁▁▁▁▁▁▁▄▂</td></tr><tr><td>val_mean_absolute_error</td><td>▁▁▁▁▁▁▁▁█▁▁▁▁▁▁▁▁▁▁▁▁▁▁▁▁▁▁▁▁▁▁▁▁▁▁▁▁▁▃▁</td></tr></table><br/></div><div class=\"wandb-col\"><h3>Run summary:</h3><br/><table class=\"wandb\"><tr><td>best_epoch</td><td>117</td></tr><tr><td>best_val_loss</td><td>2362.11279</td></tr><tr><td>epoch</td><td>199</td></tr><tr><td>loss</td><td>8903.11035</td></tr><tr><td>mean_absolute_error</td><td>34.7817</td></tr><tr><td>val_loss</td><td>8585.19238</td></tr><tr><td>val_mean_absolute_error</td><td>34.78336</td></tr></table><br/></div></div>"
      ],
      "text/plain": [
       "<IPython.core.display.HTML object>"
      ]
     },
     "metadata": {},
     "output_type": "display_data"
    },
    {
     "data": {
      "text/html": [
       "Synced <strong style=\"color:#cdcd00\">fragrant-sweep-8</strong>: <a href=\"https://wandb.ai/ablet/hyperTune-NN/runs/d3tq84kp\" target=\"_blank\">https://wandb.ai/ablet/hyperTune-NN/runs/d3tq84kp</a><br/>Synced 7 W&B file(s), 0 media file(s), 114 artifact file(s) and 2 other file(s)"
      ],
      "text/plain": [
       "<IPython.core.display.HTML object>"
      ]
     },
     "metadata": {},
     "output_type": "display_data"
    },
    {
     "data": {
      "text/html": [
       "Find logs at: <code>./wandb/run-20221027_155046-d3tq84kp/logs</code>"
      ],
      "text/plain": [
       "<IPython.core.display.HTML object>"
      ]
     },
     "metadata": {},
     "output_type": "display_data"
    },
    {
     "name": "stderr",
     "output_type": "stream",
     "text": [
      "\u001b[34m\u001b[1mwandb\u001b[0m: Agent Starting Run: xmdj3z7z with config:\n",
      "\u001b[34m\u001b[1mwandb\u001b[0m: \tactivation: relu\n",
      "\u001b[34m\u001b[1mwandb\u001b[0m: \tepochs: 200\n",
      "\u001b[34m\u001b[1mwandb\u001b[0m: \th_layers: [500]\n",
      "\u001b[34m\u001b[1mwandb\u001b[0m: \tloss: mean_absolute_error\n",
      "\u001b[34m\u001b[1mwandb\u001b[0m: \tlr: 0.025943284069029866\n",
      "\u001b[34m\u001b[1mwandb\u001b[0m: \u001b[33mWARNING\u001b[0m Ignored wandb.init() arg project when running a sweep.\n"
     ]
    },
    {
     "data": {
      "text/html": [
       "Tracking run with wandb version 0.13.4"
      ],
      "text/plain": [
       "<IPython.core.display.HTML object>"
      ]
     },
     "metadata": {},
     "output_type": "display_data"
    },
    {
     "data": {
      "text/html": [
       "Run data is saved locally in <code>/Users/abletimin/cernbox/Trigger/ml-met-trigger/wandb/run-20221027_155930-xmdj3z7z</code>"
      ],
      "text/plain": [
       "<IPython.core.display.HTML object>"
      ]
     },
     "metadata": {},
     "output_type": "display_data"
    },
    {
     "data": {
      "text/html": [
       "Syncing run <strong><a href=\"https://wandb.ai/ablet/hyperTune-NN/runs/xmdj3z7z\" target=\"_blank\">upbeat-sweep-15</a></strong> to <a href=\"https://wandb.ai/ablet/hyperTune-NN\" target=\"_blank\">Weights & Biases</a> (<a href=\"https://wandb.me/run\" target=\"_blank\">docs</a>)<br/>Sweep page:  <a href=\"https://wandb.ai/ablet/hyperTune-NN/sweeps/v40zhba2\" target=\"_blank\">https://wandb.ai/ablet/hyperTune-NN/sweeps/v40zhba2</a>"
      ],
      "text/plain": [
       "<IPython.core.display.HTML object>"
      ]
     },
     "metadata": {},
     "output_type": "display_data"
    },
    {
     "name": "stdout",
     "output_type": "stream",
     "text": [
      "INFO:tensorflow:Assets written to: /Users/abletimin/cernbox/Trigger/ml-met-trigger/wandb/run-20221027_155930-xmdj3z7z/files/model-best/assets\n"
     ]
    },
    {
     "name": "stderr",
     "output_type": "stream",
     "text": [
      "\u001b[34m\u001b[1mwandb\u001b[0m: Adding directory to artifact (/Users/abletimin/cernbox/Trigger/ml-met-trigger/wandb/run-20221027_155930-xmdj3z7z/files/model-best)... Done. 0.0s\n"
     ]
    },
    {
     "name": "stdout",
     "output_type": "stream",
     "text": [
      "INFO:tensorflow:Assets written to: /Users/abletimin/cernbox/Trigger/ml-met-trigger/wandb/run-20221027_155930-xmdj3z7z/files/model-best/assets\n"
     ]
    },
    {
     "name": "stderr",
     "output_type": "stream",
     "text": [
      "\u001b[34m\u001b[1mwandb\u001b[0m: Adding directory to artifact (/Users/abletimin/cernbox/Trigger/ml-met-trigger/wandb/run-20221027_155930-xmdj3z7z/files/model-best)... Done. 0.0s\n"
     ]
    },
    {
     "name": "stdout",
     "output_type": "stream",
     "text": [
      "INFO:tensorflow:Assets written to: /Users/abletimin/cernbox/Trigger/ml-met-trigger/wandb/run-20221027_155930-xmdj3z7z/files/model-best/assets\n"
     ]
    },
    {
     "name": "stderr",
     "output_type": "stream",
     "text": [
      "\u001b[34m\u001b[1mwandb\u001b[0m: Adding directory to artifact (/Users/abletimin/cernbox/Trigger/ml-met-trigger/wandb/run-20221027_155930-xmdj3z7z/files/model-best)... Done. 0.0s\n"
     ]
    },
    {
     "name": "stdout",
     "output_type": "stream",
     "text": [
      "INFO:tensorflow:Assets written to: /Users/abletimin/cernbox/Trigger/ml-met-trigger/wandb/run-20221027_155930-xmdj3z7z/files/model-best/assets\n"
     ]
    },
    {
     "name": "stderr",
     "output_type": "stream",
     "text": [
      "\u001b[34m\u001b[1mwandb\u001b[0m: Adding directory to artifact (/Users/abletimin/cernbox/Trigger/ml-met-trigger/wandb/run-20221027_155930-xmdj3z7z/files/model-best)... Done. 0.0s\n"
     ]
    },
    {
     "name": "stdout",
     "output_type": "stream",
     "text": [
      "INFO:tensorflow:Assets written to: /Users/abletimin/cernbox/Trigger/ml-met-trigger/wandb/run-20221027_155930-xmdj3z7z/files/model-best/assets\n"
     ]
    },
    {
     "name": "stderr",
     "output_type": "stream",
     "text": [
      "\u001b[34m\u001b[1mwandb\u001b[0m: Adding directory to artifact (/Users/abletimin/cernbox/Trigger/ml-met-trigger/wandb/run-20221027_155930-xmdj3z7z/files/model-best)... Done. 0.0s\n"
     ]
    },
    {
     "name": "stdout",
     "output_type": "stream",
     "text": [
      "INFO:tensorflow:Assets written to: /Users/abletimin/cernbox/Trigger/ml-met-trigger/wandb/run-20221027_155930-xmdj3z7z/files/model-best/assets\n"
     ]
    },
    {
     "name": "stderr",
     "output_type": "stream",
     "text": [
      "\u001b[34m\u001b[1mwandb\u001b[0m: Adding directory to artifact (/Users/abletimin/cernbox/Trigger/ml-met-trigger/wandb/run-20221027_155930-xmdj3z7z/files/model-best)... Done. 0.0s\n"
     ]
    },
    {
     "name": "stdout",
     "output_type": "stream",
     "text": [
      "INFO:tensorflow:Assets written to: /Users/abletimin/cernbox/Trigger/ml-met-trigger/wandb/run-20221027_155930-xmdj3z7z/files/model-best/assets\n"
     ]
    },
    {
     "name": "stderr",
     "output_type": "stream",
     "text": [
      "\u001b[34m\u001b[1mwandb\u001b[0m: Adding directory to artifact (/Users/abletimin/cernbox/Trigger/ml-met-trigger/wandb/run-20221027_155930-xmdj3z7z/files/model-best)... Done. 0.0s\n"
     ]
    },
    {
     "name": "stdout",
     "output_type": "stream",
     "text": [
      "INFO:tensorflow:Assets written to: /Users/abletimin/cernbox/Trigger/ml-met-trigger/wandb/run-20221027_155930-xmdj3z7z/files/model-best/assets\n"
     ]
    },
    {
     "name": "stderr",
     "output_type": "stream",
     "text": [
      "\u001b[34m\u001b[1mwandb\u001b[0m: Adding directory to artifact (/Users/abletimin/cernbox/Trigger/ml-met-trigger/wandb/run-20221027_155930-xmdj3z7z/files/model-best)... Done. 0.0s\n"
     ]
    },
    {
     "name": "stdout",
     "output_type": "stream",
     "text": [
      "INFO:tensorflow:Assets written to: /Users/abletimin/cernbox/Trigger/ml-met-trigger/wandb/run-20221027_155930-xmdj3z7z/files/model-best/assets\n"
     ]
    },
    {
     "name": "stderr",
     "output_type": "stream",
     "text": [
      "\u001b[34m\u001b[1mwandb\u001b[0m: Adding directory to artifact (/Users/abletimin/cernbox/Trigger/ml-met-trigger/wandb/run-20221027_155930-xmdj3z7z/files/model-best)... Done. 0.0s\n"
     ]
    },
    {
     "name": "stdout",
     "output_type": "stream",
     "text": [
      "INFO:tensorflow:Assets written to: /Users/abletimin/cernbox/Trigger/ml-met-trigger/wandb/run-20221027_155930-xmdj3z7z/files/model-best/assets\n"
     ]
    },
    {
     "name": "stderr",
     "output_type": "stream",
     "text": [
      "\u001b[34m\u001b[1mwandb\u001b[0m: Adding directory to artifact (/Users/abletimin/cernbox/Trigger/ml-met-trigger/wandb/run-20221027_155930-xmdj3z7z/files/model-best)... Done. 0.0s\n"
     ]
    },
    {
     "name": "stdout",
     "output_type": "stream",
     "text": [
      "INFO:tensorflow:Assets written to: /Users/abletimin/cernbox/Trigger/ml-met-trigger/wandb/run-20221027_155930-xmdj3z7z/files/model-best/assets\n"
     ]
    },
    {
     "name": "stderr",
     "output_type": "stream",
     "text": [
      "\u001b[34m\u001b[1mwandb\u001b[0m: Adding directory to artifact (/Users/abletimin/cernbox/Trigger/ml-met-trigger/wandb/run-20221027_155930-xmdj3z7z/files/model-best)... Done. 0.0s\n"
     ]
    },
    {
     "name": "stdout",
     "output_type": "stream",
     "text": [
      "INFO:tensorflow:Assets written to: /Users/abletimin/cernbox/Trigger/ml-met-trigger/wandb/run-20221027_155930-xmdj3z7z/files/model-best/assets\n"
     ]
    },
    {
     "name": "stderr",
     "output_type": "stream",
     "text": [
      "\u001b[34m\u001b[1mwandb\u001b[0m: Adding directory to artifact (/Users/abletimin/cernbox/Trigger/ml-met-trigger/wandb/run-20221027_155930-xmdj3z7z/files/model-best)... Done. 0.0s\n"
     ]
    },
    {
     "name": "stdout",
     "output_type": "stream",
     "text": [
      "INFO:tensorflow:Assets written to: /Users/abletimin/cernbox/Trigger/ml-met-trigger/wandb/run-20221027_155930-xmdj3z7z/files/model-best/assets\n"
     ]
    },
    {
     "name": "stderr",
     "output_type": "stream",
     "text": [
      "\u001b[34m\u001b[1mwandb\u001b[0m: Adding directory to artifact (/Users/abletimin/cernbox/Trigger/ml-met-trigger/wandb/run-20221027_155930-xmdj3z7z/files/model-best)... Done. 0.0s\n"
     ]
    },
    {
     "name": "stdout",
     "output_type": "stream",
     "text": [
      "INFO:tensorflow:Assets written to: /Users/abletimin/cernbox/Trigger/ml-met-trigger/wandb/run-20221027_155930-xmdj3z7z/files/model-best/assets\n"
     ]
    },
    {
     "name": "stderr",
     "output_type": "stream",
     "text": [
      "\u001b[34m\u001b[1mwandb\u001b[0m: Adding directory to artifact (/Users/abletimin/cernbox/Trigger/ml-met-trigger/wandb/run-20221027_155930-xmdj3z7z/files/model-best)... Done. 0.0s\n"
     ]
    },
    {
     "name": "stdout",
     "output_type": "stream",
     "text": [
      "INFO:tensorflow:Assets written to: /Users/abletimin/cernbox/Trigger/ml-met-trigger/wandb/run-20221027_155930-xmdj3z7z/files/model-best/assets\n"
     ]
    },
    {
     "name": "stderr",
     "output_type": "stream",
     "text": [
      "\u001b[34m\u001b[1mwandb\u001b[0m: Adding directory to artifact (/Users/abletimin/cernbox/Trigger/ml-met-trigger/wandb/run-20221027_155930-xmdj3z7z/files/model-best)... Done. 0.0s\n"
     ]
    },
    {
     "name": "stdout",
     "output_type": "stream",
     "text": [
      "INFO:tensorflow:Assets written to: /Users/abletimin/cernbox/Trigger/ml-met-trigger/wandb/run-20221027_155930-xmdj3z7z/files/model-best/assets\n"
     ]
    },
    {
     "name": "stderr",
     "output_type": "stream",
     "text": [
      "\u001b[34m\u001b[1mwandb\u001b[0m: Adding directory to artifact (/Users/abletimin/cernbox/Trigger/ml-met-trigger/wandb/run-20221027_155930-xmdj3z7z/files/model-best)... Done. 0.0s\n"
     ]
    },
    {
     "name": "stdout",
     "output_type": "stream",
     "text": [
      "INFO:tensorflow:Assets written to: /Users/abletimin/cernbox/Trigger/ml-met-trigger/wandb/run-20221027_155930-xmdj3z7z/files/model-best/assets\n"
     ]
    },
    {
     "name": "stderr",
     "output_type": "stream",
     "text": [
      "\u001b[34m\u001b[1mwandb\u001b[0m: Adding directory to artifact (/Users/abletimin/cernbox/Trigger/ml-met-trigger/wandb/run-20221027_155930-xmdj3z7z/files/model-best)... Done. 0.0s\n"
     ]
    },
    {
     "name": "stdout",
     "output_type": "stream",
     "text": [
      "INFO:tensorflow:Assets written to: /Users/abletimin/cernbox/Trigger/ml-met-trigger/wandb/run-20221027_155930-xmdj3z7z/files/model-best/assets\n"
     ]
    },
    {
     "name": "stderr",
     "output_type": "stream",
     "text": [
      "\u001b[34m\u001b[1mwandb\u001b[0m: Adding directory to artifact (/Users/abletimin/cernbox/Trigger/ml-met-trigger/wandb/run-20221027_155930-xmdj3z7z/files/model-best)... Done. 0.0s\n"
     ]
    },
    {
     "name": "stdout",
     "output_type": "stream",
     "text": [
      "INFO:tensorflow:Assets written to: /Users/abletimin/cernbox/Trigger/ml-met-trigger/wandb/run-20221027_155930-xmdj3z7z/files/model-best/assets\n"
     ]
    },
    {
     "name": "stderr",
     "output_type": "stream",
     "text": [
      "\u001b[34m\u001b[1mwandb\u001b[0m: Adding directory to artifact (/Users/abletimin/cernbox/Trigger/ml-met-trigger/wandb/run-20221027_155930-xmdj3z7z/files/model-best)... Done. 0.0s\n"
     ]
    },
    {
     "name": "stdout",
     "output_type": "stream",
     "text": [
      "INFO:tensorflow:Assets written to: /Users/abletimin/cernbox/Trigger/ml-met-trigger/wandb/run-20221027_155930-xmdj3z7z/files/model-best/assets\n"
     ]
    },
    {
     "name": "stderr",
     "output_type": "stream",
     "text": [
      "\u001b[34m\u001b[1mwandb\u001b[0m: Adding directory to artifact (/Users/abletimin/cernbox/Trigger/ml-met-trigger/wandb/run-20221027_155930-xmdj3z7z/files/model-best)... Done. 0.0s\n"
     ]
    },
    {
     "name": "stdout",
     "output_type": "stream",
     "text": [
      "INFO:tensorflow:Assets written to: /Users/abletimin/cernbox/Trigger/ml-met-trigger/wandb/run-20221027_155930-xmdj3z7z/files/model-best/assets\n"
     ]
    },
    {
     "name": "stderr",
     "output_type": "stream",
     "text": [
      "\u001b[34m\u001b[1mwandb\u001b[0m: Adding directory to artifact (/Users/abletimin/cernbox/Trigger/ml-met-trigger/wandb/run-20221027_155930-xmdj3z7z/files/model-best)... Done. 0.0s\n"
     ]
    },
    {
     "name": "stdout",
     "output_type": "stream",
     "text": [
      "INFO:tensorflow:Assets written to: /Users/abletimin/cernbox/Trigger/ml-met-trigger/wandb/run-20221027_155930-xmdj3z7z/files/model-best/assets\n"
     ]
    },
    {
     "name": "stderr",
     "output_type": "stream",
     "text": [
      "\u001b[34m\u001b[1mwandb\u001b[0m: Adding directory to artifact (/Users/abletimin/cernbox/Trigger/ml-met-trigger/wandb/run-20221027_155930-xmdj3z7z/files/model-best)... Done. 0.0s\n"
     ]
    },
    {
     "name": "stdout",
     "output_type": "stream",
     "text": [
      "INFO:tensorflow:Assets written to: /Users/abletimin/cernbox/Trigger/ml-met-trigger/wandb/run-20221027_155930-xmdj3z7z/files/model-best/assets\n"
     ]
    },
    {
     "name": "stderr",
     "output_type": "stream",
     "text": [
      "\u001b[34m\u001b[1mwandb\u001b[0m: Adding directory to artifact (/Users/abletimin/cernbox/Trigger/ml-met-trigger/wandb/run-20221027_155930-xmdj3z7z/files/model-best)... Done. 0.0s\n"
     ]
    },
    {
     "name": "stdout",
     "output_type": "stream",
     "text": [
      "INFO:tensorflow:Assets written to: /Users/abletimin/cernbox/Trigger/ml-met-trigger/wandb/run-20221027_155930-xmdj3z7z/files/model-best/assets\n"
     ]
    },
    {
     "name": "stderr",
     "output_type": "stream",
     "text": [
      "\u001b[34m\u001b[1mwandb\u001b[0m: Adding directory to artifact (/Users/abletimin/cernbox/Trigger/ml-met-trigger/wandb/run-20221027_155930-xmdj3z7z/files/model-best)... Done. 0.0s\n"
     ]
    },
    {
     "name": "stdout",
     "output_type": "stream",
     "text": [
      "INFO:tensorflow:Assets written to: /Users/abletimin/cernbox/Trigger/ml-met-trigger/wandb/run-20221027_155930-xmdj3z7z/files/model-best/assets\n"
     ]
    },
    {
     "name": "stderr",
     "output_type": "stream",
     "text": [
      "\u001b[34m\u001b[1mwandb\u001b[0m: Adding directory to artifact (/Users/abletimin/cernbox/Trigger/ml-met-trigger/wandb/run-20221027_155930-xmdj3z7z/files/model-best)... Done. 0.0s\n"
     ]
    },
    {
     "name": "stdout",
     "output_type": "stream",
     "text": [
      "INFO:tensorflow:Assets written to: /Users/abletimin/cernbox/Trigger/ml-met-trigger/wandb/run-20221027_155930-xmdj3z7z/files/model-best/assets\n"
     ]
    },
    {
     "name": "stderr",
     "output_type": "stream",
     "text": [
      "\u001b[34m\u001b[1mwandb\u001b[0m: Adding directory to artifact (/Users/abletimin/cernbox/Trigger/ml-met-trigger/wandb/run-20221027_155930-xmdj3z7z/files/model-best)... Done. 0.0s\n"
     ]
    },
    {
     "name": "stdout",
     "output_type": "stream",
     "text": [
      "INFO:tensorflow:Assets written to: /Users/abletimin/cernbox/Trigger/ml-met-trigger/wandb/run-20221027_155930-xmdj3z7z/files/model-best/assets\n"
     ]
    },
    {
     "name": "stderr",
     "output_type": "stream",
     "text": [
      "\u001b[34m\u001b[1mwandb\u001b[0m: Adding directory to artifact (/Users/abletimin/cernbox/Trigger/ml-met-trigger/wandb/run-20221027_155930-xmdj3z7z/files/model-best)... Done. 0.0s\n"
     ]
    },
    {
     "data": {
      "text/html": [
       "Waiting for W&B process to finish... <strong style=\"color:green\">(success).</strong>"
      ],
      "text/plain": [
       "<IPython.core.display.HTML object>"
      ]
     },
     "metadata": {},
     "output_type": "display_data"
    },
    {
     "data": {
      "application/vnd.jupyter.widget-view+json": {
       "model_id": "514c7e0c52794ab780ceb91cc31440e7",
       "version_major": 2,
       "version_minor": 0
      },
      "text/plain": [
       "VBox(children=(Label(value='259.397 MB of 259.397 MB uploaded (0.006 MB deduped)\\r'), FloatProgress(value=1.0,…"
      ]
     },
     "metadata": {},
     "output_type": "display_data"
    },
    {
     "data": {
      "text/html": [
       "<style>\n",
       "    table.wandb td:nth-child(1) { padding: 0 10px; text-align: left ; width: auto;} td:nth-child(2) {text-align: left ; width: 100%}\n",
       "    .wandb-row { display: flex; flex-direction: row; flex-wrap: wrap; justify-content: flex-start; width: 100% }\n",
       "    .wandb-col { display: flex; flex-direction: column; flex-basis: 100%; flex: 1; padding: 10px; }\n",
       "    </style>\n",
       "<div class=\"wandb-row\"><div class=\"wandb-col\"><h3>Run history:</h3><br/><table class=\"wandb\"><tr><td>epoch</td><td>▁▁▁▁▂▂▂▂▂▃▃▃▃▃▃▄▄▄▄▄▅▅▅▅▅▅▆▆▆▆▆▇▇▇▇▇▇███</td></tr><tr><td>loss</td><td>█▅▄▃▃▃▂▂▂▂▁▂▁▂▂▁▂▁▁▁▁▂▁▁▂▂▂▂▃▂▂▂▂▂▂▃▂▂▂▂</td></tr><tr><td>mean_absolute_error</td><td>█▆▅▅▄▄▃▃▃▂▂▂▂▂▁▁▁▁▁▁▁▁▁▁▁▁▁▁▁▁▁▁▁▁▁▁▁▁▁▁</td></tr><tr><td>val_loss</td><td>█▆▄▅▃▄▃▃▂▃▂▂▂▃▂▂▂▂▂▁▁▃▂▁▃▂▂▂▃▃▂▂▂▂▂▂▁▂▃▂</td></tr><tr><td>val_mean_absolute_error</td><td>█▇▆▅▄▄▃▃▃▃▂▂▂▂▂▂▁▁▁▁▁▁▁▁▁▁▁▁▁▁▁▁▁▁▁▁▁▁▁▁</td></tr></table><br/></div><div class=\"wandb-col\"><h3>Run summary:</h3><br/><table class=\"wandb\"><tr><td>best_epoch</td><td>98</td></tr><tr><td>best_val_loss</td><td>35.4903</td></tr><tr><td>epoch</td><td>199</td></tr><tr><td>loss</td><td>37.34566</td></tr><tr><td>mean_absolute_error</td><td>33.04091</td></tr><tr><td>val_loss</td><td>37.06302</td></tr><tr><td>val_mean_absolute_error</td><td>32.83003</td></tr></table><br/></div></div>"
      ],
      "text/plain": [
       "<IPython.core.display.HTML object>"
      ]
     },
     "metadata": {},
     "output_type": "display_data"
    },
    {
     "data": {
      "text/html": [
       "Synced <strong style=\"color:#cdcd00\">upbeat-sweep-15</strong>: <a href=\"https://wandb.ai/ablet/hyperTune-NN/runs/xmdj3z7z\" target=\"_blank\">https://wandb.ai/ablet/hyperTune-NN/runs/xmdj3z7z</a><br/>Synced 7 W&B file(s), 0 media file(s), 84 artifact file(s) and 2 other file(s)"
      ],
      "text/plain": [
       "<IPython.core.display.HTML object>"
      ]
     },
     "metadata": {},
     "output_type": "display_data"
    },
    {
     "data": {
      "text/html": [
       "Find logs at: <code>./wandb/run-20221027_155930-xmdj3z7z/logs</code>"
      ],
      "text/plain": [
       "<IPython.core.display.HTML object>"
      ]
     },
     "metadata": {},
     "output_type": "display_data"
    },
    {
     "name": "stderr",
     "output_type": "stream",
     "text": [
      "\u001b[34m\u001b[1mwandb\u001b[0m: Agent Starting Run: plgpzeip with config:\n",
      "\u001b[34m\u001b[1mwandb\u001b[0m: \tactivation: linear\n",
      "\u001b[34m\u001b[1mwandb\u001b[0m: \tepochs: 200\n",
      "\u001b[34m\u001b[1mwandb\u001b[0m: \th_layers: [2000]\n",
      "\u001b[34m\u001b[1mwandb\u001b[0m: \tloss: mean_absolute_error\n",
      "\u001b[34m\u001b[1mwandb\u001b[0m: \tlr: 0.003074532713181994\n",
      "\u001b[34m\u001b[1mwandb\u001b[0m: \u001b[33mWARNING\u001b[0m Ignored wandb.init() arg project when running a sweep.\n"
     ]
    },
    {
     "data": {
      "text/html": [
       "Tracking run with wandb version 0.13.4"
      ],
      "text/plain": [
       "<IPython.core.display.HTML object>"
      ]
     },
     "metadata": {},
     "output_type": "display_data"
    },
    {
     "data": {
      "text/html": [
       "Run data is saved locally in <code>/Users/abletimin/cernbox/Trigger/ml-met-trigger/wandb/run-20221027_160301-plgpzeip</code>"
      ],
      "text/plain": [
       "<IPython.core.display.HTML object>"
      ]
     },
     "metadata": {},
     "output_type": "display_data"
    },
    {
     "data": {
      "text/html": [
       "Syncing run <strong><a href=\"https://wandb.ai/ablet/hyperTune-NN/runs/plgpzeip\" target=\"_blank\">silver-sweep-16</a></strong> to <a href=\"https://wandb.ai/ablet/hyperTune-NN\" target=\"_blank\">Weights & Biases</a> (<a href=\"https://wandb.me/run\" target=\"_blank\">docs</a>)<br/>Sweep page:  <a href=\"https://wandb.ai/ablet/hyperTune-NN/sweeps/v40zhba2\" target=\"_blank\">https://wandb.ai/ablet/hyperTune-NN/sweeps/v40zhba2</a>"
      ],
      "text/plain": [
       "<IPython.core.display.HTML object>"
      ]
     },
     "metadata": {},
     "output_type": "display_data"
    },
    {
     "name": "stdout",
     "output_type": "stream",
     "text": [
      "INFO:tensorflow:Assets written to: /Users/abletimin/cernbox/Trigger/ml-met-trigger/wandb/run-20221027_160301-plgpzeip/files/model-best/assets\n"
     ]
    },
    {
     "name": "stderr",
     "output_type": "stream",
     "text": [
      "\u001b[34m\u001b[1mwandb\u001b[0m: Adding directory to artifact (/Users/abletimin/cernbox/Trigger/ml-met-trigger/wandb/run-20221027_160301-plgpzeip/files/model-best)... Done. 0.1s\n"
     ]
    },
    {
     "name": "stdout",
     "output_type": "stream",
     "text": [
      "INFO:tensorflow:Assets written to: /Users/abletimin/cernbox/Trigger/ml-met-trigger/wandb/run-20221027_160301-plgpzeip/files/model-best/assets\n"
     ]
    },
    {
     "name": "stderr",
     "output_type": "stream",
     "text": [
      "\u001b[34m\u001b[1mwandb\u001b[0m: Adding directory to artifact (/Users/abletimin/cernbox/Trigger/ml-met-trigger/wandb/run-20221027_160301-plgpzeip/files/model-best)... Done. 0.1s\n"
     ]
    },
    {
     "name": "stdout",
     "output_type": "stream",
     "text": [
      "INFO:tensorflow:Assets written to: /Users/abletimin/cernbox/Trigger/ml-met-trigger/wandb/run-20221027_160301-plgpzeip/files/model-best/assets\n"
     ]
    },
    {
     "name": "stderr",
     "output_type": "stream",
     "text": [
      "\u001b[34m\u001b[1mwandb\u001b[0m: Adding directory to artifact (/Users/abletimin/cernbox/Trigger/ml-met-trigger/wandb/run-20221027_160301-plgpzeip/files/model-best)... Done. 0.1s\n"
     ]
    },
    {
     "name": "stdout",
     "output_type": "stream",
     "text": [
      "INFO:tensorflow:Assets written to: /Users/abletimin/cernbox/Trigger/ml-met-trigger/wandb/run-20221027_160301-plgpzeip/files/model-best/assets\n"
     ]
    },
    {
     "name": "stderr",
     "output_type": "stream",
     "text": [
      "\u001b[34m\u001b[1mwandb\u001b[0m: Adding directory to artifact (/Users/abletimin/cernbox/Trigger/ml-met-trigger/wandb/run-20221027_160301-plgpzeip/files/model-best)... Done. 0.1s\n"
     ]
    },
    {
     "name": "stdout",
     "output_type": "stream",
     "text": [
      "INFO:tensorflow:Assets written to: /Users/abletimin/cernbox/Trigger/ml-met-trigger/wandb/run-20221027_160301-plgpzeip/files/model-best/assets\n"
     ]
    },
    {
     "name": "stderr",
     "output_type": "stream",
     "text": [
      "\u001b[34m\u001b[1mwandb\u001b[0m: Adding directory to artifact (/Users/abletimin/cernbox/Trigger/ml-met-trigger/wandb/run-20221027_160301-plgpzeip/files/model-best)... Done. 0.1s\n"
     ]
    },
    {
     "name": "stdout",
     "output_type": "stream",
     "text": [
      "INFO:tensorflow:Assets written to: /Users/abletimin/cernbox/Trigger/ml-met-trigger/wandb/run-20221027_160301-plgpzeip/files/model-best/assets\n"
     ]
    },
    {
     "name": "stderr",
     "output_type": "stream",
     "text": [
      "\u001b[34m\u001b[1mwandb\u001b[0m: Adding directory to artifact (/Users/abletimin/cernbox/Trigger/ml-met-trigger/wandb/run-20221027_160301-plgpzeip/files/model-best)... Done. 0.1s\n"
     ]
    },
    {
     "name": "stdout",
     "output_type": "stream",
     "text": [
      "INFO:tensorflow:Assets written to: /Users/abletimin/cernbox/Trigger/ml-met-trigger/wandb/run-20221027_160301-plgpzeip/files/model-best/assets\n"
     ]
    },
    {
     "name": "stderr",
     "output_type": "stream",
     "text": [
      "\u001b[34m\u001b[1mwandb\u001b[0m: Adding directory to artifact (/Users/abletimin/cernbox/Trigger/ml-met-trigger/wandb/run-20221027_160301-plgpzeip/files/model-best)... Done. 0.1s\n"
     ]
    },
    {
     "name": "stdout",
     "output_type": "stream",
     "text": [
      "INFO:tensorflow:Assets written to: /Users/abletimin/cernbox/Trigger/ml-met-trigger/wandb/run-20221027_160301-plgpzeip/files/model-best/assets\n"
     ]
    },
    {
     "name": "stderr",
     "output_type": "stream",
     "text": [
      "\u001b[34m\u001b[1mwandb\u001b[0m: Adding directory to artifact (/Users/abletimin/cernbox/Trigger/ml-met-trigger/wandb/run-20221027_160301-plgpzeip/files/model-best)... Done. 0.1s\n"
     ]
    },
    {
     "name": "stdout",
     "output_type": "stream",
     "text": [
      "INFO:tensorflow:Assets written to: /Users/abletimin/cernbox/Trigger/ml-met-trigger/wandb/run-20221027_160301-plgpzeip/files/model-best/assets\n"
     ]
    },
    {
     "name": "stderr",
     "output_type": "stream",
     "text": [
      "\u001b[34m\u001b[1mwandb\u001b[0m: Adding directory to artifact (/Users/abletimin/cernbox/Trigger/ml-met-trigger/wandb/run-20221027_160301-plgpzeip/files/model-best)... Done. 0.1s\n"
     ]
    },
    {
     "name": "stdout",
     "output_type": "stream",
     "text": [
      "INFO:tensorflow:Assets written to: /Users/abletimin/cernbox/Trigger/ml-met-trigger/wandb/run-20221027_160301-plgpzeip/files/model-best/assets\n"
     ]
    },
    {
     "name": "stderr",
     "output_type": "stream",
     "text": [
      "\u001b[34m\u001b[1mwandb\u001b[0m: Adding directory to artifact (/Users/abletimin/cernbox/Trigger/ml-met-trigger/wandb/run-20221027_160301-plgpzeip/files/model-best)... Done. 0.1s\n"
     ]
    },
    {
     "name": "stdout",
     "output_type": "stream",
     "text": [
      "INFO:tensorflow:Assets written to: /Users/abletimin/cernbox/Trigger/ml-met-trigger/wandb/run-20221027_160301-plgpzeip/files/model-best/assets\n"
     ]
    },
    {
     "name": "stderr",
     "output_type": "stream",
     "text": [
      "\u001b[34m\u001b[1mwandb\u001b[0m: Adding directory to artifact (/Users/abletimin/cernbox/Trigger/ml-met-trigger/wandb/run-20221027_160301-plgpzeip/files/model-best)... Done. 0.1s\n"
     ]
    },
    {
     "name": "stdout",
     "output_type": "stream",
     "text": [
      "INFO:tensorflow:Assets written to: /Users/abletimin/cernbox/Trigger/ml-met-trigger/wandb/run-20221027_160301-plgpzeip/files/model-best/assets\n"
     ]
    },
    {
     "name": "stderr",
     "output_type": "stream",
     "text": [
      "\u001b[34m\u001b[1mwandb\u001b[0m: Adding directory to artifact (/Users/abletimin/cernbox/Trigger/ml-met-trigger/wandb/run-20221027_160301-plgpzeip/files/model-best)... Done. 0.1s\n"
     ]
    },
    {
     "name": "stdout",
     "output_type": "stream",
     "text": [
      "INFO:tensorflow:Assets written to: /Users/abletimin/cernbox/Trigger/ml-met-trigger/wandb/run-20221027_160301-plgpzeip/files/model-best/assets\n"
     ]
    },
    {
     "name": "stderr",
     "output_type": "stream",
     "text": [
      "\u001b[34m\u001b[1mwandb\u001b[0m: Adding directory to artifact (/Users/abletimin/cernbox/Trigger/ml-met-trigger/wandb/run-20221027_160301-plgpzeip/files/model-best)... Done. 0.1s\n"
     ]
    },
    {
     "name": "stdout",
     "output_type": "stream",
     "text": [
      "INFO:tensorflow:Assets written to: /Users/abletimin/cernbox/Trigger/ml-met-trigger/wandb/run-20221027_160301-plgpzeip/files/model-best/assets\n"
     ]
    },
    {
     "name": "stderr",
     "output_type": "stream",
     "text": [
      "\u001b[34m\u001b[1mwandb\u001b[0m: Adding directory to artifact (/Users/abletimin/cernbox/Trigger/ml-met-trigger/wandb/run-20221027_160301-plgpzeip/files/model-best)... Done. 0.1s\n"
     ]
    },
    {
     "name": "stdout",
     "output_type": "stream",
     "text": [
      "INFO:tensorflow:Assets written to: /Users/abletimin/cernbox/Trigger/ml-met-trigger/wandb/run-20221027_160301-plgpzeip/files/model-best/assets\n"
     ]
    },
    {
     "name": "stderr",
     "output_type": "stream",
     "text": [
      "\u001b[34m\u001b[1mwandb\u001b[0m: Adding directory to artifact (/Users/abletimin/cernbox/Trigger/ml-met-trigger/wandb/run-20221027_160301-plgpzeip/files/model-best)... Done. 0.1s\n"
     ]
    },
    {
     "name": "stdout",
     "output_type": "stream",
     "text": [
      "INFO:tensorflow:Assets written to: /Users/abletimin/cernbox/Trigger/ml-met-trigger/wandb/run-20221027_160301-plgpzeip/files/model-best/assets\n"
     ]
    },
    {
     "name": "stderr",
     "output_type": "stream",
     "text": [
      "\u001b[34m\u001b[1mwandb\u001b[0m: Adding directory to artifact (/Users/abletimin/cernbox/Trigger/ml-met-trigger/wandb/run-20221027_160301-plgpzeip/files/model-best)... Done. 0.1s\n"
     ]
    },
    {
     "name": "stdout",
     "output_type": "stream",
     "text": [
      "INFO:tensorflow:Assets written to: /Users/abletimin/cernbox/Trigger/ml-met-trigger/wandb/run-20221027_160301-plgpzeip/files/model-best/assets\n"
     ]
    },
    {
     "name": "stderr",
     "output_type": "stream",
     "text": [
      "\u001b[34m\u001b[1mwandb\u001b[0m: Adding directory to artifact (/Users/abletimin/cernbox/Trigger/ml-met-trigger/wandb/run-20221027_160301-plgpzeip/files/model-best)... Done. 0.1s\n"
     ]
    },
    {
     "name": "stdout",
     "output_type": "stream",
     "text": [
      "INFO:tensorflow:Assets written to: /Users/abletimin/cernbox/Trigger/ml-met-trigger/wandb/run-20221027_160301-plgpzeip/files/model-best/assets\n"
     ]
    },
    {
     "name": "stderr",
     "output_type": "stream",
     "text": [
      "\u001b[34m\u001b[1mwandb\u001b[0m: Adding directory to artifact (/Users/abletimin/cernbox/Trigger/ml-met-trigger/wandb/run-20221027_160301-plgpzeip/files/model-best)... Done. 0.1s\n"
     ]
    },
    {
     "name": "stdout",
     "output_type": "stream",
     "text": [
      "INFO:tensorflow:Assets written to: /Users/abletimin/cernbox/Trigger/ml-met-trigger/wandb/run-20221027_160301-plgpzeip/files/model-best/assets\n"
     ]
    },
    {
     "name": "stderr",
     "output_type": "stream",
     "text": [
      "\u001b[34m\u001b[1mwandb\u001b[0m: Adding directory to artifact (/Users/abletimin/cernbox/Trigger/ml-met-trigger/wandb/run-20221027_160301-plgpzeip/files/model-best)... Done. 0.1s\n"
     ]
    },
    {
     "name": "stdout",
     "output_type": "stream",
     "text": [
      "INFO:tensorflow:Assets written to: /Users/abletimin/cernbox/Trigger/ml-met-trigger/wandb/run-20221027_160301-plgpzeip/files/model-best/assets\n"
     ]
    },
    {
     "name": "stderr",
     "output_type": "stream",
     "text": [
      "\u001b[34m\u001b[1mwandb\u001b[0m: Adding directory to artifact (/Users/abletimin/cernbox/Trigger/ml-met-trigger/wandb/run-20221027_160301-plgpzeip/files/model-best)... Done. 0.1s\n"
     ]
    },
    {
     "name": "stdout",
     "output_type": "stream",
     "text": [
      "INFO:tensorflow:Assets written to: /Users/abletimin/cernbox/Trigger/ml-met-trigger/wandb/run-20221027_160301-plgpzeip/files/model-best/assets\n"
     ]
    },
    {
     "name": "stderr",
     "output_type": "stream",
     "text": [
      "\u001b[34m\u001b[1mwandb\u001b[0m: Adding directory to artifact (/Users/abletimin/cernbox/Trigger/ml-met-trigger/wandb/run-20221027_160301-plgpzeip/files/model-best)... Done. 0.1s\n"
     ]
    },
    {
     "name": "stdout",
     "output_type": "stream",
     "text": [
      "INFO:tensorflow:Assets written to: /Users/abletimin/cernbox/Trigger/ml-met-trigger/wandb/run-20221027_160301-plgpzeip/files/model-best/assets\n"
     ]
    },
    {
     "name": "stderr",
     "output_type": "stream",
     "text": [
      "\u001b[34m\u001b[1mwandb\u001b[0m: Adding directory to artifact (/Users/abletimin/cernbox/Trigger/ml-met-trigger/wandb/run-20221027_160301-plgpzeip/files/model-best)... Done. 0.1s\n"
     ]
    },
    {
     "name": "stdout",
     "output_type": "stream",
     "text": [
      "INFO:tensorflow:Assets written to: /Users/abletimin/cernbox/Trigger/ml-met-trigger/wandb/run-20221027_160301-plgpzeip/files/model-best/assets\n"
     ]
    },
    {
     "name": "stderr",
     "output_type": "stream",
     "text": [
      "\u001b[34m\u001b[1mwandb\u001b[0m: Adding directory to artifact (/Users/abletimin/cernbox/Trigger/ml-met-trigger/wandb/run-20221027_160301-plgpzeip/files/model-best)... Done. 0.1s\n"
     ]
    },
    {
     "name": "stdout",
     "output_type": "stream",
     "text": [
      "INFO:tensorflow:Assets written to: /Users/abletimin/cernbox/Trigger/ml-met-trigger/wandb/run-20221027_160301-plgpzeip/files/model-best/assets\n"
     ]
    },
    {
     "name": "stderr",
     "output_type": "stream",
     "text": [
      "\u001b[34m\u001b[1mwandb\u001b[0m: Adding directory to artifact (/Users/abletimin/cernbox/Trigger/ml-met-trigger/wandb/run-20221027_160301-plgpzeip/files/model-best)... Done. 0.1s\n"
     ]
    },
    {
     "name": "stdout",
     "output_type": "stream",
     "text": [
      "INFO:tensorflow:Assets written to: /Users/abletimin/cernbox/Trigger/ml-met-trigger/wandb/run-20221027_160301-plgpzeip/files/model-best/assets\n"
     ]
    },
    {
     "name": "stderr",
     "output_type": "stream",
     "text": [
      "\u001b[34m\u001b[1mwandb\u001b[0m: Adding directory to artifact (/Users/abletimin/cernbox/Trigger/ml-met-trigger/wandb/run-20221027_160301-plgpzeip/files/model-best)... Done. 0.1s\n"
     ]
    },
    {
     "name": "stdout",
     "output_type": "stream",
     "text": [
      "INFO:tensorflow:Assets written to: /Users/abletimin/cernbox/Trigger/ml-met-trigger/wandb/run-20221027_160301-plgpzeip/files/model-best/assets\n"
     ]
    },
    {
     "name": "stderr",
     "output_type": "stream",
     "text": [
      "\u001b[34m\u001b[1mwandb\u001b[0m: Adding directory to artifact (/Users/abletimin/cernbox/Trigger/ml-met-trigger/wandb/run-20221027_160301-plgpzeip/files/model-best)... Done. 0.1s\n"
     ]
    },
    {
     "name": "stdout",
     "output_type": "stream",
     "text": [
      "INFO:tensorflow:Assets written to: /Users/abletimin/cernbox/Trigger/ml-met-trigger/wandb/run-20221027_160301-plgpzeip/files/model-best/assets\n"
     ]
    },
    {
     "name": "stderr",
     "output_type": "stream",
     "text": [
      "\u001b[34m\u001b[1mwandb\u001b[0m: Adding directory to artifact (/Users/abletimin/cernbox/Trigger/ml-met-trigger/wandb/run-20221027_160301-plgpzeip/files/model-best)... Done. 0.1s\n"
     ]
    },
    {
     "name": "stdout",
     "output_type": "stream",
     "text": [
      "INFO:tensorflow:Assets written to: /Users/abletimin/cernbox/Trigger/ml-met-trigger/wandb/run-20221027_160301-plgpzeip/files/model-best/assets\n"
     ]
    },
    {
     "name": "stderr",
     "output_type": "stream",
     "text": [
      "\u001b[34m\u001b[1mwandb\u001b[0m: Adding directory to artifact (/Users/abletimin/cernbox/Trigger/ml-met-trigger/wandb/run-20221027_160301-plgpzeip/files/model-best)... Done. 0.1s\n"
     ]
    },
    {
     "name": "stdout",
     "output_type": "stream",
     "text": [
      "INFO:tensorflow:Assets written to: /Users/abletimin/cernbox/Trigger/ml-met-trigger/wandb/run-20221027_160301-plgpzeip/files/model-best/assets\n"
     ]
    },
    {
     "name": "stderr",
     "output_type": "stream",
     "text": [
      "\u001b[34m\u001b[1mwandb\u001b[0m: Adding directory to artifact (/Users/abletimin/cernbox/Trigger/ml-met-trigger/wandb/run-20221027_160301-plgpzeip/files/model-best)... Done. 0.1s\n"
     ]
    },
    {
     "name": "stdout",
     "output_type": "stream",
     "text": [
      "INFO:tensorflow:Assets written to: /Users/abletimin/cernbox/Trigger/ml-met-trigger/wandb/run-20221027_160301-plgpzeip/files/model-best/assets\n"
     ]
    },
    {
     "name": "stderr",
     "output_type": "stream",
     "text": [
      "\u001b[34m\u001b[1mwandb\u001b[0m: Adding directory to artifact (/Users/abletimin/cernbox/Trigger/ml-met-trigger/wandb/run-20221027_160301-plgpzeip/files/model-best)... Done. 0.1s\n"
     ]
    },
    {
     "name": "stdout",
     "output_type": "stream",
     "text": [
      "INFO:tensorflow:Assets written to: /Users/abletimin/cernbox/Trigger/ml-met-trigger/wandb/run-20221027_160301-plgpzeip/files/model-best/assets\n"
     ]
    },
    {
     "name": "stderr",
     "output_type": "stream",
     "text": [
      "\u001b[34m\u001b[1mwandb\u001b[0m: Adding directory to artifact (/Users/abletimin/cernbox/Trigger/ml-met-trigger/wandb/run-20221027_160301-plgpzeip/files/model-best)... Done. 0.1s\n"
     ]
    },
    {
     "name": "stdout",
     "output_type": "stream",
     "text": [
      "INFO:tensorflow:Assets written to: /Users/abletimin/cernbox/Trigger/ml-met-trigger/wandb/run-20221027_160301-plgpzeip/files/model-best/assets\n"
     ]
    },
    {
     "name": "stderr",
     "output_type": "stream",
     "text": [
      "\u001b[34m\u001b[1mwandb\u001b[0m: Adding directory to artifact (/Users/abletimin/cernbox/Trigger/ml-met-trigger/wandb/run-20221027_160301-plgpzeip/files/model-best)... Done. 0.1s\n"
     ]
    },
    {
     "name": "stdout",
     "output_type": "stream",
     "text": [
      "INFO:tensorflow:Assets written to: /Users/abletimin/cernbox/Trigger/ml-met-trigger/wandb/run-20221027_160301-plgpzeip/files/model-best/assets\n"
     ]
    },
    {
     "name": "stderr",
     "output_type": "stream",
     "text": [
      "\u001b[34m\u001b[1mwandb\u001b[0m: Adding directory to artifact (/Users/abletimin/cernbox/Trigger/ml-met-trigger/wandb/run-20221027_160301-plgpzeip/files/model-best)... Done. 0.1s\n"
     ]
    },
    {
     "name": "stdout",
     "output_type": "stream",
     "text": [
      "INFO:tensorflow:Assets written to: /Users/abletimin/cernbox/Trigger/ml-met-trigger/wandb/run-20221027_160301-plgpzeip/files/model-best/assets\n"
     ]
    },
    {
     "name": "stderr",
     "output_type": "stream",
     "text": [
      "\u001b[34m\u001b[1mwandb\u001b[0m: Adding directory to artifact (/Users/abletimin/cernbox/Trigger/ml-met-trigger/wandb/run-20221027_160301-plgpzeip/files/model-best)... Done. 0.1s\n"
     ]
    },
    {
     "name": "stdout",
     "output_type": "stream",
     "text": [
      "INFO:tensorflow:Assets written to: /Users/abletimin/cernbox/Trigger/ml-met-trigger/wandb/run-20221027_160301-plgpzeip/files/model-best/assets\n"
     ]
    },
    {
     "name": "stderr",
     "output_type": "stream",
     "text": [
      "\u001b[34m\u001b[1mwandb\u001b[0m: Adding directory to artifact (/Users/abletimin/cernbox/Trigger/ml-met-trigger/wandb/run-20221027_160301-plgpzeip/files/model-best)... Done. 0.1s\n"
     ]
    },
    {
     "name": "stdout",
     "output_type": "stream",
     "text": [
      "INFO:tensorflow:Assets written to: /Users/abletimin/cernbox/Trigger/ml-met-trigger/wandb/run-20221027_160301-plgpzeip/files/model-best/assets\n"
     ]
    },
    {
     "name": "stderr",
     "output_type": "stream",
     "text": [
      "\u001b[34m\u001b[1mwandb\u001b[0m: Adding directory to artifact (/Users/abletimin/cernbox/Trigger/ml-met-trigger/wandb/run-20221027_160301-plgpzeip/files/model-best)... Done. 0.1s\n"
     ]
    },
    {
     "data": {
      "text/html": [
       "Waiting for W&B process to finish... <strong style=\"color:green\">(success).</strong>"
      ],
      "text/plain": [
       "<IPython.core.display.HTML object>"
      ]
     },
     "metadata": {},
     "output_type": "display_data"
    },
    {
     "data": {
      "application/vnd.jupyter.widget-view+json": {
       "model_id": "629c1eafac2e43c39a69bfc972d4a589",
       "version_major": 2,
       "version_minor": 0
      },
      "text/plain": [
       "VBox(children=(Label(value='1360.214 MB of 1360.214 MB uploaded (0.006 MB deduped)\\r'), FloatProgress(value=1.…"
      ]
     },
     "metadata": {},
     "output_type": "display_data"
    },
    {
     "data": {
      "text/html": [
       "<style>\n",
       "    table.wandb td:nth-child(1) { padding: 0 10px; text-align: left ; width: auto;} td:nth-child(2) {text-align: left ; width: 100%}\n",
       "    .wandb-row { display: flex; flex-direction: row; flex-wrap: wrap; justify-content: flex-start; width: 100% }\n",
       "    .wandb-col { display: flex; flex-direction: column; flex-basis: 100%; flex: 1; padding: 10px; }\n",
       "    </style>\n",
       "<div class=\"wandb-row\"><div class=\"wandb-col\"><h3>Run history:</h3><br/><table class=\"wandb\"><tr><td>epoch</td><td>▁▁▁▁▂▂▂▂▂▃▃▃▃▃▃▄▄▄▄▄▅▅▅▅▅▅▆▆▆▆▆▇▇▇▇▇▇███</td></tr><tr><td>loss</td><td>█▇▆▅▅▄▄▄▃▃▃▃▃▃▃▂▂▄█▂▂▂▂▃▂▂▂▂▂▂▂▂▂▂▂▁▁▂▂▁</td></tr><tr><td>mean_absolute_error</td><td>██▇▇▆▆▅▅▅▄▄▄▃▃▃▃▃▃▄▂▂▂▂▂▂▂▂▂▂▂▂▂▂▁▂▁▁▁▁▁</td></tr><tr><td>val_loss</td><td>▆▅▅▄▃▃▃▃▃▃▃▃▂▂▃▂▂▄█▂▁▂▂▂▂▂▁▂▁▂▁▁▂▂▂▁▁▂▁▁</td></tr><tr><td>val_mean_absolute_error</td><td>█▇▇▇▆▆▅▅▅▅▄▄▄▃▄▄▃▃▅▂▂▂▂▂▂▂▂▂▂▂▁▁▂▂▁▁▁▂▂▁</td></tr></table><br/></div><div class=\"wandb-col\"><h3>Run summary:</h3><br/><table class=\"wandb\"><tr><td>best_epoch</td><td>195</td></tr><tr><td>best_val_loss</td><td>36.06547</td></tr><tr><td>epoch</td><td>199</td></tr><tr><td>loss</td><td>35.45767</td></tr><tr><td>mean_absolute_error</td><td>33.77556</td></tr><tr><td>val_loss</td><td>36.38143</td></tr><tr><td>val_mean_absolute_error</td><td>34.48981</td></tr></table><br/></div></div>"
      ],
      "text/plain": [
       "<IPython.core.display.HTML object>"
      ]
     },
     "metadata": {},
     "output_type": "display_data"
    },
    {
     "data": {
      "text/html": [
       "Synced <strong style=\"color:#cdcd00\">silver-sweep-16</strong>: <a href=\"https://wandb.ai/ablet/hyperTune-NN/runs/plgpzeip\" target=\"_blank\">https://wandb.ai/ablet/hyperTune-NN/runs/plgpzeip</a><br/>Synced 7 W&B file(s), 0 media file(s), 111 artifact file(s) and 2 other file(s)"
      ],
      "text/plain": [
       "<IPython.core.display.HTML object>"
      ]
     },
     "metadata": {},
     "output_type": "display_data"
    },
    {
     "data": {
      "text/html": [
       "Find logs at: <code>./wandb/run-20221027_160301-plgpzeip/logs</code>"
      ],
      "text/plain": [
       "<IPython.core.display.HTML object>"
      ]
     },
     "metadata": {},
     "output_type": "display_data"
    }
   ],
   "source": [
    "wandb.agent(sweep_id=sweep_id, function=train, count=5)"
   ]
  },
  {
   "cell_type": "code",
   "execution_count": null,
   "id": "280bb934-500b-4b01-815d-ae00cba10a62",
   "metadata": {},
   "outputs": [],
   "source": []
  }
 ],
 "metadata": {
  "kernelspec": {
   "display_name": "Python 3 (ipykernel)",
   "language": "python",
   "name": "python3"
  },
  "language_info": {
   "codemirror_mode": {
    "name": "ipython",
    "version": 3
   },
   "file_extension": ".py",
   "mimetype": "text/x-python",
   "name": "python",
   "nbconvert_exporter": "python",
   "pygments_lexer": "ipython3",
   "version": "3.9.12"
  },
  "sparkconnect": {
   "bundled_options": [
    "MemoryIntensive",
    "ComputeIntensive",
    "SparkMetrics",
    "LongRunningAnalysis"
   ],
   "list_of_options": []
  }
 },
 "nbformat": 4,
 "nbformat_minor": 5
}
