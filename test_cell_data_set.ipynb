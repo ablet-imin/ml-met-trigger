{
 "cells": [
  {
   "cell_type": "code",
   "execution_count": 1,
   "id": "88aa2ec7-e6b8-408c-8fe2-19eb26cda2d9",
   "metadata": {},
   "outputs": [
    {
     "name": "stdout",
     "output_type": "stream",
     "text": [
      "CPU times: user 1.52 s, sys: 240 ms, total: 1.76 s\n",
      "Wall time: 3.46 s\n"
     ]
    }
   ],
   "source": [
    "%%time\n",
    "import os, sys\n",
    "import numpy as np\n",
    "import pandas as pd\n",
    "import seaborn as sns\n",
    "\n",
    "#for plot with ATLAS styple\n",
    "import matplotlib.pyplot as plt\n",
    "from matplotlib import colors\n",
    "import seaborn as sns\n",
    "\n",
    "import mplhep as hep\n",
    "#hep.style.use(hep.style.ROOT) # For now ROOT defaults to CMS\n",
    "# Or choose one of the experiment styles\n",
    "hep.style.use(hep.style.ATLAS)\n",
    "plt.style.use(hep.style.ATLAS)\n",
    "#be able to read root files.\n",
    "#and convert to numpy or pandas\n",
    "import uproot\n",
    "import gc\n",
    "\n",
    "from IPython.lib.deepreload import reload\n",
    "%load_ext autoreload\n",
    "%autoreload 2\n",
    "\n",
    "\n",
    "import numpy as np\n",
    "import awkward as ak\n",
    "import uproot4 \n",
    "\n",
    "h5_files = \"/Users/abletimin/cernbox/Phase2_MET_Trigger_project/re21.9/local_run/subTask-0/myfile_tree.root\"\n",
    "tree_name = \"ntuple\"\n",
    "\n",
    "METS = [\"MET_Calo_pt\", \"MET_Calo_px\", \"MET_Calo_py\",\n",
    "                \"met_truth_pt\", \"met_truth_px\", \"met_truth_py\",\n",
    "                \"pufitCalo422_pt\",\"pufitCalo422_px\", \"pufitCalo422_py\"]\n",
    "cluster_name = \"Calo422TopoClusters\"\n",
    "cl_vars = ['et', 'eta', 'phi', 'n_cell', 'em_prob',\n",
    "                'had_weight', 'significance', 'eng_frac_max', 'eng_frac_em',\n",
    "                'cell_sig']\n",
    "expressions= [f'{cluster_name}_{var}' for var in cl_vars]\n",
    "expressions= expressions + METS # include met branches\n",
    "\n"
   ]
  },
  {
   "cell_type": "code",
   "execution_count": 2,
   "id": "39cccf77-8d09-4252-a091-ff44ac923320",
   "metadata": {},
   "outputs": [
    {
     "name": "stdout",
     "output_type": "stream",
     "text": [
      "(2000,)\n",
      "(2000,)\n",
      "(2000,)\n",
      "(2000,)\n",
      "(2000,)\n",
      "(2000,)\n",
      "(2000,)\n",
      "(2000,)\n",
      "(2000,)\n"
     ]
    }
   ],
   "source": [
    "events_list = list()\n",
    "_labels = {}\n",
    "for met in METS:\n",
    "        _labels[met] = []\n",
    "        \n",
    "for batch in uproot.iterate(h5_files+\":\"+tree_name, expressions=expressions,\n",
    "                                step_size='1 GB', library=\"np\"):\n",
    "    for i in range(len(batch[f\"{cluster_name}_{cl_vars[0]}\"])):\n",
    "            event_array = list()\n",
    "            for var in cl_vars:\n",
    "                event_array += [batch[f\"{cluster_name}_{var}\"][i]]\n",
    "            events_list += [np.stack(event_array, axis=0).flatten()]\n",
    "            \n",
    "    for met in METS:\n",
    "        _labels[met] += [batch[met]] \n",
    "                         \n",
    "for met in METS:       \n",
    "    print(np.concatenate(_labels[met], axis=0).shape)\n",
    "    "
   ]
  },
  {
   "cell_type": "code",
   "execution_count": 3,
   "id": "41af4307-f841-4f01-b9c8-4035419a1106",
   "metadata": {},
   "outputs": [],
   "source": [
    "events = np.array(events_list, dtype=object)"
   ]
  },
  {
   "cell_type": "code",
   "execution_count": 4,
   "id": "f00e4bb6-92c7-4f4f-a532-78aaa7fcd392",
   "metadata": {},
   "outputs": [
    {
     "data": {
      "text/plain": [
       "(6510,)"
      ]
     },
     "execution_count": 4,
     "metadata": {},
     "output_type": "execute_result"
    }
   ],
   "source": [
    "events_list[0].shape"
   ]
  },
  {
   "cell_type": "code",
   "execution_count": 5,
   "id": "f76c2a9b-2cfc-4a39-bbb4-8388be6c4045",
   "metadata": {},
   "outputs": [],
   "source": [
    "import h5py\n",
    "h5f = h5py.File(\"test.h5\", 'w')\n"
   ]
  },
  {
   "cell_type": "code",
   "execution_count": 6,
   "id": "a645a118-b8e8-4e94-bf8b-caeb0b6e090d",
   "metadata": {},
   "outputs": [
    {
     "data": {
      "text/plain": [
       "<HDF5 dataset \"xx\": shape (2000,), type \"<f4\">"
      ]
     },
     "execution_count": 6,
     "metadata": {},
     "output_type": "execute_result"
    }
   ],
   "source": [
    "hdt = h5py.special_dtype(vlen=np.float32)\n",
    "h5f.create_dataset('tcl3', data=events, dtype=hdt)\n",
    "#for met in METS[:1]:\n",
    "data=np.concatenate(_labels[METS[1]], axis=0)\n",
    "h5f.create_dataset('xx', data=data)"
   ]
  },
  {
   "cell_type": "code",
   "execution_count": 12,
   "id": "97f30540-82ab-455a-92bd-ff980258a0b4",
   "metadata": {},
   "outputs": [
    {
     "data": {
      "text/plain": [
       "array([0.5175891], dtype=float32)"
      ]
     },
     "execution_count": 12,
     "metadata": {},
     "output_type": "execute_result"
    }
   ],
   "source": [
    "h5f['tcl3'][0].reshape(10,-1)[1:2,0]"
   ]
  },
  {
   "cell_type": "code",
   "execution_count": 58,
   "id": "48655d44-a902-4685-81bd-621c65dfebf8",
   "metadata": {},
   "outputs": [
    {
     "data": {
      "text/plain": [
       "array([[[37.93805   , 26.717224  , 22.304832  , ..., -1.0379906 ,\n",
       "         -1.2876918 , -1.5689633 ],\n",
       "        [ 4.2010865 ,  2.8439364 , -1.7859802 , ...,  0.56581485,\n",
       "         -0.4512145 ,  0.91662157],\n",
       "        [ 0.39478514, -2.349417  ,  1.6677331 , ..., -0.23658468,\n",
       "         -2.8978221 ,  1.1507704 ],\n",
       "        ...,\n",
       "        [ 0.11057816,  0.14452043,  0.19384487, ...,  0.        ,\n",
       "          1.        ,  0.        ],\n",
       "        [ 0.3476431 ,  1.        ,  0.9723732 , ...,  0.        ,\n",
       "          1.        ,  0.        ],\n",
       "        [ 8.981715  ,  6.7440047 , 59.43528   , ...,  0.        ,\n",
       "         -4.4414644 ,  0.        ]]], dtype=float32)"
      ]
     },
     "execution_count": 58,
     "metadata": {},
     "output_type": "execute_result"
    }
   ],
   "source": [
    "h5f['tcl3'][1].reshape(1, 10,-1)"
   ]
  },
  {
   "cell_type": "code",
   "execution_count": 63,
   "id": "a190f435-d63c-4325-9b4b-9bbe8559224f",
   "metadata": {},
   "outputs": [
    {
     "data": {
      "text/plain": [
       "(1, 841, 10)"
      ]
     },
     "execution_count": 63,
     "metadata": {},
     "output_type": "execute_result"
    }
   ],
   "source": [
    "np.transpose(h5f['tcl3'][1].reshape(1, 10,-1), (0,2,1)).shape"
   ]
  },
  {
   "cell_type": "markdown",
   "id": "457da6fc-475a-4f5d-9485-08c5eba96f83",
   "metadata": {},
   "source": [
    "# Model"
   ]
  },
  {
   "cell_type": "code",
   "execution_count": 73,
   "id": "50e484bd-31f3-4d3a-bd9c-31b4f065737a",
   "metadata": {},
   "outputs": [],
   "source": [
    "from tensorflow.keras.layers import Conv2D, TimeDistributed,Dropout,Input, Dense,\\\n",
    "    BatchNormalization, GRU, Layer, Flatten, Conv1D\n",
    "from tensorflow.keras.regularizers import l2\n",
    "from tensorflow.keras.models import Model\n",
    "from tensorflow.keras.utils import plot_model\n",
    "from tensorflow.keras.optimizers import Adam\n",
    "\n",
    "import  tensorflow as tf\n"
   ]
  },
  {
   "cell_type": "code",
   "execution_count": 142,
   "id": "801d0aa4-8853-4b43-bedf-00db64f1a1bb",
   "metadata": {},
   "outputs": [],
   "source": [
    "def data_converter(input_arrays=h5f['tcl3'][:]):\n",
    "    for x in input_arrays:\n",
    "        yield np.transpose(x.reshape(1, 10,-1), (0, 2,1))\n",
    "\n",
    "dataset = tf.data.Dataset.from_generator(data_converter,\n",
    "                                         output_types=np.float32)\n",
    "\n",
    "batched_dataset = dataset.batch(4)\n",
    "#dataset_reshaped = dataset.map(lambda x: x.numpy().reshape(10,-1))"
   ]
  },
  {
   "cell_type": "code",
   "execution_count": 119,
   "id": "f1676b85-623e-4c3e-b09f-db4587d3b3ff",
   "metadata": {},
   "outputs": [],
   "source": [
    "for d in dataset:\n",
    "    d"
   ]
  },
  {
   "cell_type": "code",
   "execution_count": 149,
   "id": "e9a5107c-52fc-45f5-98ed-777f7b53ab4b",
   "metadata": {},
   "outputs": [],
   "source": [
    "inputs = Input(shape=(None, 10))\n",
    "conv1d = Conv1D(100, 1, activation='relu', input_shape=(None,10))(inputs)\n",
    "SUM = tf.keras.layers.Lambda(lambda s: tf.reduce_sum(s, axis=-2))(conv1d)\n",
    "outputs = tf.keras.layers.ReLU()(SUM)\n",
    "model = Model(inputs=inputs,outputs=outputs)\n",
    "\n",
    "#model.compile(loss='categorical_crossentropy', optimizer='adam', metrics=['accuracy'])"
   ]
  },
  {
   "cell_type": "code",
   "execution_count": null,
   "id": "36c3462f-639d-4a54-91b1-dc35bc93a1a6",
   "metadata": {},
   "outputs": [],
   "source": []
  },
  {
   "cell_type": "code",
   "execution_count": 144,
   "id": "8f8296e0-7e29-4b39-95d8-123bba304637",
   "metadata": {},
   "outputs": [
    {
     "name": "stdout",
     "output_type": "stream",
     "text": [
      "Model: \"model_9\"\n",
      "_________________________________________________________________\n",
      " Layer (type)                Output Shape              Param #   \n",
      "=================================================================\n",
      " input_17 (InputLayer)       [(None, None, 10)]        0         \n",
      "                                                                 \n",
      " conv1d_20 (Conv1D)          (None, None, 100)         1100      \n",
      "                                                                 \n",
      " lambda_8 (Lambda)           (None, 100)               0         \n",
      "                                                                 \n",
      "=================================================================\n",
      "Total params: 1,100\n",
      "Trainable params: 1,100\n",
      "Non-trainable params: 0\n",
      "_________________________________________________________________\n"
     ]
    }
   ],
   "source": [
    "model.summary()"
   ]
  },
  {
   "cell_type": "code",
   "execution_count": 145,
   "id": "cee0ba65-c565-45c1-9a6a-2b7d8e00004a",
   "metadata": {},
   "outputs": [
    {
     "name": "stdout",
     "output_type": "stream",
     "text": [
      "1/1 [==============================] - 0s 30ms/step\n"
     ]
    },
    {
     "data": {
      "text/plain": [
       "(1, 100)"
      ]
     },
     "execution_count": 145,
     "metadata": {},
     "output_type": "execute_result"
    }
   ],
   "source": [
    "model.predict(np.transpose(h5f['tcl3'][1].reshape(1, 10,-1), (0,2,1))).shape"
   ]
  },
  {
   "cell_type": "code",
   "execution_count": 150,
   "id": "4648dc1c-1d3a-4e9a-9a4e-635e2d102810",
   "metadata": {},
   "outputs": [
    {
     "name": "stdout",
     "output_type": "stream",
     "text": [
      "2000/2000 [==============================] - 1s 697us/step\n"
     ]
    }
   ],
   "source": [
    "results = model.predict(dataset)"
   ]
  },
  {
   "cell_type": "code",
   "execution_count": 151,
   "id": "d6b4d131-d265-4d42-99a2-9e343f29e4ff",
   "metadata": {},
   "outputs": [
    {
     "data": {
      "text/plain": [
       "array([1.33604250e+05, 0.00000000e+00, 7.78721328e+04, 0.00000000e+00,\n",
       "       0.00000000e+00, 1.58896719e+05, 1.97182988e+04, 1.50145898e+04,\n",
       "       9.22774141e+04, 2.19252734e+04, 0.00000000e+00, 9.96846641e+04,\n",
       "       0.00000000e+00, 0.00000000e+00, 0.00000000e+00, 9.15331055e+03,\n",
       "       0.00000000e+00, 1.25086258e+05, 1.05593516e+05, 0.00000000e+00,\n",
       "       0.00000000e+00, 9.28271057e+02, 0.00000000e+00, 0.00000000e+00,\n",
       "       1.25790078e+05, 0.00000000e+00, 1.40069250e+05, 0.00000000e+00,\n",
       "       1.03257617e+05, 1.07703391e+05, 0.00000000e+00, 7.98318047e+04,\n",
       "       0.00000000e+00, 4.00211487e+01, 0.00000000e+00, 1.38584703e+05,\n",
       "       2.00628688e+05, 2.08360406e+05, 1.30154602e+05, 3.45033516e+04,\n",
       "       0.00000000e+00, 1.54015453e+05, 1.44014541e+04, 5.98734531e+04,\n",
       "       0.00000000e+00, 9.14488047e+04, 0.00000000e+00, 1.61217047e+05,\n",
       "       6.29263945e+04, 0.00000000e+00, 0.00000000e+00, 1.73684609e+05,\n",
       "       2.60877075e+01, 0.00000000e+00, 4.80408750e+04, 1.07496201e+04,\n",
       "       0.00000000e+00, 9.47545156e+04, 5.79737109e+04, 0.00000000e+00,\n",
       "       1.45609307e+04, 0.00000000e+00, 0.00000000e+00, 0.00000000e+00,\n",
       "       0.00000000e+00, 1.93925273e+04, 0.00000000e+00, 1.46210281e+05,\n",
       "       0.00000000e+00, 0.00000000e+00, 4.90166484e+04, 0.00000000e+00,\n",
       "       8.52364531e+04, 9.83743438e+04, 0.00000000e+00, 2.19880176e+04,\n",
       "       1.01364734e+05, 0.00000000e+00, 7.22481995e+01, 0.00000000e+00,\n",
       "       0.00000000e+00, 5.03840859e+04, 6.75768848e+03, 1.99632500e+04,\n",
       "       2.87748031e+05, 1.95126938e+05, 5.86590156e+04, 4.30712109e+04,\n",
       "       6.38043633e+04, 1.40285781e+05, 0.00000000e+00, 0.00000000e+00,\n",
       "       6.05424336e+04, 9.39862109e+03, 0.00000000e+00, 0.00000000e+00,\n",
       "       4.64427031e+04, 0.00000000e+00, 0.00000000e+00, 3.92828047e+04],\n",
       "      dtype=float32)"
      ]
     },
     "execution_count": 151,
     "metadata": {},
     "output_type": "execute_result"
    }
   ],
   "source": [
    "results[0]"
   ]
  },
  {
   "cell_type": "code",
   "execution_count": null,
   "id": "c5a324ad-df92-44b5-ab98-6f6aa78ccb09",
   "metadata": {},
   "outputs": [],
   "source": []
  }
 ],
 "metadata": {
  "kernelspec": {
   "display_name": "Python 3 (ipykernel)",
   "language": "python",
   "name": "python3"
  },
  "language_info": {
   "codemirror_mode": {
    "name": "ipython",
    "version": 3
   },
   "file_extension": ".py",
   "mimetype": "text/x-python",
   "name": "python",
   "nbconvert_exporter": "python",
   "pygments_lexer": "ipython3",
   "version": "3.9.12"
  }
 },
 "nbformat": 4,
 "nbformat_minor": 5
}
