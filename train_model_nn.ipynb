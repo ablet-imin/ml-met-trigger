{
 "cells": [
  {
   "cell_type": "code",
   "execution_count": 1,
   "id": "25eee993-9ee2-4560-9cc7-a6d1dabe7986",
   "metadata": {},
   "outputs": [
    {
     "name": "stderr",
     "output_type": "stream",
     "text": [
      "2022-10-05 22:03:40.612457: W tensorflow/stream_executor/platform/default/dso_loader.cc:64] Could not load dynamic library 'libcudart.so.11.0'; dlerror: libcudart.so.11.0: cannot open shared object file: No such file or directory; LD_LIBRARY_PATH: /cvmfs/sft.cern.ch/lcg/releases/MCGenerators/thepeg/2.2.3-88592/x86_64-centos7-gcc11-opt/lib/ThePEG:/cvmfs/sft.cern.ch/lcg/releases/MCGenerators/herwig++/7.2.3-35f7a/x86_64-centos7-gcc11-opt/lib/Herwig:/cvmfs/sft.cern.ch/lcg/views/LCG_102swan/x86_64-centos7-gcc11-opt/lib/python3.9/site-packages/jaxlib/mlir/_mlir_libs:/cvmfs/sft.cern.ch/lcg/views/LCG_102swan/x86_64-centos7-gcc11-opt/lib/python3.9/site-packages/torch/lib:/cvmfs/sft.cern.ch/lcg/views/LCG_102swan/x86_64-centos7-gcc11-opt/lib/python3.9/site-packages/onnxruntime/capi/:/cvmfs/sft.cern.ch/lcg/views/LCG_102swan/x86_64-centos7-gcc11-opt/lib/python3.9/site-packages/tensorflow:/cvmfs/sft.cern.ch/lcg/views/LCG_102swan/x86_64-centos7-gcc11-opt/lib/python3.9/site-packages/tensorflow/contrib/tensor_forest:/cvmfs/sft.cern.ch/lcg/views/LCG_102swan/x86_64-centos7-gcc11-opt/lib/python3.9/site-packages/tensorflow/python/framework:/cvmfs/sft.cern.ch/lcg/releases/java/11.0.14p1-8284a/x86_64-centos7-gcc11-opt/jre/lib/amd64:/cvmfs/sft.cern.ch/lcg/views/LCG_102swan/x86_64-centos7-gcc11-opt/lib64:/cvmfs/sft.cern.ch/lcg/views/LCG_102swan/x86_64-centos7-gcc11-opt/lib:/cvmfs/sft.cern.ch/lcg/releases/gcc/11.2.0-8a51a/x86_64-centos7/lib:/cvmfs/sft.cern.ch/lcg/releases/gcc/11.2.0-8a51a/x86_64-centos7/lib64:/cvmfs/sft.cern.ch/lcg/releases/binutils/2.37-355ed/x86_64-centos7/lib:/usr/local/lib/:/cvmfs/sft.cern.ch/lcg/releases/R/4.1.2-f9ee4/x86_64-centos7-gcc11-opt/lib64/R/library/readr/rcon\n",
      "2022-10-05 22:03:40.612503: I tensorflow/stream_executor/cuda/cudart_stub.cc:29] Ignore above cudart dlerror if you do not have a GPU set up on your machine.\n"
     ]
    }
   ],
   "source": [
    "from IPython.lib.deepreload import reload\n",
    "%load_ext autoreload\n",
    "%autoreload 2\n",
    "\n",
    "import os, sys\n",
    "import numpy as np\n",
    "import pandas as pd\n",
    "import seaborn as sns\n",
    "\n",
    "#for plot with ATLAS styple\n",
    "import matplotlib.pyplot as plt\n",
    "from matplotlib import colors\n",
    "\n",
    "import tensorflow as tf\n",
    "os.environ[\"CUDA_DEVICE_ORDER\"]=\"PCI_BUS_ID\" #If the line below doesn't work, uncomment this line (make sure to comment the line below); it should help.\n",
    "os.environ['CUDA_VISIBLE_DEVICES'] = '-1'\n",
    "from tensorflow.keras.layers import Input, Dense, Reshape, Flatten, Dropout, Layer\n",
    "from tensorflow.keras.layers import BatchNormalization, Activation, ZeroPadding2D\n",
    "from tensorflow.keras.models import Sequential, Model\n",
    "from tensorflow.keras.optimizers import Adam\n",
    "\n",
    "import uproot\n",
    "import gc\n",
    "\n",
    "from cells import Cells \n",
    "from nn import NN\n",
    "\n",
    "MCdata=\"cell_analysis_mu60\"\n",
    "MC_root = f\"../re21.9/{MCdata}/cells.root\"\n",
    "tree_name = \"ntuple\"\n",
    "\n",
    "x_bin = np.linspace(-3.15, 3.15, num=33)\n",
    "y_bin = np.linspace(-5, 5, num=52)\n",
    "\n",
    "cell_data = Cells(MC_root, unit=\"GeV\")\n",
    "#cell_imgs, cell_label = cell_data.cimg(0.2)\n",
    "cell_vecs, cell_vlabel = cell_data.cvector(x_bin, batch_size=1000)\n",
    "#cell_vecs, cell_vlabel = cell_vecs*0.1, cell_vlabel*0.1\n",
    "#cell_vecs, cell_vlabel = cell_imgs.reshape((100, -1))*0.1, cell_vlabel*0.1\n",
    "\n",
    "#cell_et, cell_et_label = cell_data.cvector_et(x_bin, batch_size=500)\n"
   ]
  },
  {
   "cell_type": "code",
   "execution_count": 59,
   "id": "04fdfa96-b4aa-4bf5-8cde-0784c89e524d",
   "metadata": {},
   "outputs": [
    {
     "data": {
      "image/png": "[encoded data removed]",
      "text/plain": [
       "<IPython.core.display.Image object>"
      ]
     },
     "execution_count": 59,
     "metadata": {},
     "output_type": "execute_result"
    }
   ],
   "source": [
    "from tensorflow.keras.layers import Layer\n",
    "from tensorflow.keras import backend as K\n",
    "class Sum(Layer):\n",
    "    \"\"\"\n",
    "    Simple sum layer à la Dan Guest\n",
    "    \"\"\"\n",
    "\n",
    "    def __init__(self, **kwargs):\n",
    "        super().__init__(**kwargs)\n",
    "        self.supports_masking = True\n",
    "\n",
    "    def build(self, input_shape):\n",
    "        pass\n",
    "\n",
    "    def call(self, x, mask=None):\n",
    "        if mask is not None:\n",
    "            x = x * K.cast(mask, K.dtype(x))[:,:,None]\n",
    "        return K.sum(x, axis=2)\n",
    "\n",
    "    def compute_output_shape(self, input_shape):\n",
    "        return (input_shape[0], input_shape[1])\n",
    "\n",
    "    def compute_mask(self, inputs, mask):\n",
    "        return None\n",
    "    \n",
    "class MET(Layer):\n",
    "    \"\"\"\n",
    "    Simple sum layer à la Dan Guest\n",
    "    \"\"\"\n",
    "\n",
    "    def __init__(self, **kwargs):\n",
    "        super().__init__(**kwargs)\n",
    "        self.supports_masking = True\n",
    "\n",
    "    def build(self, input_shape):\n",
    "        pass\n",
    "\n",
    "    def call(self, x, mask=None):\n",
    "        if mask is not None:\n",
    "            x = x * K.cast(mask, K.dtype(x))[:,:,None]\n",
    "            x=K.square(x)\n",
    "            x=K.sum(x, axis=-1)\n",
    "        return K.sqrt(x)\n",
    "\n",
    "    def compute_output_shape(self, input_shape):\n",
    "        return (input_shape[0])\n",
    "\n",
    "    def compute_mask(self, inputs, mask):\n",
    "        return None\n",
    "#model_nn = NN([100,100], learning_rate=1e-3)\n",
    "\n",
    "class MeanSquaredError(tf.keras.losses.Loss):\n",
    "    def call(self, y_true, y_pred):\n",
    "        scce_loss = tf.keras.metrics.sparse_categorical_crossentropy(\n",
    "            K.argmax(y_true,axis=-1), y_pred, from_logits=True, axis=-1\n",
    "            )\n",
    "        y_true_max = K.max(y_true, axis=-1)\n",
    "        y_pred_max = K.max(y_pred, axis=-1)\n",
    "        \n",
    "        mse_loss = tf.keras.losses.mean_absolute_error(y_true_max, y_pred_max)\n",
    "        return scce_loss+mse_loss\n",
    "\n",
    "model_NN = Sequential([\n",
    "    #Flatten(),\n",
    "    Dense(128, activation='relu'),\n",
    "    #Dense(500, activation='relu'),\n",
    "    Dense(500,activation='relu'),\n",
    "    Dense(64,activation='linear'),\n",
    "    Dense(1),\n",
    "  ])\n",
    "\n",
    "\n",
    "\n",
    "model_output = Sequential([\n",
    "    Dense(2, activation='linear'),\n",
    "    Dense(1)\n",
    "  ], name='met_x')\n",
    "\n",
    "\n",
    "add_sumET = tf.keras.layers.Concatenate(axis=1)\n",
    "\n",
    "x=tf.keras.Input(shape=cell_vecs.shape[-2])\n",
    "S = tf.reduce_sum(abs(x), 1, keepdims=True)\n",
    "met = model_NN(x)\n",
    "met_extended = add_sumET([met, S])\n",
    "met_out = model_output(met_extended)\n",
    "\n",
    "\n",
    "model = Model(\n",
    "    inputs=x,\n",
    "    outputs = met\n",
    ")\n",
    "\n",
    "\n",
    "\n",
    "\n",
    "model.compile(loss='mean_absolute_error',\n",
    "                optimizer=tf.keras.optimizers.Adam(1e-3), metrics=[\"mean_absolute_error\"])\n",
    "\n",
    "tf.keras.utils.plot_model(model, expand_nested=True)"
   ]
  },
  {
   "cell_type": "code",
   "execution_count": 60,
   "id": "a1f9f250",
   "metadata": {},
   "outputs": [
    {
     "name": "stdout",
     "output_type": "stream",
     "text": [
      "Model: \"model_7\"\n",
      "_________________________________________________________________\n",
      " Layer (type)                Output Shape              Param #   \n",
      "=================================================================\n",
      " input_8 (InputLayer)        [(None, 32)]              0         \n",
      "                                                                 \n",
      " sequential_7 (Sequential)   (None, 1)                 100853    \n",
      "                                                                 \n",
      "=================================================================\n",
      "Total params: 100,853\n",
      "Trainable params: 100,853\n",
      "Non-trainable params: 0\n",
      "_________________________________________________________________\n",
      "x_train shape: (37000, 32)\n"
     ]
    }
   ],
   "source": [
    "model.summary()\n",
    "#cell_vecs[ (cell_vecs<1.)]=0\n",
    "\n",
    "kinematics='xy'\n",
    "if kinematics == 'et':\n",
    "    x_train, y_train = cell_et[:-500,:], cell_et_label[:-500]\n",
    "    x_test, y_test = cell_et[-500:,:], cell_et_label[-500:]\n",
    "else:\n",
    "    cell_vecs[ (cell_vecs<2.)&(cell_vecs>-2.)]=0\n",
    "    x_train, y_train = cell_vecs[:-10000,:,0], cell_vlabel[:-10000,0]\n",
    "    x_test, y_test = cell_vecs[-10000:,:,0], cell_vlabel[-10000:,0]\n",
    "    \n",
    "print(f\"x_train shape: {x_train.shape}\")\n",
    "\n",
    "history = model.fit(x_train, y_train, epochs=5, verbose=0,\n",
    "                                    validation_split=0.3)\n"
   ]
  },
  {
   "cell_type": "code",
   "execution_count": 61,
   "id": "fe018a19",
   "metadata": {},
   "outputs": [
    {
     "data": {
      "image/png": "[encoded data removed]",
      "text/plain": [
       "<Figure size 432x288 with 1 Axes>"
      ]
     },
     "metadata": {
      "needs_background": "light"
     },
     "output_type": "display_data"
    }
   ],
   "source": [
    "def plot_loss(history):\n",
    "        plt.plot(history.history['loss'], label='loss')\n",
    "        plt.plot(history.history['val_loss'], label='val_loss')\n",
    "        plt.ylim([0.01, 100])\n",
    "        #plt.yscale('log')\n",
    "        plt.xlabel('Epoch')\n",
    "        plt.ylabel('Error ')\n",
    "        plt.legend()\n",
    "        plt.grid(True)\n",
    "plot_loss(history)"
   ]
  },
  {
   "cell_type": "code",
   "execution_count": 62,
   "id": "0279a84a",
   "metadata": {},
   "outputs": [
    {
     "data": {
      "image/png": "[encoded data removed]",
      "text/plain": [
       "<Figure size 432x288 with 1 Axes>"
      ]
     },
     "metadata": {
      "needs_background": "light"
     },
     "output_type": "display_data"
    }
   ],
   "source": [
    "predicted = model(x_test)\n",
    "\n",
    "plt.scatter( y_test,predicted.numpy() , marker='o', alpha=0.7)\n",
    "plt.xlabel(\"truth\")\n",
    "plt.ylabel(\"predicted\")\n",
    "plt.grid()"
   ]
  },
  {
   "cell_type": "code",
   "execution_count": 63,
   "id": "4eeac146",
   "metadata": {},
   "outputs": [
    {
     "name": "stdout",
     "output_type": "stream",
     "text": [
      "313/313 [==============================] - 0s 1ms/step - loss: 33.3819 - mean_absolute_error: 33.3819\n"
     ]
    },
    {
     "data": {
      "text/plain": [
       "[33.38188171386719, 33.38188171386719]"
      ]
     },
     "execution_count": 63,
     "metadata": {},
     "output_type": "execute_result"
    }
   ],
   "source": [
    "model.evaluate(x_test, y_test, verbose=1)"
   ]
  },
  {
   "cell_type": "code",
   "execution_count": 64,
   "id": "5e2bd91e",
   "metadata": {},
   "outputs": [
    {
     "data": {
      "image/png": "[encoded data removed]",
      "text/plain": [
       "<Figure size 432x288 with 1 Axes>"
      ]
     },
     "metadata": {
      "needs_background": "light"
     },
     "output_type": "display_data"
    }
   ],
   "source": [
    "#_,bins,_ = \n",
    "plt.hist(predicted.numpy(), bins=100,alpha=0.7, color='red')\n",
    "_ = plt.hist(y_test, bins=100, alpha=0.5, histtype='step', color='Blue')"
   ]
  },
  {
   "cell_type": "code",
   "execution_count": 65,
   "id": "eec1365b",
   "metadata": {},
   "outputs": [
    {
     "data": {
      "text/plain": [
       "39921"
      ]
     },
     "execution_count": 65,
     "metadata": {},
     "output_type": "execute_result"
    }
   ],
   "source": [
    "delta = y_test-predicted.numpy().flatten()\n",
    "delta.shape\n",
    "gc.collect()"
   ]
  },
  {
   "cell_type": "code",
   "execution_count": 66,
   "id": "2e097af4",
   "metadata": {},
   "outputs": [
    {
     "data": {
      "image/png": "[encoded data removed]",
      "text/plain": [
       "<Figure size 432x288 with 1 Axes>"
      ]
     },
     "metadata": {
      "needs_background": "light"
     },
     "output_type": "display_data"
    }
   ],
   "source": [
    "y_test.shape\n",
    "#gc.collect()\n",
    "_ = plt.hist(delta, bins=100)"
   ]
  },
  {
   "cell_type": "code",
   "execution_count": 67,
   "id": "5754a871",
   "metadata": {},
   "outputs": [
    {
     "data": {
      "text/plain": [
       "(10000,)"
      ]
     },
     "execution_count": 67,
     "metadata": {},
     "output_type": "execute_result"
    }
   ],
   "source": [
    "predicted.numpy().flatten().shape"
   ]
  },
  {
   "cell_type": "code",
   "execution_count": null,
   "id": "e71e8138",
   "metadata": {},
   "outputs": [],
   "source": []
  }
 ],
 "metadata": {
  "kernelspec": {
   "display_name": "Python 3 (ipykernel)",
   "language": "python",
   "name": "python3"
  },
  "language_info": {
   "codemirror_mode": {
    "name": "ipython",
    "version": 3
   },
   "file_extension": ".py",
   "mimetype": "text/x-python",
   "name": "python",
   "nbconvert_exporter": "python",
   "pygments_lexer": "ipython3",
   "version": "3.9.12"
  }
 },
 "nbformat": 4,
 "nbformat_minor": 5
}
