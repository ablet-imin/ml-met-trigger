{
 "cells": [
  {
   "cell_type": "code",
   "execution_count": 1,
   "id": "25eee993-9ee2-4560-9cc7-a6d1dabe7986",
   "metadata": {},
   "outputs": [
    {
     "name": "stderr",
     "output_type": "stream",
     "text": [
      "2022-09-13 20:55:46.072374: W tensorflow/stream_executor/platform/default/dso_loader.cc:64] Could not load dynamic library 'libcudart.so.11.0'; dlerror: libcudart.so.11.0: cannot open shared object file: No such file or directory; LD_LIBRARY_PATH: /cvmfs/sft.cern.ch/lcg/releases/MCGenerators/thepeg/2.2.3-88592/x86_64-centos7-gcc11-opt/lib/ThePEG:/cvmfs/sft.cern.ch/lcg/releases/MCGenerators/herwig++/7.2.3-35f7a/x86_64-centos7-gcc11-opt/lib/Herwig:/cvmfs/sft.cern.ch/lcg/views/LCG_102swan/x86_64-centos7-gcc11-opt/lib/python3.9/site-packages/jaxlib/mlir/_mlir_libs:/cvmfs/sft.cern.ch/lcg/views/LCG_102swan/x86_64-centos7-gcc11-opt/lib/python3.9/site-packages/torch/lib:/cvmfs/sft.cern.ch/lcg/views/LCG_102swan/x86_64-centos7-gcc11-opt/lib/python3.9/site-packages/onnxruntime/capi/:/cvmfs/sft.cern.ch/lcg/views/LCG_102swan/x86_64-centos7-gcc11-opt/lib/python3.9/site-packages/tensorflow:/cvmfs/sft.cern.ch/lcg/views/LCG_102swan/x86_64-centos7-gcc11-opt/lib/python3.9/site-packages/tensorflow/contrib/tensor_forest:/cvmfs/sft.cern.ch/lcg/views/LCG_102swan/x86_64-centos7-gcc11-opt/lib/python3.9/site-packages/tensorflow/python/framework:/cvmfs/sft.cern.ch/lcg/releases/java/11.0.14p1-8284a/x86_64-centos7-gcc11-opt/jre/lib/amd64:/cvmfs/sft.cern.ch/lcg/views/LCG_102swan/x86_64-centos7-gcc11-opt/lib64:/cvmfs/sft.cern.ch/lcg/views/LCG_102swan/x86_64-centos7-gcc11-opt/lib:/cvmfs/sft.cern.ch/lcg/releases/gcc/11.2.0-8a51a/x86_64-centos7/lib:/cvmfs/sft.cern.ch/lcg/releases/gcc/11.2.0-8a51a/x86_64-centos7/lib64:/cvmfs/sft.cern.ch/lcg/releases/binutils/2.37-355ed/x86_64-centos7/lib:/usr/local/lib/:/cvmfs/sft.cern.ch/lcg/releases/R/4.1.2-f9ee4/x86_64-centos7-gcc11-opt/lib64/R/library/readr/rcon\n",
      "2022-09-13 20:55:46.072413: I tensorflow/stream_executor/cuda/cudart_stub.cc:29] Ignore above cudart dlerror if you do not have a GPU set up on your machine.\n"
     ]
    }
   ],
   "source": [
    "from IPython.lib.deepreload import reload\n",
    "%load_ext autoreload\n",
    "%autoreload 2\n",
    "\n",
    "import os, sys\n",
    "import numpy as np\n",
    "import pandas as pd\n",
    "import seaborn as sns\n",
    "\n",
    "#for plot with ATLAS styple\n",
    "import matplotlib.pyplot as plt\n",
    "from matplotlib import colors\n",
    "\n",
    "import tensorflow as tf\n",
    "os.environ[\"CUDA_DEVICE_ORDER\"]=\"PCI_BUS_ID\" #If the line below doesn't work, uncomment this line (make sure to comment the line below); it should help.\n",
    "os.environ['CUDA_VISIBLE_DEVICES'] = '-1'\n",
    "from tensorflow.keras.layers import Input, Dense, Reshape, Flatten, Dropout, Layer\n",
    "from tensorflow.keras.layers import BatchNormalization, Activation, ZeroPadding2D\n",
    "from tensorflow.keras.models import Sequential, Model\n",
    "from tensorflow.keras.optimizers import Adam\n",
    "\n",
    "import uproot\n",
    "import gc\n",
    "\n",
    "from cells import Cells \n",
    "from nn import NN\n",
    "\n",
    "MCdata=\"cell_analysis_mu60\"\n",
    "MC_root = f\"../re21.9/{MCdata}/cells.root\"\n",
    "tree_name = \"ntuple\"\n",
    "        \n",
    "cell_data = Cells(MC_root, unit=\"GeV\")\n",
    "#cell_imgs, cell_label = cell_data.cimg(0.2)\n",
    "cell_vecs, cell_vlabel = cell_data.cvector(0.02)\n",
    "#cell_vecs, cell_vlabel = cell_vecs*0.1, cell_vlabel*0.1\n",
    "#cell_vecs, cell_vlabel = cell_imgs.reshape((100, -1))*0.1, cell_vlabel*0.1\n",
    "\n"
   ]
  },
  {
   "cell_type": "code",
   "execution_count": 11,
   "id": "04fdfa96-b4aa-4bf5-8cde-0784c89e524d",
   "metadata": {},
   "outputs": [],
   "source": [
    "from tensorflow.keras.layers import Layer\n",
    "from tensorflow.keras import backend as K\n",
    "class Sum(Layer):\n",
    "    \"\"\"\n",
    "    Simple sum layer à la Dan Guest\n",
    "    \"\"\"\n",
    "\n",
    "    def __init__(self, **kwargs):\n",
    "        super().__init__(**kwargs)\n",
    "        self.supports_masking = True\n",
    "\n",
    "    def build(self, input_shape):\n",
    "        pass\n",
    "\n",
    "    def call(self, x, mask=None):\n",
    "        if mask is not None:\n",
    "            x = x * K.cast(mask, K.dtype(x))[:,:,None]\n",
    "        return K.sum(x, axis=2)\n",
    "\n",
    "    def compute_output_shape(self, input_shape):\n",
    "        return (input_shape[0], input_shape[1])\n",
    "\n",
    "    def compute_mask(self, inputs, mask):\n",
    "        return None\n",
    "    \n",
    "class MET(Layer):\n",
    "    \"\"\"\n",
    "    Simple sum layer à la Dan Guest\n",
    "    \"\"\"\n",
    "\n",
    "    def __init__(self, **kwargs):\n",
    "        super().__init__(**kwargs)\n",
    "        self.supports_masking = True\n",
    "\n",
    "    def build(self, input_shape):\n",
    "        pass\n",
    "\n",
    "    def call(self, x, mask=None):\n",
    "        if mask is not None:\n",
    "            x = x * K.cast(mask, K.dtype(x))[:,:,None]\n",
    "            x=K.square(x)\n",
    "            x=K.sum(x, axis=-1)\n",
    "        return K.sqrt(x)\n",
    "\n",
    "    def compute_output_shape(self, input_shape):\n",
    "        return (input_shape[0])\n",
    "\n",
    "    def compute_mask(self, inputs, mask):\n",
    "        return None\n",
    "#model_nn = NN([100,100], learning_rate=1e-3)\n",
    "\n",
    "class MeanSquaredError(tf.keras.losses.Loss):\n",
    "    def call(self, y_true, y_pred):\n",
    "        return tf.reduce_sum(tf.math.square(y_pred + y_true), axis=-1)\n",
    "\n",
    "model_nn = Sequential([\n",
    "    #Sum(name='sum'),\n",
    "    Flatten(),\n",
    "    #Dense(64, activation='relu'),\n",
    "    Dense(128, activation='linear'),\n",
    "    #Dense(128,activation='relu'),\n",
    "    #Dense(2,activation='relu'),\n",
    "    #MET(name=\"MET\"),\n",
    "    Dense(2)\n",
    "  ])\n",
    "\n",
    "model_nn.compile(loss=MeanSquaredError(),\n",
    "                optimizer=tf.keras.optimizers.Adam(1e-3))"
   ]
  },
  {
   "cell_type": "code",
   "execution_count": 12,
   "id": "a1f9f250",
   "metadata": {},
   "outputs": [],
   "source": [
    "cell_vecs[ (cell_vecs<1.)&(cell_vecs>-1)]=0\n",
    "x_train, y_train = cell_vecs[:-500,:], cell_vlabel[:-500]\n",
    "x_test, y_test = cell_vecs[-500:,:], cell_vlabel[-500:]\n",
    "#x_train.sort()\n",
    "#x_test.sort()\n",
    "#y_train = np.sqrt( np.sum(y_train**2, axis=-1) )\n",
    "#y_test = np.sqrt( np.sum(y_test**2, axis=-1) )\n",
    "\n",
    "#normalizer = tf.keras.layers.Normalization(axis=-1)\n",
    "#normalizer.adapt(x_train)\n",
    "\n",
    "#normalizer_label = tf.keras.layers.Normalization(axis=None)\n",
    "#normalizer_label.adapt(y_train)\n",
    "\n",
    "history = model_nn.fit(x_train, y_train, epochs=100, verbose=0,\n",
    "                       validation_split = 0.3)\n"
   ]
  },
  {
   "cell_type": "code",
   "execution_count": 13,
   "id": "fe018a19",
   "metadata": {},
   "outputs": [
    {
     "data": {
      "image/png": "[encoded data removed]",
      "text/plain": [
       "<Figure size 432x288 with 1 Axes>"
      ]
     },
     "metadata": {
      "needs_background": "light"
     },
     "output_type": "display_data"
    }
   ],
   "source": [
    "def plot_loss(history):\n",
    "        plt.plot(history.history['loss'], label='loss')\n",
    "        plt.plot(history.history['val_loss'], label='val_loss')\n",
    "        plt.ylim([0.01, 10000])\n",
    "        plt.yscale('log')\n",
    "        plt.xlabel('Epoch')\n",
    "        plt.ylabel('Error ')\n",
    "        plt.legend()\n",
    "        plt.grid(True)\n",
    "plot_loss(history)"
   ]
  },
  {
   "cell_type": "code",
   "execution_count": 14,
   "id": "0279a84a",
   "metadata": {},
   "outputs": [
    {
     "data": {
      "image/png": "[encoded data removed]",
      "text/plain": [
       "<Figure size 432x288 with 1 Axes>"
      ]
     },
     "metadata": {
      "needs_background": "light"
     },
     "output_type": "display_data"
    }
   ],
   "source": [
    "predicted = model_nn.predict(x_test)\n",
    "\n",
    "plt.scatter( np.sqrt(np.sum(y_test**2,axis=-1) ),np.sqrt(np.sum(predicted**2,axis=-1) ), marker='o', alpha=0.7)\n",
    "plt.xlabel(\"truth\")\n",
    "plt.ylabel(\"predicted\")\n",
    "plt.grid()"
   ]
  },
  {
   "cell_type": "code",
   "execution_count": 87,
   "id": "4eeac146",
   "metadata": {},
   "outputs": [
    {
     "data": {
      "text/plain": [
       "[43.03554153442383,\n",
       " 42.45100784301758,\n",
       " 42.16459274291992,\n",
       " 42.077701568603516,\n",
       " 42.02887725830078,\n",
       " 42.01643753051758,\n",
       " 41.953636169433594,\n",
       " 41.98527908325195,\n",
       " 41.95751953125,\n",
       " 41.89759826660156,\n",
       " 41.91303253173828,\n",
       " 41.89177703857422,\n",
       " 41.894805908203125,\n",
       " 41.98796463012695,\n",
       " 41.8895378112793,\n",
       " 41.90283203125,\n",
       " 41.93588638305664,\n",
       " 41.932682037353516,\n",
       " 41.93370056152344,\n",
       " 41.924827575683594,\n",
       " 41.918949127197266,\n",
       " 42.072208404541016,\n",
       " 41.94525146484375,\n",
       " 41.82855224609375,\n",
       " 41.98384094238281,\n",
       " 41.840301513671875,\n",
       " 41.83515930175781,\n",
       " 41.851722717285156,\n",
       " 41.867759704589844,\n",
       " 41.893253326416016,\n",
       " 41.82624053955078,\n",
       " 41.8567008972168,\n",
       " 41.911041259765625,\n",
       " 41.93135452270508,\n",
       " 41.849613189697266,\n",
       " 41.88644790649414,\n",
       " 41.84880828857422,\n",
       " 41.86715316772461,\n",
       " 41.861839294433594,\n",
       " 41.83830261230469,\n",
       " 41.796875,\n",
       " 41.85980224609375,\n",
       " 41.77027130126953,\n",
       " 41.901885986328125,\n",
       " 41.968074798583984,\n",
       " 41.85279846191406,\n",
       " 41.82924270629883,\n",
       " 41.860877990722656,\n",
       " 41.773834228515625,\n",
       " 41.867340087890625]"
      ]
     },
     "execution_count": 87,
     "metadata": {},
     "output_type": "execute_result"
    }
   ],
   "source": [
    "history.history['loss']"
   ]
  },
  {
   "cell_type": "code",
   "execution_count": 47,
   "id": "5e2bd91e",
   "metadata": {},
   "outputs": [],
   "source": []
  }
 ],
 "metadata": {
  "kernelspec": {
   "display_name": "Python 3",
   "language": "python",
   "name": "python3"
  },
  "language_info": {
   "codemirror_mode": {
    "name": "ipython",
    "version": 3
   },
   "file_extension": ".py",
   "mimetype": "text/x-python",
   "name": "python",
   "nbconvert_exporter": "python",
   "pygments_lexer": "ipython3",
   "version": "3.9.12"
  }
 },
 "nbformat": 4,
 "nbformat_minor": 5
}
