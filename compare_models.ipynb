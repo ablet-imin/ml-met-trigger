{
 "cells": [
  {
   "cell_type": "code",
   "execution_count": 3,
   "id": "b9a4858c-29eb-424c-99f1-514078d8f507",
   "metadata": {},
   "outputs": [
    {
     "name": "stdout",
     "output_type": "stream",
     "text": [
      "The autoreload extension is already loaded. To reload it, use:\n",
      "  %reload_ext autoreload\n",
      "True\n"
     ]
    }
   ],
   "source": [
    "from IPython.lib.deepreload import reload\n",
    "%load_ext autoreload\n",
    "%autoreload 2\n",
    "\n",
    "import os, sys\n",
    "import numpy as np\n",
    "import pandas as pd\n",
    "import matplotlib.pyplot as plt\n",
    "import seaborn as sn\n",
    "import tensorflow as tf\n",
    "from sklearn.model_selection import train_test_split\n",
    "from sklearn.metrics import mean_squared_error, mean_absolute_error, r2_score\n",
    "import warnings \n",
    "\n",
    "import tensorflow as tf\n",
    "os.environ[\"CUDA_DEVICE_ORDER\"]=\"PCI_BUS_ID\" #If the line below doesn't work, uncomment this line (make sure to comment the line below); it should help.\n",
    "os.environ['CUDA_VISIBLE_DEVICES'] = '-1'\n",
    "from tensorflow import keras\n",
    "from tensorflow.keras.layers import Input, Dense, Reshape, Flatten, Dropout, Layer\n",
    "from tensorflow.keras.layers import BatchNormalization, Activation, ZeroPadding2D\n",
    "from tensorflow.keras.models import Sequential, Model\n",
    "from tensorflow.keras.optimizers import Adam\n",
    "\n",
    "import h5py\n",
    "import cell_data\n",
    "import glob\n",
    "\n",
    "files = list(glob.glob(\"data/ttbar-test/train-*.h5\"))\n",
    "print(isinstance(files, list))\n"
   ]
  },
  {
   "cell_type": "code",
   "execution_count": 33,
   "id": "ce2f05f8-ecd2-4b4a-8613-cd056a263eb6",
   "metadata": {},
   "outputs": [],
   "source": [
    "cells_et, _, _, label_et = cell_data.get_data(files,\n",
    "                                                         labelkey=\"MET_Calo_pt\")\n",
    "_, cells_ex, _, label_ex = cell_data.get_data(files,\n",
    "                                                         labelkey=\"MET_Calo_px\")\n",
    "\n",
    "_,_, cells_ey, label_ey = cell_data.get_data(files,\n",
    "                                                         labelkey=\"MET_Calo_py\")\n",
    "\n",
    "def fletten(data):\n",
    "    return data.reshape(-1,data.shape[1]*data.shape[2])\n",
    "\n",
    "#cells_exy = np.concatenate([cells_ex, cells_ey], axis=0)\n",
    "#label_exy = np.concatenate([label_ex, label_ey], axis=0)\n"
   ]
  },
  {
   "cell_type": "markdown",
   "id": "c924aa2e-29b0-4221-967c-e9b76c9ad706",
   "metadata": {},
   "source": [
    "## Load trained model from wandb  "
   ]
  },
  {
   "cell_type": "code",
   "execution_count": 41,
   "id": "d1b04e1d-b98e-4c5a-a345-84be911fe69a",
   "metadata": {},
   "outputs": [
    {
     "data": {
      "text/html": [
       "Finishing last run (ID:2ok5zgag) before initializing another..."
      ],
      "text/plain": [
       "<IPython.core.display.HTML object>"
      ]
     },
     "metadata": {},
     "output_type": "display_data"
    },
    {
     "data": {
      "text/html": [
       "Waiting for W&B process to finish... <strong style=\"color:green\">(success).</strong>"
      ],
      "text/plain": [
       "<IPython.core.display.HTML object>"
      ]
     },
     "metadata": {},
     "output_type": "display_data"
    },
    {
     "data": {
      "text/html": [
       "Synced <strong style=\"color:#cdcd00\">faithful-smoke-11</strong>: <a href=\"https://wandb.ai/ablet/ml-met-trigger/runs/2ok5zgag\" target=\"_blank\">https://wandb.ai/ablet/ml-met-trigger/runs/2ok5zgag</a><br/>Synced 7 W&B file(s), 0 media file(s), 0 artifact file(s) and 0 other file(s)"
      ],
      "text/plain": [
       "<IPython.core.display.HTML object>"
      ]
     },
     "metadata": {},
     "output_type": "display_data"
    },
    {
     "data": {
      "text/html": [
       "Find logs at: <code>./wandb/run-20230113_162810-2ok5zgag/logs</code>"
      ],
      "text/plain": [
       "<IPython.core.display.HTML object>"
      ]
     },
     "metadata": {},
     "output_type": "display_data"
    },
    {
     "data": {
      "text/html": [
       "Successfully finished last run (ID:2ok5zgag). Initializing new run:<br/>"
      ],
      "text/plain": [
       "<IPython.core.display.HTML object>"
      ]
     },
     "metadata": {},
     "output_type": "display_data"
    },
    {
     "data": {
      "application/vnd.jupyter.widget-view+json": {
       "model_id": "1c6d4f12f52b4e2b9c168578ad07eec3",
       "version_major": 2,
       "version_minor": 0
      },
      "text/plain": [
       "VBox(children=(Label(value='Waiting for wandb.init()...\\r'), FloatProgress(value=0.016752067349989373, max=1.0…"
      ]
     },
     "metadata": {},
     "output_type": "display_data"
    },
    {
     "data": {
      "text/html": [
       "wandb version 0.13.9 is available!  To upgrade, please run:\n",
       " $ pip install wandb --upgrade"
      ],
      "text/plain": [
       "<IPython.core.display.HTML object>"
      ]
     },
     "metadata": {},
     "output_type": "display_data"
    },
    {
     "data": {
      "text/html": [
       "Tracking run with wandb version 0.13.4"
      ],
      "text/plain": [
       "<IPython.core.display.HTML object>"
      ]
     },
     "metadata": {},
     "output_type": "display_data"
    },
    {
     "data": {
      "text/html": [
       "Run data is saved locally in <code>/Users/abletimin/cernbox/Phase2_MET_Trigger_project/ml-met-trigger/wandb/run-20230113_163115-1pnm2dca</code>"
      ],
      "text/plain": [
       "<IPython.core.display.HTML object>"
      ]
     },
     "metadata": {},
     "output_type": "display_data"
    },
    {
     "data": {
      "text/html": [
       "Syncing run <strong><a href=\"https://wandb.ai/ablet/ml-met-trigger/runs/1pnm2dca\" target=\"_blank\">misunderstood-terrain-12</a></strong> to <a href=\"https://wandb.ai/ablet/ml-met-trigger\" target=\"_blank\">Weights & Biases</a> (<a href=\"https://wandb.me/run\" target=\"_blank\">docs</a>)<br/>"
      ],
      "text/plain": [
       "<IPython.core.display.HTML object>"
      ]
     },
     "metadata": {},
     "output_type": "display_data"
    },
    {
     "name": "stderr",
     "output_type": "stream",
     "text": [
      "\u001b[34m\u001b[1mwandb\u001b[0m:   5 of 5 files downloaded.  \n",
      "\u001b[34m\u001b[1mwandb\u001b[0m:   5 of 5 files downloaded.  \n",
      "\u001b[34m\u001b[1mwandb\u001b[0m:   5 of 5 files downloaded.  \n"
     ]
    }
   ],
   "source": [
    "import wandb\n",
    "\n",
    "dic_models = {}\n",
    "run = wandb.init()\n",
    "artifact = run.use_artifact('ablet/model-registry/met-nn:v0', type='model')\n",
    "model_dir = artifact.download()\n",
    "dic_models['Raw']  = keras.models.load_model(model_dir+\"/models/met_nn\")\n",
    "\n",
    "artifact = run.use_artifact('ablet/model-registry/met-nn:v1', type='model')\n",
    "model_dir = artifact.download()\n",
    "dic_models['Scaled'] = keras.models.load_model(model_dir+\"/models/met_nn\")\n",
    "\n",
    "\n",
    "artifact_exy = run.use_artifact('ablet/model-registry/met-nn-exy:v0', type='model')\n",
    "model_exy_dir = artifact_exy.download()\n",
    "\n",
    "dic_models['met_x'] = keras.models.load_model(model_exy_dir+\"/models/met-nn-exy\")\n",
    "dic_models['met_y'] = keras.models.load_model(model_exy_dir+\"/models/met-nn-exy\")\n",
    "\n",
    "#artifact_exy_abpe = run.use_artifact('ablet/model-registry/met-nn-exy:v1', type='model')\n",
    "model_exy_abpe_dir = \"train_nn_exy/met-nn-exy.h5\"  # artifact_exy_abpe.download()\n",
    "\n",
    "dic_models['met_x_abpe'] = keras.models.load_model(model_exy_abpe_dir, compile=False)\n",
    "dic_models['met_y_abpe'] = keras.models.load_model(model_exy_abpe_dir, compile=False)"
   ]
  },
  {
   "cell_type": "markdown",
   "id": "5d4c8492-1767-4688-a797-92be2eba2126",
   "metadata": {},
   "source": [
    "## test model"
   ]
  },
  {
   "cell_type": "code",
   "execution_count": 42,
   "id": "fb7fabe2-2604-44ee-bc5e-d3966d77ff5a",
   "metadata": {},
   "outputs": [
    {
     "name": "stdout",
     "output_type": "stream",
     "text": [
      "Raw\n",
      "Scaled\n",
      "met_x\n",
      "met_y\n",
      "met_x_abpe\n",
      "met_y_abpe\n"
     ]
    }
   ],
   "source": [
    "def test_model(model, test_data):\n",
    "    return model(test_data).numpy()\n",
    "\n",
    "dic_data = {'Raw':cells_et,\n",
    "            'Scaled': cells_et*0.1,\n",
    "           'met_x':cells_ex,\n",
    "           'met_y':cells_ey,\n",
    "           'met_x_abpe':cells_ex,\n",
    "           'met_y_abpe':cells_ey}\n",
    "dic_label = {'Raw':label_et,\n",
    "            'Scaled': label_et,\n",
    "           'met_x':label_ex,\n",
    "            'met_y':label_ey,\n",
    "            'met_x_abpe':label_ex,\n",
    "            'met_y_abpe':label_ey}\n",
    "\n",
    "results = {}\n",
    "for key, model in dic_models.items():\n",
    "    results[key] = test_model(model, dic_data[key])\n",
    "    print(key)\n",
    " "
   ]
  },
  {
   "cell_type": "markdown",
   "id": "bc6bdc6b-0a06-4824-8f19-d78bcdb522be",
   "metadata": {},
   "source": [
    "## plots"
   ]
  },
  {
   "cell_type": "code",
   "execution_count": 43,
   "id": "42f3a8f5-6cbe-4956-bb0b-afabc8d3f0ce",
   "metadata": {},
   "outputs": [
    {
     "data": {
      "text/plain": [
       "<matplotlib.legend.Legend at 0x1582a8c10>"
      ]
     },
     "execution_count": 43,
     "metadata": {},
     "output_type": "execute_result"
    },
    {
     "data": {
      "image/png": "[encoded data removed]",
      "text/plain": [
       "<Figure size 432x288 with 1 Axes>"
      ]
     },
     "metadata": {
      "needs_background": "light"
     },
     "output_type": "display_data"
    }
   ],
   "source": [
    "results['met_xy'] = np.sqrt(results['met_x']**2 + results['met_y']**2)\n",
    "results['met_xy_abpe'] = np.sqrt(results['met_x_abpe']**2 + results['met_y_abpe']**2)\n",
    "\n",
    "\n",
    "_,bins,_ = plt.hist(results['Raw'], bins=100, alpha=0.7, label=\"Raw\")\n",
    "_ = plt.hist(results['Scaled'], bins=bins,alpha=0.7, label=\"Scaled\")\n",
    "_ = plt.hist(results['met_xy'], bins=bins,alpha=0.7, label=\"exy\")\n",
    "_ = plt.hist(results['met_xy_abpe'], bins=bins, alpha=0.7, label=\"exy_abpe\")\n",
    "_ = plt.hist(label_et, bins=bins,alpha=0.7,histtype='step', label=\"Truth\")\n",
    "plt.legend()"
   ]
  },
  {
   "cell_type": "code",
   "execution_count": null,
   "id": "dfa28c8f-fa32-458e-bf67-ccec9c290a02",
   "metadata": {},
   "outputs": [],
   "source": []
  },
  {
   "cell_type": "markdown",
   "id": "4724e816-493c-4d85-af0e-70ee33618074",
   "metadata": {},
   "source": [
    "## Scores"
   ]
  },
  {
   "cell_type": "code",
   "execution_count": 44,
   "id": "cdd6af15-718e-4de3-9ab9-2bda69a60632",
   "metadata": {},
   "outputs": [
    {
     "name": "stdout",
     "output_type": "stream",
     "text": [
      "Raw: 0.27928022428677757\n",
      "Scaled: 0.08209962035463991\n",
      "met_x: 0.669958383569003\n",
      "met_y: 0.6864991792410586\n",
      "met_xy: 0.36423064251326953\n"
     ]
    }
   ],
   "source": [
    "print(f\"Raw: {r2_score(label_et, results['Raw'])}\")\n",
    "print(f\"Scaled: {r2_score(label_et, results['Scaled'])}\")\n",
    "print(f\"met_x: {r2_score(label_ex, results['met_x'])}\")\n",
    "print(f\"met_y: {r2_score(label_ey, results['met_y'])}\")\n",
    "print(f\"met_xy: {r2_score(label_et, results['met_xy'])}\")\n"
   ]
  },
  {
   "cell_type": "code",
   "execution_count": 45,
   "id": "c7519d15-b09b-4d49-96de-81877f9ed286",
   "metadata": {},
   "outputs": [
    {
     "data": {
      "image/png": "[encoded data removed]",
      "text/plain": [
       "<Figure size 864x432 with 2 Axes>"
      ]
     },
     "metadata": {
      "needs_background": "light"
     },
     "output_type": "display_data"
    }
   ],
   "source": [
    "fig, axes = plt.subplots(1,2, figsize=(12,6))\n",
    "for key in ['met_x', 'met_y']:\n",
    "    ax = axes[0] if key=='met_x' else axes[1]\n",
    "    _,bins,_ = ax.hist(results[key], bins=100, alpha=0.7, label=key)\n",
    "    _ = ax.hist(dic_label[key], bins=bins,alpha=0.7,color='red',histtype='step', label=\"Truth\")\n",
    "    ax.legend()\n"
   ]
  },
  {
   "cell_type": "code",
   "execution_count": 46,
   "id": "56509f1c-58b6-4b16-bc2e-b0fc7fb88cfc",
   "metadata": {},
   "outputs": [
    {
     "data": {
      "image/png": "[encoded data removed]",
      "text/plain": [
       "<Figure size 864x432 with 2 Axes>"
      ]
     },
     "metadata": {
      "needs_background": "light"
     },
     "output_type": "display_data"
    }
   ],
   "source": [
    "fig, axes = plt.subplots(1,2, figsize=(12,6))\n",
    "for key in ['met_x_abpe', 'met_y_abpe']:\n",
    "    ax = axes[0] if key=='met_x_abpe' else axes[1]\n",
    "    _,bins,_ = ax.hist(results[key], bins=100, alpha=0.7, label=key)\n",
    "    _ = ax.hist(dic_label[key], bins=bins,alpha=0.7,color='red',histtype='step', label=\"Truth\")\n",
    "    ax.legend()"
   ]
  },
  {
   "cell_type": "code",
   "execution_count": null,
   "id": "91163abf-241d-4f73-9249-1efe1ee6f90f",
   "metadata": {},
   "outputs": [],
   "source": []
  }
 ],
 "metadata": {
  "kernelspec": {
   "display_name": "Python 3 (ipykernel)",
   "language": "python",
   "name": "python3"
  },
  "language_info": {
   "codemirror_mode": {
    "name": "ipython",
    "version": 3
   },
   "file_extension": ".py",
   "mimetype": "text/x-python",
   "name": "python",
   "nbconvert_exporter": "python",
   "pygments_lexer": "ipython3",
   "version": "3.9.12"
  }
 },
 "nbformat": 4,
 "nbformat_minor": 5
}
