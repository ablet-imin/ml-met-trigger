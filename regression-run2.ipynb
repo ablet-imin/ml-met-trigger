{
 "cells": [
  {
   "cell_type": "markdown",
   "metadata": {
    "colab_type": "text",
    "id": "view-in-github"
   },
   "source": [
    "<a href=\"https://colab.research.google.com/github/ablet-imin/ml-met-trigger/blob/main/regression.ipynb\" target=\"_parent\"><img src=\"https://colab.research.google.com/assets/colab-badge.svg\" alt=\"Open In Colab\"/></a>"
   ]
  },
  {
   "cell_type": "code",
   "execution_count": 1,
   "metadata": {
    "id": "ifJXbPvQyyF6"
   },
   "outputs": [
    {
     "name": "stderr",
     "output_type": "stream",
     "text": [
      "2022-11-23 17:32:09.496118: I tensorflow/core/platform/cpu_feature_guard.cc:193] This TensorFlow binary is optimized with oneAPI Deep Neural Network Library (oneDNN) to use the following CPU instructions in performance-critical operations:  SSE4.1 SSE4.2\n",
      "To enable them in other operations, rebuild TensorFlow with the appropriate compiler flags.\n"
     ]
    }
   ],
   "source": [
    "import os, sys\n",
    "import numpy as np\n",
    "import pandas as pd\n",
    "import matplotlib.pyplot as plt\n",
    "import seaborn as sn\n",
    "import tensorflow as tf\n",
    "from sklearn.model_selection import train_test_split\n",
    "from sklearn.metrics import mean_squared_error, mean_absolute_error, r2_score\n",
    "\n",
    "import warnings \n",
    "#warnings.filterwarnings('ignore')\n",
    "#warnings.filterwarnings('ignore', category=DeprecationWarning)\n",
    "#from xgboost import XGBRegressor\n",
    "#from lightgbm import LGBMRegressor\n",
    "\n",
    "from sklearn.linear_model import LinearRegression\n",
    "from sklearn.ensemble import RandomForestRegressor\n",
    "from sklearn.neighbors import KNeighborsRegressor\n",
    "from sklearn.svm import SVR\n",
    "from sklearn.tree import DecisionTreeRegressor\n",
    "from IPython.display import display\n"
   ]
  },
  {
   "cell_type": "code",
   "execution_count": 3,
   "metadata": {
    "id": "3Xefr4BBVtNl"
   },
   "outputs": [],
   "source": [
    "import h5py\n",
    "with h5py.File('./data/train_cells_img50_label_run2.h5', 'r') as h5f:\n",
    "        x_train  = np.array(h5f['images'])\n",
    "        x_train=x_train.reshape(-1, x_train.shape[1]*x_train.shape[2])\n",
    "        y_train = np.array(h5f['labels'])\n",
    "\n",
    "with h5py.File('./data/test_cells_img50_label_run2.h5', 'r') as h5f:\n",
    "        x_test  = np.array(h5f['images'])\n",
    "        x_test = x_test.reshape(-1, x_test.shape[1]*x_test.shape[2])\n",
    "        y_test = np.array(h5f['labels'])\n",
    "\n",
    "#images = images.reshape(-1, images.shape[1]*images.shape[2])\n",
    "#x_train, x_test, y_train, y_test = train_test_split(images, labels,\n",
    "#                                                test_size=0.2, random_state=42,\n",
    "#                                                shuffle=True\n",
    "#                                                )"
   ]
  },
  {
   "cell_type": "code",
   "execution_count": 4,
   "metadata": {
    "id": "R8qevzxz8rQC"
   },
   "outputs": [],
   "source": [
    "#Linear regression\n",
    "lr_models = {\n",
    "    #'xgr' : XGBRegressor(),\n",
    "    #'lgb' : LGBMRegressor(),\n",
    "    'lr': LinearRegression(),\n",
    "    #'rfr': RandomForestRegressor(),\n",
    "    'kr' : KNeighborsRegressor(),\n",
    "    #'svr': SVR(kernel='linear'),\n",
    "    'dtr': DecisionTreeRegressor()\n",
    "}\n",
    "nModels = len(lr_models.keys())\n",
    "scores = pd.DataFrame(index=lr_models.keys(),\n",
    "                      columns=['train', 'test', 'test_r2'],\n",
    "                      data=np.zeros((nModels,3)) )\n",
    "met_pred = {}\n",
    "def fit_to_data():\n",
    "    for name, lr in lr_models.items():\n",
    "        lr.fit(x_train, y_train)\n",
    "        scores['train'][name] = lr.score(x_train,y_train)\n",
    "        scores['test'][name] = lr.score(x_test,y_test)\n",
    "        predicted = lr.predict(x_test)\n",
    "        scores['test_r2'][name] = r2_score(y_test, predicted,)\n",
    "        #scores['test_RMS'][name] = mean_squared_error(y_test, predicted, squared=False)\n",
    "        met_pred[name] = predicted\n",
    "        print(f'{name:10}OK')"
   ]
  },
  {
   "cell_type": "code",
   "execution_count": 5,
   "metadata": {
    "colab": {
     "base_uri": "https://localhost:8080/"
    },
    "id": "0O6N00L6UBkw",
    "outputId": "a5c2da4d-a184-488d-af59-0b2f65dcbe32"
   },
   "outputs": [
    {
     "name": "stdout",
     "output_type": "stream",
     "text": [
      "lr        OK\n",
      "kr        OK\n",
      "dtr       OK\n"
     ]
    }
   ],
   "source": [
    "fit_to_data()"
   ]
  },
  {
   "cell_type": "code",
   "execution_count": null,
   "metadata": {
    "colab": {
     "base_uri": "https://localhost:8080/"
    },
    "id": "5xbTxm13pfW-",
    "outputId": "df292276-49de-48db-c1ec-1195f841f7db"
   },
   "outputs": [
    {
     "name": "stdout",
     "output_type": "stream",
     "text": [
      "ls: cannot access '/cells_img50_label.h5': No such file or directory\n"
     ]
    }
   ],
   "source": [
    "#upload results to wandb\n",
    "#!pip install wandb"
   ]
  },
  {
   "cell_type": "code",
   "execution_count": 6,
   "metadata": {
    "id": "4X3dJEt5u59q"
   },
   "outputs": [
    {
     "name": "stderr",
     "output_type": "stream",
     "text": [
      "\u001b[34m\u001b[1mwandb\u001b[0m: Currently logged in as: \u001b[33mablet\u001b[0m. Use \u001b[1m`wandb login --relogin`\u001b[0m to force relogin\n",
      "\u001b[34m\u001b[1mwandb\u001b[0m: \u001b[33mWARNING\u001b[0m If you're specifying your api key in code, ensure this code is not shared publicly.\n",
      "\u001b[34m\u001b[1mwandb\u001b[0m: \u001b[33mWARNING\u001b[0m Consider setting the WANDB_API_KEY environment variable, or running `wandb login` from the command line.\n",
      "\u001b[34m\u001b[1mwandb\u001b[0m: Appending key for api.wandb.ai to your netrc file: /Users/abletimin/.netrc\n"
     ]
    },
    {
     "data": {
      "text/plain": [
       "True"
      ]
     },
     "execution_count": 6,
     "metadata": {},
     "output_type": "execute_result"
    }
   ],
   "source": [
    "import wandb\n",
    "wandb.login(key=\"bbfdeb3824dbf84bd7fc4fa55c5737dab40a8cb7\")"
   ]
  },
  {
   "cell_type": "code",
   "execution_count": 7,
   "metadata": {
    "id": "33q5l5yDu9XD"
   },
   "outputs": [
    {
     "data": {
      "text/html": [
       "wandb version 0.13.5 is available!  To upgrade, please run:\n",
       " $ pip install wandb --upgrade"
      ],
      "text/plain": [
       "<IPython.core.display.HTML object>"
      ]
     },
     "metadata": {},
     "output_type": "display_data"
    },
    {
     "data": {
      "text/html": [
       "Tracking run with wandb version 0.13.4"
      ],
      "text/plain": [
       "<IPython.core.display.HTML object>"
      ]
     },
     "metadata": {},
     "output_type": "display_data"
    },
    {
     "data": {
      "text/html": [
       "Run data is saved locally in <code>/Users/abletimin/cernbox/Trigger/ml-met-trigger/wandb/run-20221123_173813-o7nltdmh</code>"
      ],
      "text/plain": [
       "<IPython.core.display.HTML object>"
      ]
     },
     "metadata": {},
     "output_type": "display_data"
    },
    {
     "data": {
      "text/html": [
       "Syncing run <strong><a href=\"https://wandb.ai/ablet/Regression-linear-Run2/runs/o7nltdmh\" target=\"_blank\">expert-yogurt-1</a></strong> to <a href=\"https://wandb.ai/ablet/Regression-linear-Run2\" target=\"_blank\">Weights & Biases</a> (<a href=\"https://wandb.me/run\" target=\"_blank\">docs</a>)<br/>"
      ],
      "text/plain": [
       "<IPython.core.display.HTML object>"
      ]
     },
     "metadata": {},
     "output_type": "display_data"
    }
   ],
   "source": [
    "\n",
    "run = wandb.init(project=\"Regression-linear-Run2\")\n"
   ]
  },
  {
   "cell_type": "code",
   "execution_count": 8,
   "metadata": {
    "id": "mOkVzCMivMKc"
   },
   "outputs": [],
   "source": [
    "wandb.log({\n",
    "    'scores': scores\n",
    "})\n",
    "\n",
    "met_pred['truth']=y_test\n",
    "\n",
    "wandb.log({\n",
    "    'prediction': pd.DataFrame(met_pred)\n",
    "})\n"
   ]
  },
  {
   "cell_type": "code",
   "execution_count": 9,
   "metadata": {
    "id": "7_hqF97Hz-jO"
   },
   "outputs": [],
   "source": [
    "xs=scores.index.to_list()\n",
    "ys=[scores[sk].to_list() for sk in scores.columns.to_list()]\n",
    "\n",
    "wandb.log({\"Score_lines\" : wandb.plot.line_series(\n",
    "          xs=range(len(xs)),\n",
    "          ys=ys,\n",
    "          keys=scores.columns.to_list(),\n",
    "          title=\"scors\",\n",
    "          xname=\"x units\")})"
   ]
  },
  {
   "cell_type": "code",
   "execution_count": 10,
   "metadata": {},
   "outputs": [],
   "source": [
    "bins = np.linspace(-100, 400, 51)\n",
    "for key in met_pred.keys(): \n",
    "    _hist = np.histogram(met_pred[key], bins)\n",
    "    wandb.log({key: wandb.Histogram(np_histogram=_hist)})"
   ]
  },
  {
   "cell_type": "markdown",
   "metadata": {},
   "source": [
    "## plot Et"
   ]
  },
  {
   "cell_type": "code",
   "execution_count": 11,
   "metadata": {},
   "outputs": [],
   "source": [
    "#for plot with ATLAS styple\n",
    "import matplotlib.pyplot as plt\n",
    "from matplotlib import colors\n",
    "import seaborn as sns\n",
    "\n",
    "import mplhep as hep\n",
    "#hep.style.use(hep.style.ROOT) # For now ROOT defaults to CMS\n",
    "# Or choose one of the experiment styles\n",
    "hep.style.use(hep.style.ATLAS)\n",
    "plt.style.use(hep.style.ATLAS)"
   ]
  },
  {
   "cell_type": "code",
   "execution_count": 19,
   "metadata": {},
   "outputs": [
    {
     "data": {
      "image/png": "[encoded data removed]",
      "text/plain": [
       "<Figure size 800x600 with 1 Axes>"
      ]
     },
     "metadata": {},
     "output_type": "display_data"
    }
   ],
   "source": [
    "#bin all predicted METs\n",
    "bins = np.linspace(-100, 400, 51)\n",
    "fig, axs = plt.subplots()\n",
    "def get_h(key):\n",
    "    h, _ = np.histogram(met_pred[key]*1000, bins)\n",
    "    return h\n",
    "    \n",
    "hep.histplot([get_h(key) for key in met_pred.keys()],bins,\n",
    "             ax=axs, label=[key for key in met_pred.keys()] )\n",
    "axs.legend()\n",
    "axs.set_xlabel(r\"$E_{t}^{miss}$ [GeV]\")\n",
    "axs.set_ylabel(r\"Events/10GeV\")\n",
    "axs.set_yscale('log')\n",
    "axs.set_title(r\"Run2, $t \\bar t$\")\n",
    "\n",
    "wandb.log({\"final_plot_log\":wandb.Image(plt)})"
   ]
  },
  {
   "cell_type": "code",
   "execution_count": 18,
   "metadata": {},
   "outputs": [
    {
     "data": {
      "text/plain": [
       "ColormeshArtists(pcolormesh=<matplotlib.collections.QuadMesh object at 0x151c9cc10>, cbar=<matplotlib.colorbar.Colorbar object at 0x151cac280>, text=[])"
      ]
     },
     "execution_count": 18,
     "metadata": {},
     "output_type": "execute_result"
    },
    {
     "data": {
      "image/png": "[encoded data removed]",
      "text/plain": [
       "<Figure size 800x600 with 2 Axes>"
      ]
     },
     "metadata": {},
     "output_type": "display_data"
    }
   ],
   "source": [
    "fig2D, axs2D = plt.subplots()\n",
    "H, xedges, yedges = np.histogram2d(met_pred['truth']*1000, met_pred['lr']*1000, bins=(bins, bins))\n",
    "H[H==0]=np.NaN\n",
    "hep.hist2dplot(H, xedges, yedges)\n"
   ]
  },
  {
   "cell_type": "code",
   "execution_count": 17,
   "metadata": {},
   "outputs": [
    {
     "data": {
      "text/html": [
       "<div>\n",
       "<style scoped>\n",
       "    .dataframe tbody tr th:only-of-type {\n",
       "        vertical-align: middle;\n",
       "    }\n",
       "\n",
       "    .dataframe tbody tr th {\n",
       "        vertical-align: top;\n",
       "    }\n",
       "\n",
       "    .dataframe thead th {\n",
       "        text-align: right;\n",
       "    }\n",
       "</style>\n",
       "<table border=\"1\" class=\"dataframe\">\n",
       "  <thead>\n",
       "    <tr style=\"text-align: right;\">\n",
       "      <th></th>\n",
       "      <th>train</th>\n",
       "      <th>test</th>\n",
       "      <th>test_r2</th>\n",
       "    </tr>\n",
       "  </thead>\n",
       "  <tbody>\n",
       "    <tr>\n",
       "      <th>lr</th>\n",
       "      <td>0.138052</td>\n",
       "      <td>-0.060306</td>\n",
       "      <td>-0.060306</td>\n",
       "    </tr>\n",
       "    <tr>\n",
       "      <th>kr</th>\n",
       "      <td>0.278130</td>\n",
       "      <td>-0.101828</td>\n",
       "      <td>-0.101828</td>\n",
       "    </tr>\n",
       "    <tr>\n",
       "      <th>dtr</th>\n",
       "      <td>1.000000</td>\n",
       "      <td>-1.077462</td>\n",
       "      <td>-1.077462</td>\n",
       "    </tr>\n",
       "  </tbody>\n",
       "</table>\n",
       "</div>"
      ],
      "text/plain": [
       "        train      test   test_r2\n",
       "lr   0.138052 -0.060306 -0.060306\n",
       "kr   0.278130 -0.101828 -0.101828\n",
       "dtr  1.000000 -1.077462 -1.077462"
      ]
     },
     "execution_count": 17,
     "metadata": {},
     "output_type": "execute_result"
    }
   ],
   "source": [
    "scores"
   ]
  },
  {
   "cell_type": "code",
   "execution_count": 14,
   "metadata": {},
   "outputs": [
    {
     "data": {
      "text/plain": [
       "array([0.08372609, 0.09083495, 0.07906449, ..., 0.02610992, 0.05224995,\n",
       "       0.06560219])"
      ]
     },
     "execution_count": 14,
     "metadata": {},
     "output_type": "execute_result"
    }
   ],
   "source": [
    "y_test"
   ]
  },
  {
   "cell_type": "code",
   "execution_count": null,
   "metadata": {},
   "outputs": [],
   "source": []
  }
 ],
 "metadata": {
  "colab": {
   "authorship_tag": "ABX9TyOy3AWEqJkbWWFud1bEOXD8",
   "include_colab_link": true,
   "mount_file_id": "12mERcdynXOGELt0kl_GWPwTSB_94XEPo",
   "provenance": []
  },
  "gpuClass": "standard",
  "kernelspec": {
   "display_name": "Python 3 (ipykernel)",
   "language": "python",
   "name": "python3"
  },
  "language_info": {
   "codemirror_mode": {
    "name": "ipython",
    "version": 3
   },
   "file_extension": ".py",
   "mimetype": "text/x-python",
   "name": "python",
   "nbconvert_exporter": "python",
   "pygments_lexer": "ipython3",
   "version": "3.9.12"
  }
 },
 "nbformat": 4,
 "nbformat_minor": 4
}
